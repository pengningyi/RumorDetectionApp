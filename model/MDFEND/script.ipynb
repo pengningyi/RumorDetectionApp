{
 "cells": [
  {
   "cell_type": "code",
   "execution_count": 1,
   "metadata": {},
   "outputs": [],
   "source": [
    "from models.mdfend import MultiDomainFENDModel\n",
    "import torch"
   ]
  },
  {
   "cell_type": "code",
   "execution_count": 6,
   "metadata": {},
   "outputs": [],
   "source": [
    "config = {\n",
    "        'use_cuda': True,\n",
    "        'batchsize': 64,\n",
    "        'max_len': 170,\n",
    "        'early_stop': 10,\n",
    "        'num_workers': 4,\n",
    "        'vocab_file': './pretrained_model/chinese_roberta_wwm_base_ext_pytorch/vocab.txt',\n",
    "        'emb_type': 'bert',\n",
    "        'bert': './pretrained_model/chinese_roberta_wwm_base_ext_pytorch',\n",
    "        'root_path': './data/weibo21/',\n",
    "        'weight_decay': 5e-5,\n",
    "        'model':\n",
    "            {\n",
    "            'mlp': {'dims': [384], 'dropout': 0.2}\n",
    "            },\n",
    "        'emb_dim':768,\n",
    "        'lr': 0.0005,\n",
    "        'epoch': 50,\n",
    "        'model_name': 'mdfend',\n",
    "        'seed': 2021,\n",
    "        'save_param_dir': './param_model'\n",
    "        }\n"
   ]
  },
  {
   "cell_type": "code",
   "execution_count": 7,
   "metadata": {},
   "outputs": [],
   "source": [
    "from run import Run\n",
    "run = Run(config)"
   ]
  },
  {
   "cell_type": "code",
   "execution_count": 8,
   "metadata": {},
   "outputs": [
    {
     "name": "stderr",
     "output_type": "stream",
     "text": [
      "/usr/local/lib/python3.8/dist-packages/torch/_utils.py:776: UserWarning: TypedStorage is deprecated. It will be removed in the future and UntypedStorage will be the only storage class. This should only matter to you if you are using storages directly.  To access UntypedStorage directly, use tensor.untyped_storage() instead of tensor.storage()\n",
      "  return self.fget.__get__(instance, owner)()\n",
      "100%|██████████| 86/86 [00:22<00:00,  3.81it/s]\n"
     ]
    },
    {
     "name": "stdout",
     "output_type": "stream",
     "text": [
      "Training Epoch 1; Loss 0.3499023983644883; \n"
     ]
    },
    {
     "name": "stderr",
     "output_type": "stream",
     "text": [
      "100%|██████████| 29/29 [00:06<00:00,  4.28it/s]\n"
     ]
    },
    {
     "name": "stdout",
     "output_type": "stream",
     "text": [
      "curent {'科技': {'precision': 0.8417, 'recall': 0.8324, 'fscore': 0.8366, 'auc': 0.9137, 'acc': 0.8511}, '军事': {'precision': 0.9057, 'recall': 0.8139, 'fscore': 0.8472, 'auc': 0.9129, 'acc': 0.8986}, '教育考试': {'precision': 0.85, 'recall': 0.8292, 'fscore': 0.8243, 'auc': 0.9462, 'acc': 0.8265}, '灾难事故': {'precision': 0.9259, 'recall': 0.7863, 'fscore': 0.8331, 'auc': 0.9742, 'acc': 0.9097}, '政治': {'precision': 0.9162, 'recall': 0.8547, 'fscore': 0.8729, 'auc': 0.9682, 'acc': 0.8882}, '医药健康': {'precision': 0.8859, 'recall': 0.8876, 'fscore': 0.8849, 'auc': 0.9601, 'acc': 0.885}, '财经商业': {'precision': 0.834, 'recall': 0.9174, 'fscore': 0.8584, 'auc': 0.9788, 'acc': 0.8826}, '文体娱乐': {'precision': 0.8559, 'recall': 0.8959, 'fscore': 0.8692, 'auc': 0.9728, 'acc': 0.8819}, '社会生活': {'precision': 0.9063, 'recall': 0.8663, 'fscore': 0.8763, 'auc': 0.952, 'acc': 0.8839}, 'auc': 0.96456767165678, 'metric': 0.8821509096000464, 'recall': 0.8840861749590965, 'precision': 0.8937263565433267, 'acc': 0.8827397260273973}\n",
      "Max {'科技': {'precision': 0.8417, 'recall': 0.8324, 'fscore': 0.8366, 'auc': 0.9137, 'acc': 0.8511}, '军事': {'precision': 0.9057, 'recall': 0.8139, 'fscore': 0.8472, 'auc': 0.9129, 'acc': 0.8986}, '教育考试': {'precision': 0.85, 'recall': 0.8292, 'fscore': 0.8243, 'auc': 0.9462, 'acc': 0.8265}, '灾难事故': {'precision': 0.9259, 'recall': 0.7863, 'fscore': 0.8331, 'auc': 0.9742, 'acc': 0.9097}, '政治': {'precision': 0.9162, 'recall': 0.8547, 'fscore': 0.8729, 'auc': 0.9682, 'acc': 0.8882}, '医药健康': {'precision': 0.8859, 'recall': 0.8876, 'fscore': 0.8849, 'auc': 0.9601, 'acc': 0.885}, '财经商业': {'precision': 0.834, 'recall': 0.9174, 'fscore': 0.8584, 'auc': 0.9788, 'acc': 0.8826}, '文体娱乐': {'precision': 0.8559, 'recall': 0.8959, 'fscore': 0.8692, 'auc': 0.9728, 'acc': 0.8819}, '社会生活': {'precision': 0.9063, 'recall': 0.8663, 'fscore': 0.8763, 'auc': 0.952, 'acc': 0.8839}, 'auc': 0.96456767165678, 'metric': 0.8821509096000464, 'recall': 0.8840861749590965, 'precision': 0.8937263565433267, 'acc': 0.8827397260273973}\n"
     ]
    },
    {
     "name": "stderr",
     "output_type": "stream",
     "text": [
      "100%|██████████| 86/86 [00:23<00:00,  3.72it/s]\n"
     ]
    },
    {
     "name": "stdout",
     "output_type": "stream",
     "text": [
      "Training Epoch 2; Loss 0.13532111148328282; \n"
     ]
    },
    {
     "name": "stderr",
     "output_type": "stream",
     "text": [
      "100%|██████████| 29/29 [00:06<00:00,  4.17it/s]\n"
     ]
    },
    {
     "name": "stdout",
     "output_type": "stream",
     "text": [
      "curent {'科技': {'precision': 0.769, 'recall': 0.7912, 'fscore': 0.7621, 'auc': 0.9039, 'acc': 0.766}, '军事': {'precision': 0.8021, 'recall': 0.8445, 'fscore': 0.8184, 'auc': 0.9299, 'acc': 0.8551}, '教育考试': {'precision': 0.8429, 'recall': 0.8288, 'fscore': 0.8251, 'auc': 0.9492, 'acc': 0.8265}, '灾难事故': {'precision': 0.9306, 'recall': 0.8024, 'fscore': 0.8475, 'auc': 0.9722, 'acc': 0.9161}, '政治': {'precision': 0.9162, 'recall': 0.8843, 'fscore': 0.8962, 'auc': 0.964, 'acc': 0.9059}, '医药健康': {'precision': 0.9159, 'recall': 0.9177, 'fscore': 0.9149, 'auc': 0.965, 'acc': 0.915}, '财经商业': {'precision': 0.9137, 'recall': 0.9354, 'fscore': 0.9239, 'auc': 0.9854, 'acc': 0.9432}, '文体娱乐': {'precision': 0.8706, 'recall': 0.9123, 'fscore': 0.8846, 'auc': 0.9814, 'acc': 0.8958}, '社会生活': {'precision': 0.8986, 'recall': 0.8664, 'fscore': 0.8752, 'auc': 0.9561, 'acc': 0.882}, 'auc': 0.9678429591829381, 'metric': 0.8945548916419104, 'recall': 0.8957782246536112, 'precision': 0.900635249539736, 'acc': 0.8947945205479452}\n",
      "Max {'科技': {'precision': 0.769, 'recall': 0.7912, 'fscore': 0.7621, 'auc': 0.9039, 'acc': 0.766}, '军事': {'precision': 0.8021, 'recall': 0.8445, 'fscore': 0.8184, 'auc': 0.9299, 'acc': 0.8551}, '教育考试': {'precision': 0.8429, 'recall': 0.8288, 'fscore': 0.8251, 'auc': 0.9492, 'acc': 0.8265}, '灾难事故': {'precision': 0.9306, 'recall': 0.8024, 'fscore': 0.8475, 'auc': 0.9722, 'acc': 0.9161}, '政治': {'precision': 0.9162, 'recall': 0.8843, 'fscore': 0.8962, 'auc': 0.964, 'acc': 0.9059}, '医药健康': {'precision': 0.9159, 'recall': 0.9177, 'fscore': 0.9149, 'auc': 0.965, 'acc': 0.915}, '财经商业': {'precision': 0.9137, 'recall': 0.9354, 'fscore': 0.9239, 'auc': 0.9854, 'acc': 0.9432}, '文体娱乐': {'precision': 0.8706, 'recall': 0.9123, 'fscore': 0.8846, 'auc': 0.9814, 'acc': 0.8958}, '社会生活': {'precision': 0.8986, 'recall': 0.8664, 'fscore': 0.8752, 'auc': 0.9561, 'acc': 0.882}, 'auc': 0.9678429591829381, 'metric': 0.8945548916419104, 'recall': 0.8957782246536112, 'precision': 0.900635249539736, 'acc': 0.8947945205479452}\n"
     ]
    },
    {
     "name": "stderr",
     "output_type": "stream",
     "text": [
      "100%|██████████| 86/86 [00:23<00:00,  3.66it/s]\n"
     ]
    },
    {
     "name": "stdout",
     "output_type": "stream",
     "text": [
      "Training Epoch 3; Loss 0.056294158231033835; \n"
     ]
    },
    {
     "name": "stderr",
     "output_type": "stream",
     "text": [
      "100%|██████████| 29/29 [00:07<00:00,  4.13it/s]\n"
     ]
    },
    {
     "name": "stdout",
     "output_type": "stream",
     "text": [
      "curent {'科技': {'precision': 0.8372, 'recall': 0.8451, 'fscore': 0.8407, 'auc': 0.9569, 'acc': 0.8511}, '军事': {'precision': 0.8595, 'recall': 0.8733, 'fscore': 0.866, 'auc': 0.9468, 'acc': 0.8986}, '教育考试': {'precision': 0.8912, 'recall': 0.8888, 'fscore': 0.8876, 'auc': 0.9538, 'acc': 0.8878}, '灾难事故': {'precision': 0.9076, 'recall': 0.7984, 'fscore': 0.8383, 'auc': 0.9737, 'acc': 0.9097}, '政治': {'precision': 0.934, 'recall': 0.9046, 'fscore': 0.916, 'auc': 0.9668, 'acc': 0.9235}, '医药健康': {'precision': 0.8959, 'recall': 0.8976, 'fscore': 0.8949, 'auc': 0.9605, 'acc': 0.895}, '财经商业': {'precision': 0.8842, 'recall': 0.923, 'fscore': 0.901, 'auc': 0.9779, 'acc': 0.9242}, '文体娱乐': {'precision': 0.9453, 'recall': 0.9395, 'fscore': 0.9424, 'auc': 0.982, 'acc': 0.9514}, '社会生活': {'precision': 0.9215, 'recall': 0.9172, 'fscore': 0.9192, 'auc': 0.968, 'acc': 0.9213}, 'auc': 0.973766466533565, 'metric': 0.9183463579788153, 'recall': 0.9187622980950116, 'precision': 0.9192558685502474, 'acc': 0.9183561643835616}\n",
      "Max {'科技': {'precision': 0.8372, 'recall': 0.8451, 'fscore': 0.8407, 'auc': 0.9569, 'acc': 0.8511}, '军事': {'precision': 0.8595, 'recall': 0.8733, 'fscore': 0.866, 'auc': 0.9468, 'acc': 0.8986}, '教育考试': {'precision': 0.8912, 'recall': 0.8888, 'fscore': 0.8876, 'auc': 0.9538, 'acc': 0.8878}, '灾难事故': {'precision': 0.9076, 'recall': 0.7984, 'fscore': 0.8383, 'auc': 0.9737, 'acc': 0.9097}, '政治': {'precision': 0.934, 'recall': 0.9046, 'fscore': 0.916, 'auc': 0.9668, 'acc': 0.9235}, '医药健康': {'precision': 0.8959, 'recall': 0.8976, 'fscore': 0.8949, 'auc': 0.9605, 'acc': 0.895}, '财经商业': {'precision': 0.8842, 'recall': 0.923, 'fscore': 0.901, 'auc': 0.9779, 'acc': 0.9242}, '文体娱乐': {'precision': 0.9453, 'recall': 0.9395, 'fscore': 0.9424, 'auc': 0.982, 'acc': 0.9514}, '社会生活': {'precision': 0.9215, 'recall': 0.9172, 'fscore': 0.9192, 'auc': 0.968, 'acc': 0.9213}, 'auc': 0.973766466533565, 'metric': 0.9183463579788153, 'recall': 0.9187622980950116, 'precision': 0.9192558685502474, 'acc': 0.9183561643835616}\n"
     ]
    },
    {
     "name": "stderr",
     "output_type": "stream",
     "text": [
      "100%|██████████| 86/86 [00:23<00:00,  3.64it/s]\n"
     ]
    },
    {
     "name": "stdout",
     "output_type": "stream",
     "text": [
      "Training Epoch 4; Loss 0.02098847313264255; \n"
     ]
    },
    {
     "name": "stderr",
     "output_type": "stream",
     "text": [
      "100%|██████████| 29/29 [00:07<00:00,  4.11it/s]\n"
     ]
    },
    {
     "name": "stdout",
     "output_type": "stream",
     "text": [
      "curent {'科技': {'precision': 0.9167, 'recall': 0.8235, 'fscore': 0.8474, 'auc': 0.9431, 'acc': 0.8723}, '军事': {'precision': 0.7863, 'recall': 0.8348, 'fscore': 0.8034, 'auc': 0.8982, 'acc': 0.8406}, '教育考试': {'precision': 0.8466, 'recall': 0.835, 'fscore': 0.835, 'auc': 0.9529, 'acc': 0.8367}, '灾难事故': {'precision': 0.8734, 'recall': 0.8911, 'fscore': 0.8819, 'auc': 0.9677, 'acc': 0.9226}, '政治': {'precision': 0.862, 'recall': 0.8853, 'fscore': 0.8622, 'auc': 0.9662, 'acc': 0.8647}, '医药健康': {'precision': 0.9139, 'recall': 0.8878, 'fscore': 0.8921, 'auc': 0.9741, 'acc': 0.895}, '财经商业': {'precision': 0.9053, 'recall': 0.8154, 'fscore': 0.8487, 'auc': 0.9713, 'acc': 0.9015}, '文体娱乐': {'precision': 0.9468, 'recall': 0.8984, 'fscore': 0.9181, 'auc': 0.9857, 'acc': 0.934}, '社会生活': {'precision': 0.8829, 'recall': 0.8916, 'fscore': 0.8831, 'auc': 0.9669, 'acc': 0.8839}, 'auc': 0.9731742359264144, 'metric': 0.8918019973526727, 'recall': 0.8914608274891104, 'precision': 0.9011448267372437, 'acc': 0.8926027397260274}\n",
      "Max {'科技': {'precision': 0.8372, 'recall': 0.8451, 'fscore': 0.8407, 'auc': 0.9569, 'acc': 0.8511}, '军事': {'precision': 0.8595, 'recall': 0.8733, 'fscore': 0.866, 'auc': 0.9468, 'acc': 0.8986}, '教育考试': {'precision': 0.8912, 'recall': 0.8888, 'fscore': 0.8876, 'auc': 0.9538, 'acc': 0.8878}, '灾难事故': {'precision': 0.9076, 'recall': 0.7984, 'fscore': 0.8383, 'auc': 0.9737, 'acc': 0.9097}, '政治': {'precision': 0.934, 'recall': 0.9046, 'fscore': 0.916, 'auc': 0.9668, 'acc': 0.9235}, '医药健康': {'precision': 0.8959, 'recall': 0.8976, 'fscore': 0.8949, 'auc': 0.9605, 'acc': 0.895}, '财经商业': {'precision': 0.8842, 'recall': 0.923, 'fscore': 0.901, 'auc': 0.9779, 'acc': 0.9242}, '文体娱乐': {'precision': 0.9453, 'recall': 0.9395, 'fscore': 0.9424, 'auc': 0.982, 'acc': 0.9514}, '社会生活': {'precision': 0.9215, 'recall': 0.9172, 'fscore': 0.9192, 'auc': 0.968, 'acc': 0.9213}, 'auc': 0.973766466533565, 'metric': 0.9183463579788153, 'recall': 0.9187622980950116, 'precision': 0.9192558685502474, 'acc': 0.9183561643835616}\n"
     ]
    },
    {
     "name": "stderr",
     "output_type": "stream",
     "text": [
      "100%|██████████| 86/86 [00:23<00:00,  3.64it/s]\n"
     ]
    },
    {
     "name": "stdout",
     "output_type": "stream",
     "text": [
      "Training Epoch 5; Loss 0.019540400146831612; \n"
     ]
    },
    {
     "name": "stderr",
     "output_type": "stream",
     "text": [
      "100%|██████████| 29/29 [00:07<00:00,  4.11it/s]\n"
     ]
    },
    {
     "name": "stdout",
     "output_type": "stream",
     "text": [
      "curent {'科技': {'precision': 0.838, 'recall': 0.8578, 'fscore': 0.844, 'auc': 0.9392, 'acc': 0.8511}, '军事': {'precision': 0.8595, 'recall': 0.8733, 'fscore': 0.866, 'auc': 0.9163, 'acc': 0.8986}, '教育考试': {'precision': 0.8791, 'recall': 0.8692, 'fscore': 0.8667, 'auc': 0.9492, 'acc': 0.8673}, '灾难事故': {'precision': 0.9132, 'recall': 0.8145, 'fscore': 0.8521, 'auc': 0.9698, 'acc': 0.9161}, '政治': {'precision': 0.9095, 'recall': 0.9014, 'fscore': 0.9051, 'auc': 0.9679, 'acc': 0.9118}, '医药健康': {'precision': 0.9196, 'recall': 0.9196, 'fscore': 0.9196, 'auc': 0.9738, 'acc': 0.92}, '财经商业': {'precision': 0.9201, 'recall': 0.9379, 'fscore': 0.9286, 'auc': 0.9849, 'acc': 0.947}, '文体娱乐': {'precision': 0.9193, 'recall': 0.9391, 'fscore': 0.9281, 'auc': 0.982, 'acc': 0.9375}, '社会生活': {'precision': 0.9329, 'recall': 0.9254, 'fscore': 0.9285, 'auc': 0.9628, 'acc': 0.9307}, 'auc': 0.9724979157807232, 'metric': 0.9232793556306647, 'recall': 0.9236863412161269, 'precision': 0.9241510268972766, 'acc': 0.9232876712328767}\n",
      "Max {'科技': {'precision': 0.838, 'recall': 0.8578, 'fscore': 0.844, 'auc': 0.9392, 'acc': 0.8511}, '军事': {'precision': 0.8595, 'recall': 0.8733, 'fscore': 0.866, 'auc': 0.9163, 'acc': 0.8986}, '教育考试': {'precision': 0.8791, 'recall': 0.8692, 'fscore': 0.8667, 'auc': 0.9492, 'acc': 0.8673}, '灾难事故': {'precision': 0.9132, 'recall': 0.8145, 'fscore': 0.8521, 'auc': 0.9698, 'acc': 0.9161}, '政治': {'precision': 0.9095, 'recall': 0.9014, 'fscore': 0.9051, 'auc': 0.9679, 'acc': 0.9118}, '医药健康': {'precision': 0.9196, 'recall': 0.9196, 'fscore': 0.9196, 'auc': 0.9738, 'acc': 0.92}, '财经商业': {'precision': 0.9201, 'recall': 0.9379, 'fscore': 0.9286, 'auc': 0.9849, 'acc': 0.947}, '文体娱乐': {'precision': 0.9193, 'recall': 0.9391, 'fscore': 0.9281, 'auc': 0.982, 'acc': 0.9375}, '社会生活': {'precision': 0.9329, 'recall': 0.9254, 'fscore': 0.9285, 'auc': 0.9628, 'acc': 0.9307}, 'auc': 0.9724979157807232, 'metric': 0.9232793556306647, 'recall': 0.9236863412161269, 'precision': 0.9241510268972766, 'acc': 0.9232876712328767}\n"
     ]
    },
    {
     "name": "stderr",
     "output_type": "stream",
     "text": [
      "100%|██████████| 86/86 [00:23<00:00,  3.63it/s]\n"
     ]
    },
    {
     "name": "stdout",
     "output_type": "stream",
     "text": [
      "Training Epoch 6; Loss 0.011411069792175538; \n"
     ]
    },
    {
     "name": "stderr",
     "output_type": "stream",
     "text": [
      "100%|██████████| 29/29 [00:07<00:00,  4.12it/s]\n"
     ]
    },
    {
     "name": "stdout",
     "output_type": "stream",
     "text": [
      "curent {'科技': {'precision': 0.8157, 'recall': 0.8157, 'fscore': 0.8157, 'auc': 0.9314, 'acc': 0.8298}, '军事': {'precision': 0.9092, 'recall': 0.8925, 'fscore': 0.9004, 'auc': 0.9412, 'acc': 0.9275}, '教育考试': {'precision': 0.8983, 'recall': 0.8983, 'fscore': 0.898, 'auc': 0.9488, 'acc': 0.898}, '灾难事故': {'precision': 0.9186, 'recall': 0.8306, 'fscore': 0.8655, 'auc': 0.9698, 'acc': 0.9226}, '政治': {'precision': 0.9117, 'recall': 0.8874, 'fscore': 0.897, 'auc': 0.9643, 'acc': 0.9059}, '医药健康': {'precision': 0.9157, 'recall': 0.9135, 'fscore': 0.9144, 'auc': 0.976, 'acc': 0.915}, '财经商业': {'precision': 0.9201, 'recall': 0.9379, 'fscore': 0.9286, 'auc': 0.9877, 'acc': 0.947}, '文体娱乐': {'precision': 0.9427, 'recall': 0.9427, 'fscore': 0.9427, 'auc': 0.9855, 'acc': 0.9514}, '社会生活': {'precision': 0.9274, 'recall': 0.9194, 'fscore': 0.9227, 'auc': 0.9677, 'acc': 0.9251}, 'auc': 0.9758212544717615, 'metric': 0.9254788926920074, 'recall': 0.9257567457829097, 'precision': 0.9258437104998822, 'acc': 0.9254794520547945}\n",
      "Max {'科技': {'precision': 0.8157, 'recall': 0.8157, 'fscore': 0.8157, 'auc': 0.9314, 'acc': 0.8298}, '军事': {'precision': 0.9092, 'recall': 0.8925, 'fscore': 0.9004, 'auc': 0.9412, 'acc': 0.9275}, '教育考试': {'precision': 0.8983, 'recall': 0.8983, 'fscore': 0.898, 'auc': 0.9488, 'acc': 0.898}, '灾难事故': {'precision': 0.9186, 'recall': 0.8306, 'fscore': 0.8655, 'auc': 0.9698, 'acc': 0.9226}, '政治': {'precision': 0.9117, 'recall': 0.8874, 'fscore': 0.897, 'auc': 0.9643, 'acc': 0.9059}, '医药健康': {'precision': 0.9157, 'recall': 0.9135, 'fscore': 0.9144, 'auc': 0.976, 'acc': 0.915}, '财经商业': {'precision': 0.9201, 'recall': 0.9379, 'fscore': 0.9286, 'auc': 0.9877, 'acc': 0.947}, '文体娱乐': {'precision': 0.9427, 'recall': 0.9427, 'fscore': 0.9427, 'auc': 0.9855, 'acc': 0.9514}, '社会生活': {'precision': 0.9274, 'recall': 0.9194, 'fscore': 0.9227, 'auc': 0.9677, 'acc': 0.9251}, 'auc': 0.9758212544717615, 'metric': 0.9254788926920074, 'recall': 0.9257567457829097, 'precision': 0.9258437104998822, 'acc': 0.9254794520547945}\n"
     ]
    },
    {
     "name": "stderr",
     "output_type": "stream",
     "text": [
      "100%|██████████| 86/86 [00:23<00:00,  3.63it/s]\n"
     ]
    },
    {
     "name": "stdout",
     "output_type": "stream",
     "text": [
      "Training Epoch 7; Loss 0.006268849923968484; \n"
     ]
    },
    {
     "name": "stderr",
     "output_type": "stream",
     "text": [
      "100%|██████████| 29/29 [00:07<00:00,  4.13it/s]\n"
     ]
    },
    {
     "name": "stdout",
     "output_type": "stream",
     "text": [
      "curent {'科技': {'precision': 0.8372, 'recall': 0.8451, 'fscore': 0.8407, 'auc': 0.9275, 'acc': 0.8511}, '军事': {'precision': 0.9092, 'recall': 0.8925, 'fscore': 0.9004, 'auc': 0.94, 'acc': 0.9275}, '教育考试': {'precision': 0.8912, 'recall': 0.8888, 'fscore': 0.8876, 'auc': 0.9492, 'acc': 0.8878}, '灾难事故': {'precision': 0.9186, 'recall': 0.8306, 'fscore': 0.8655, 'auc': 0.9722, 'acc': 0.9226}, '政治': {'precision': 0.9209, 'recall': 0.903, 'fscore': 0.9105, 'auc': 0.9695, 'acc': 0.9176}, '医药健康': {'precision': 0.9149, 'recall': 0.9142, 'fscore': 0.9145, 'auc': 0.9775, 'acc': 0.915}, '财经商业': {'precision': 0.9201, 'recall': 0.9379, 'fscore': 0.9286, 'auc': 0.9843, 'acc': 0.947}, '文体娱乐': {'precision': 0.9427, 'recall': 0.9427, 'fscore': 0.9427, 'auc': 0.9848, 'acc': 0.9514}, '社会生活': {'precision': 0.9299, 'recall': 0.9243, 'fscore': 0.9268, 'auc': 0.9699, 'acc': 0.9288}, 'auc': 0.9764885650240376, 'metric': 0.9276706899657718, 'recall': 0.9279490801805763, 'precision': 0.9280364927019402, 'acc': 0.9276712328767124}\n",
      "Max {'科技': {'precision': 0.8372, 'recall': 0.8451, 'fscore': 0.8407, 'auc': 0.9275, 'acc': 0.8511}, '军事': {'precision': 0.9092, 'recall': 0.8925, 'fscore': 0.9004, 'auc': 0.94, 'acc': 0.9275}, '教育考试': {'precision': 0.8912, 'recall': 0.8888, 'fscore': 0.8876, 'auc': 0.9492, 'acc': 0.8878}, '灾难事故': {'precision': 0.9186, 'recall': 0.8306, 'fscore': 0.8655, 'auc': 0.9722, 'acc': 0.9226}, '政治': {'precision': 0.9209, 'recall': 0.903, 'fscore': 0.9105, 'auc': 0.9695, 'acc': 0.9176}, '医药健康': {'precision': 0.9149, 'recall': 0.9142, 'fscore': 0.9145, 'auc': 0.9775, 'acc': 0.915}, '财经商业': {'precision': 0.9201, 'recall': 0.9379, 'fscore': 0.9286, 'auc': 0.9843, 'acc': 0.947}, '文体娱乐': {'precision': 0.9427, 'recall': 0.9427, 'fscore': 0.9427, 'auc': 0.9848, 'acc': 0.9514}, '社会生活': {'precision': 0.9299, 'recall': 0.9243, 'fscore': 0.9268, 'auc': 0.9699, 'acc': 0.9288}, 'auc': 0.9764885650240376, 'metric': 0.9276706899657718, 'recall': 0.9279490801805763, 'precision': 0.9280364927019402, 'acc': 0.9276712328767124}\n"
     ]
    },
    {
     "name": "stderr",
     "output_type": "stream",
     "text": [
      "100%|██████████| 86/86 [00:23<00:00,  3.63it/s]\n"
     ]
    },
    {
     "name": "stdout",
     "output_type": "stream",
     "text": [
      "Training Epoch 8; Loss 0.0031083481776159856; \n"
     ]
    },
    {
     "name": "stderr",
     "output_type": "stream",
     "text": [
      "100%|██████████| 29/29 [00:07<00:00,  4.12it/s]\n"
     ]
    },
    {
     "name": "stdout",
     "output_type": "stream",
     "text": [
      "curent {'科技': {'precision': 0.859, 'recall': 0.8745, 'fscore': 0.8649, 'auc': 0.9353, 'acc': 0.8723}, '军事': {'precision': 0.9092, 'recall': 0.8925, 'fscore': 0.9004, 'auc': 0.9219, 'acc': 0.9275}, '教育考试': {'precision': 0.9077, 'recall': 0.8996, 'fscore': 0.8976, 'auc': 0.9571, 'acc': 0.898}, '灾难事故': {'precision': 0.9306, 'recall': 0.8024, 'fscore': 0.8475, 'auc': 0.9688, 'acc': 0.9161}, '政治': {'precision': 0.9298, 'recall': 0.8968, 'fscore': 0.9091, 'auc': 0.9738, 'acc': 0.9176}, '医药健康': {'precision': 0.9004, 'recall': 0.9023, 'fscore': 0.8999, 'auc': 0.9732, 'acc': 0.9}, '财经商业': {'precision': 0.9111, 'recall': 0.9409, 'fscore': 0.9246, 'auc': 0.9871, 'acc': 0.9432}, '文体娱乐': {'precision': 0.9345, 'recall': 0.9345, 'fscore': 0.9345, 'auc': 0.9839, 'acc': 0.9444}, '社会生活': {'precision': 0.9316, 'recall': 0.9137, 'fscore': 0.92, 'auc': 0.9665, 'acc': 0.9232}, 'auc': 0.9754716822472569, 'metric': 0.923241002223157, 'recall': 0.9239127823306257, 'precision': 0.9256153541844567, 'acc': 0.9232876712328767}\n",
      "Max {'科技': {'precision': 0.8372, 'recall': 0.8451, 'fscore': 0.8407, 'auc': 0.9275, 'acc': 0.8511}, '军事': {'precision': 0.9092, 'recall': 0.8925, 'fscore': 0.9004, 'auc': 0.94, 'acc': 0.9275}, '教育考试': {'precision': 0.8912, 'recall': 0.8888, 'fscore': 0.8876, 'auc': 0.9492, 'acc': 0.8878}, '灾难事故': {'precision': 0.9186, 'recall': 0.8306, 'fscore': 0.8655, 'auc': 0.9722, 'acc': 0.9226}, '政治': {'precision': 0.9209, 'recall': 0.903, 'fscore': 0.9105, 'auc': 0.9695, 'acc': 0.9176}, '医药健康': {'precision': 0.9149, 'recall': 0.9142, 'fscore': 0.9145, 'auc': 0.9775, 'acc': 0.915}, '财经商业': {'precision': 0.9201, 'recall': 0.9379, 'fscore': 0.9286, 'auc': 0.9843, 'acc': 0.947}, '文体娱乐': {'precision': 0.9427, 'recall': 0.9427, 'fscore': 0.9427, 'auc': 0.9848, 'acc': 0.9514}, '社会生活': {'precision': 0.9299, 'recall': 0.9243, 'fscore': 0.9268, 'auc': 0.9699, 'acc': 0.9288}, 'auc': 0.9764885650240376, 'metric': 0.9276706899657718, 'recall': 0.9279490801805763, 'precision': 0.9280364927019402, 'acc': 0.9276712328767124}\n"
     ]
    },
    {
     "name": "stderr",
     "output_type": "stream",
     "text": [
      "100%|██████████| 86/86 [00:23<00:00,  3.62it/s]\n"
     ]
    },
    {
     "name": "stdout",
     "output_type": "stream",
     "text": [
      "Training Epoch 9; Loss 0.0021727009091612897; \n"
     ]
    },
    {
     "name": "stderr",
     "output_type": "stream",
     "text": [
      "100%|██████████| 29/29 [00:07<00:00,  4.12it/s]\n"
     ]
    },
    {
     "name": "stdout",
     "output_type": "stream",
     "text": [
      "curent {'科技': {'precision': 0.8417, 'recall': 0.8324, 'fscore': 0.8366, 'auc': 0.9294, 'acc': 0.8511}, '军事': {'precision': 0.9389, 'recall': 0.9021, 'fscore': 0.9186, 'auc': 0.9174, 'acc': 0.942}, '教育考试': {'precision': 0.8878, 'recall': 0.8879, 'fscore': 0.8877, 'auc': 0.9521, 'acc': 0.8878}, '灾难事故': {'precision': 0.9076, 'recall': 0.7984, 'fscore': 0.8383, 'auc': 0.9763, 'acc': 0.9097}, '政治': {'precision': 0.9383, 'recall': 0.9124, 'fscore': 0.9227, 'auc': 0.9709, 'acc': 0.9294}, '医药健康': {'precision': 0.9168, 'recall': 0.9128, 'fscore': 0.9142, 'auc': 0.9728, 'acc': 0.915}, '财经商业': {'precision': 0.9236, 'recall': 0.9459, 'fscore': 0.934, 'auc': 0.9867, 'acc': 0.9508}, '文体娱乐': {'precision': 0.9255, 'recall': 0.9384, 'fscore': 0.9315, 'auc': 0.987, 'acc': 0.941}, '社会生活': {'precision': 0.9282, 'recall': 0.9188, 'fscore': 0.9226, 'auc': 0.9644, 'acc': 0.9251}, 'auc': 0.9754182253263276, 'metric': 0.9260241989070047, 'recall': 0.9263657942977683, 'precision': 0.9266179380109958, 'acc': 0.9260273972602739}\n",
      "Max {'科技': {'precision': 0.8372, 'recall': 0.8451, 'fscore': 0.8407, 'auc': 0.9275, 'acc': 0.8511}, '军事': {'precision': 0.9092, 'recall': 0.8925, 'fscore': 0.9004, 'auc': 0.94, 'acc': 0.9275}, '教育考试': {'precision': 0.8912, 'recall': 0.8888, 'fscore': 0.8876, 'auc': 0.9492, 'acc': 0.8878}, '灾难事故': {'precision': 0.9186, 'recall': 0.8306, 'fscore': 0.8655, 'auc': 0.9722, 'acc': 0.9226}, '政治': {'precision': 0.9209, 'recall': 0.903, 'fscore': 0.9105, 'auc': 0.9695, 'acc': 0.9176}, '医药健康': {'precision': 0.9149, 'recall': 0.9142, 'fscore': 0.9145, 'auc': 0.9775, 'acc': 0.915}, '财经商业': {'precision': 0.9201, 'recall': 0.9379, 'fscore': 0.9286, 'auc': 0.9843, 'acc': 0.947}, '文体娱乐': {'precision': 0.9427, 'recall': 0.9427, 'fscore': 0.9427, 'auc': 0.9848, 'acc': 0.9514}, '社会生活': {'precision': 0.9299, 'recall': 0.9243, 'fscore': 0.9268, 'auc': 0.9699, 'acc': 0.9288}, 'auc': 0.9764885650240376, 'metric': 0.9276706899657718, 'recall': 0.9279490801805763, 'precision': 0.9280364927019402, 'acc': 0.9276712328767124}\n"
     ]
    },
    {
     "name": "stderr",
     "output_type": "stream",
     "text": [
      "100%|██████████| 86/86 [00:23<00:00,  3.62it/s]\n"
     ]
    },
    {
     "name": "stdout",
     "output_type": "stream",
     "text": [
      "Training Epoch 10; Loss 0.002382212840318462; \n"
     ]
    },
    {
     "name": "stderr",
     "output_type": "stream",
     "text": [
      "100%|██████████| 29/29 [00:07<00:00,  4.14it/s]\n"
     ]
    },
    {
     "name": "stdout",
     "output_type": "stream",
     "text": [
      "curent {'科技': {'precision': 0.8708, 'recall': 0.849, 'fscore': 0.8579, 'auc': 0.9392, 'acc': 0.8723}, '军事': {'precision': 0.8829, 'recall': 0.8829, 'fscore': 0.8829, 'auc': 0.94, 'acc': 0.913}, '教育考试': {'precision': 0.888, 'recall': 0.8875, 'fscore': 0.8876, 'auc': 0.9525, 'acc': 0.8878}, '灾难事故': {'precision': 0.886, 'recall': 0.8669, 'fscore': 0.876, 'auc': 0.9787, 'acc': 0.9226}, '政治': {'precision': 0.9071, 'recall': 0.9045, 'fscore': 0.9057, 'auc': 0.9705, 'acc': 0.9118}, '医药健康': {'precision': 0.9081, 'recall': 0.9021, 'fscore': 0.9039, 'auc': 0.9734, 'acc': 0.905}, '财经商业': {'precision': 0.927, 'recall': 0.927, 'fscore': 0.927, 'auc': 0.9857, 'acc': 0.947}, '文体娱乐': {'precision': 0.9566, 'recall': 0.9445, 'fscore': 0.9503, 'auc': 0.9874, 'acc': 0.9583}, '社会生活': {'precision': 0.9217, 'recall': 0.9212, 'fscore': 0.9214, 'auc': 0.9708, 'acc': 0.9232}, 'auc': 0.9776315821086292, 'metric': 0.9254454051300289, 'recall': 0.9253735377429888, 'precision': 0.9255729181689694, 'acc': 0.9254794520547945}\n",
      "Max {'科技': {'precision': 0.8372, 'recall': 0.8451, 'fscore': 0.8407, 'auc': 0.9275, 'acc': 0.8511}, '军事': {'precision': 0.9092, 'recall': 0.8925, 'fscore': 0.9004, 'auc': 0.94, 'acc': 0.9275}, '教育考试': {'precision': 0.8912, 'recall': 0.8888, 'fscore': 0.8876, 'auc': 0.9492, 'acc': 0.8878}, '灾难事故': {'precision': 0.9186, 'recall': 0.8306, 'fscore': 0.8655, 'auc': 0.9722, 'acc': 0.9226}, '政治': {'precision': 0.9209, 'recall': 0.903, 'fscore': 0.9105, 'auc': 0.9695, 'acc': 0.9176}, '医药健康': {'precision': 0.9149, 'recall': 0.9142, 'fscore': 0.9145, 'auc': 0.9775, 'acc': 0.915}, '财经商业': {'precision': 0.9201, 'recall': 0.9379, 'fscore': 0.9286, 'auc': 0.9843, 'acc': 0.947}, '文体娱乐': {'precision': 0.9427, 'recall': 0.9427, 'fscore': 0.9427, 'auc': 0.9848, 'acc': 0.9514}, '社会生活': {'precision': 0.9299, 'recall': 0.9243, 'fscore': 0.9268, 'auc': 0.9699, 'acc': 0.9288}, 'auc': 0.9764885650240376, 'metric': 0.9276706899657718, 'recall': 0.9279490801805763, 'precision': 0.9280364927019402, 'acc': 0.9276712328767124}\n"
     ]
    },
    {
     "name": "stderr",
     "output_type": "stream",
     "text": [
      "100%|██████████| 86/86 [00:23<00:00,  3.62it/s]\n"
     ]
    },
    {
     "name": "stdout",
     "output_type": "stream",
     "text": [
      "Training Epoch 11; Loss 0.004832000484849805; \n"
     ]
    },
    {
     "name": "stderr",
     "output_type": "stream",
     "text": [
      "100%|██████████| 29/29 [00:07<00:00,  4.12it/s]\n"
     ]
    },
    {
     "name": "stdout",
     "output_type": "stream",
     "text": [
      "curent {'科技': {'precision': 0.8891, 'recall': 0.8784, 'fscore': 0.8833, 'auc': 0.8824, 'acc': 0.8936}, '军事': {'precision': 0.7773, 'recall': 0.845, 'fscore': 0.7946, 'auc': 0.9536, 'acc': 0.8261}, '教育考试': {'precision': 0.8598, 'recall': 0.8562, 'fscore': 0.8566, 'auc': 0.9458, 'acc': 0.8571}, '灾难事故': {'precision': 0.9054, 'recall': 0.8427, 'fscore': 0.8692, 'auc': 0.9789, 'acc': 0.9226}, '政治': {'precision': 0.9023, 'recall': 0.9169, 'fscore': 0.9079, 'auc': 0.9652, 'acc': 0.9118}, '医药健康': {'precision': 0.9269, 'recall': 0.9229, 'fscore': 0.9243, 'auc': 0.9711, 'acc': 0.925}, '财经商业': {'precision': 0.9105, 'recall': 0.8873, 'fscore': 0.8981, 'auc': 0.9756, 'acc': 0.928}, '文体娱乐': {'precision': 0.9586, 'recall': 0.9268, 'fscore': 0.9408, 'auc': 0.9882, 'acc': 0.9514}, '社会生活': {'precision': 0.9178, 'recall': 0.9173, 'fscore': 0.9176, 'auc': 0.9644, 'acc': 0.9195}, 'auc': 0.9714780298061376, 'metric': 0.9182618272738723, 'recall': 0.9180481376569771, 'precision': 0.919078155105973, 'acc': 0.9183561643835616}\n",
      "Max {'科技': {'precision': 0.8372, 'recall': 0.8451, 'fscore': 0.8407, 'auc': 0.9275, 'acc': 0.8511}, '军事': {'precision': 0.9092, 'recall': 0.8925, 'fscore': 0.9004, 'auc': 0.94, 'acc': 0.9275}, '教育考试': {'precision': 0.8912, 'recall': 0.8888, 'fscore': 0.8876, 'auc': 0.9492, 'acc': 0.8878}, '灾难事故': {'precision': 0.9186, 'recall': 0.8306, 'fscore': 0.8655, 'auc': 0.9722, 'acc': 0.9226}, '政治': {'precision': 0.9209, 'recall': 0.903, 'fscore': 0.9105, 'auc': 0.9695, 'acc': 0.9176}, '医药健康': {'precision': 0.9149, 'recall': 0.9142, 'fscore': 0.9145, 'auc': 0.9775, 'acc': 0.915}, '财经商业': {'precision': 0.9201, 'recall': 0.9379, 'fscore': 0.9286, 'auc': 0.9843, 'acc': 0.947}, '文体娱乐': {'precision': 0.9427, 'recall': 0.9427, 'fscore': 0.9427, 'auc': 0.9848, 'acc': 0.9514}, '社会生活': {'precision': 0.9299, 'recall': 0.9243, 'fscore': 0.9268, 'auc': 0.9699, 'acc': 0.9288}, 'auc': 0.9764885650240376, 'metric': 0.9276706899657718, 'recall': 0.9279490801805763, 'precision': 0.9280364927019402, 'acc': 0.9276712328767124}\n"
     ]
    },
    {
     "name": "stderr",
     "output_type": "stream",
     "text": [
      "100%|██████████| 86/86 [00:23<00:00,  3.62it/s]\n"
     ]
    },
    {
     "name": "stdout",
     "output_type": "stream",
     "text": [
      "Training Epoch 12; Loss 0.011571189542273923; \n"
     ]
    },
    {
     "name": "stderr",
     "output_type": "stream",
     "text": [
      "100%|██████████| 29/29 [00:07<00:00,  4.13it/s]\n"
     ]
    },
    {
     "name": "stdout",
     "output_type": "stream",
     "text": [
      "curent {'科技': {'precision': 0.8348, 'recall': 0.7902, 'fscore': 0.8042, 'auc': 0.9157, 'acc': 0.8298}, '军事': {'precision': 0.8829, 'recall': 0.8829, 'fscore': 0.8829, 'auc': 0.884, 'acc': 0.913}, '教育考试': {'precision': 0.8598, 'recall': 0.845, 'fscore': 0.845, 'auc': 0.9562, 'acc': 0.8469}, '灾难事故': {'precision': 0.8582, 'recall': 0.8992, 'fscore': 0.8762, 'auc': 0.9763, 'acc': 0.9161}, '政治': {'precision': 0.9176, 'recall': 0.9201, 'fscore': 0.9188, 'auc': 0.9637, 'acc': 0.9235}, '医药健康': {'precision': 0.883, 'recall': 0.8455, 'fscore': 0.8493, 'auc': 0.9499, 'acc': 0.855}, '财经商业': {'precision': 0.9184, 'recall': 0.8898, 'fscore': 0.9029, 'auc': 0.9754, 'acc': 0.9318}, '文体娱乐': {'precision': 0.9717, 'recall': 0.9318, 'fscore': 0.9489, 'auc': 0.9863, 'acc': 0.9583}, '社会生活': {'precision': 0.8677, 'recall': 0.8758, 'fscore': 0.8647, 'auc': 0.9582, 'acc': 0.8652}, 'auc': 0.9688490304476206, 'metric': 0.8974875154923861, 'recall': 0.8970984304086992, 'precision': 0.9045286334555458, 'acc': 0.8980821917808219}\n",
      "Max {'科技': {'precision': 0.8372, 'recall': 0.8451, 'fscore': 0.8407, 'auc': 0.9275, 'acc': 0.8511}, '军事': {'precision': 0.9092, 'recall': 0.8925, 'fscore': 0.9004, 'auc': 0.94, 'acc': 0.9275}, '教育考试': {'precision': 0.8912, 'recall': 0.8888, 'fscore': 0.8876, 'auc': 0.9492, 'acc': 0.8878}, '灾难事故': {'precision': 0.9186, 'recall': 0.8306, 'fscore': 0.8655, 'auc': 0.9722, 'acc': 0.9226}, '政治': {'precision': 0.9209, 'recall': 0.903, 'fscore': 0.9105, 'auc': 0.9695, 'acc': 0.9176}, '医药健康': {'precision': 0.9149, 'recall': 0.9142, 'fscore': 0.9145, 'auc': 0.9775, 'acc': 0.915}, '财经商业': {'precision': 0.9201, 'recall': 0.9379, 'fscore': 0.9286, 'auc': 0.9843, 'acc': 0.947}, '文体娱乐': {'precision': 0.9427, 'recall': 0.9427, 'fscore': 0.9427, 'auc': 0.9848, 'acc': 0.9514}, '社会生活': {'precision': 0.9299, 'recall': 0.9243, 'fscore': 0.9268, 'auc': 0.9699, 'acc': 0.9288}, 'auc': 0.9764885650240376, 'metric': 0.9276706899657718, 'recall': 0.9279490801805763, 'precision': 0.9280364927019402, 'acc': 0.9276712328767124}\n"
     ]
    },
    {
     "name": "stderr",
     "output_type": "stream",
     "text": [
      "100%|██████████| 86/86 [00:23<00:00,  3.62it/s]\n"
     ]
    },
    {
     "name": "stdout",
     "output_type": "stream",
     "text": [
      "Training Epoch 13; Loss 0.02720548930242224; \n"
     ]
    },
    {
     "name": "stderr",
     "output_type": "stream",
     "text": [
      "100%|██████████| 29/29 [00:07<00:00,  4.10it/s]\n"
     ]
    },
    {
     "name": "stdout",
     "output_type": "stream",
     "text": [
      "curent {'科技': {'precision': 0.7839, 'recall': 0.8039, 'fscore': 0.7642, 'auc': 0.9029, 'acc': 0.766}, '军事': {'precision': 0.8963, 'recall': 0.8631, 'fscore': 0.8779, 'auc': 0.8925, 'acc': 0.913}, '教育考试': {'precision': 0.8172, 'recall': 0.7792, 'fscore': 0.7694, 'auc': 0.9319, 'acc': 0.7755}, '灾难事故': {'precision': 0.8884, 'recall': 0.6734, 'fscore': 0.7165, 'auc': 0.9207, 'acc': 0.8645}, '政治': {'precision': 0.9019, 'recall': 0.8967, 'fscore': 0.8991, 'auc': 0.9595, 'acc': 0.9059}, '医药健康': {'precision': 0.8554, 'recall': 0.8311, 'fscore': 0.8182, 'auc': 0.9662, 'acc': 0.82}, '财经商业': {'precision': 0.8901, 'recall': 0.9067, 'fscore': 0.898, 'auc': 0.9726, 'acc': 0.9242}, '文体娱乐': {'precision': 0.8906, 'recall': 0.9152, 'fscore': 0.901, 'auc': 0.9788, 'acc': 0.9132}, '社会生活': {'precision': 0.9032, 'recall': 0.8841, 'fscore': 0.8905, 'auc': 0.9523, 'acc': 0.8951}, 'auc': 0.9583985027257024, 'metric': 0.882936194240542, 'recall': 0.8843816896231107, 'precision': 0.8904320196791882, 'acc': 0.8832876712328767}\n",
      "Max {'科技': {'precision': 0.8372, 'recall': 0.8451, 'fscore': 0.8407, 'auc': 0.9275, 'acc': 0.8511}, '军事': {'precision': 0.9092, 'recall': 0.8925, 'fscore': 0.9004, 'auc': 0.94, 'acc': 0.9275}, '教育考试': {'precision': 0.8912, 'recall': 0.8888, 'fscore': 0.8876, 'auc': 0.9492, 'acc': 0.8878}, '灾难事故': {'precision': 0.9186, 'recall': 0.8306, 'fscore': 0.8655, 'auc': 0.9722, 'acc': 0.9226}, '政治': {'precision': 0.9209, 'recall': 0.903, 'fscore': 0.9105, 'auc': 0.9695, 'acc': 0.9176}, '医药健康': {'precision': 0.9149, 'recall': 0.9142, 'fscore': 0.9145, 'auc': 0.9775, 'acc': 0.915}, '财经商业': {'precision': 0.9201, 'recall': 0.9379, 'fscore': 0.9286, 'auc': 0.9843, 'acc': 0.947}, '文体娱乐': {'precision': 0.9427, 'recall': 0.9427, 'fscore': 0.9427, 'auc': 0.9848, 'acc': 0.9514}, '社会生活': {'precision': 0.9299, 'recall': 0.9243, 'fscore': 0.9268, 'auc': 0.9699, 'acc': 0.9288}, 'auc': 0.9764885650240376, 'metric': 0.9276706899657718, 'recall': 0.9279490801805763, 'precision': 0.9280364927019402, 'acc': 0.9276712328767124}\n"
     ]
    },
    {
     "name": "stderr",
     "output_type": "stream",
     "text": [
      "100%|██████████| 86/86 [00:23<00:00,  3.63it/s]\n"
     ]
    },
    {
     "name": "stdout",
     "output_type": "stream",
     "text": [
      "Training Epoch 14; Loss 0.05090633421313277; \n"
     ]
    },
    {
     "name": "stderr",
     "output_type": "stream",
     "text": [
      "100%|██████████| 29/29 [00:07<00:00,  4.12it/s]\n"
     ]
    },
    {
     "name": "stdout",
     "output_type": "stream",
     "text": [
      "curent {'科技': {'precision': 0.8864, 'recall': 0.9167, 'fscore': 0.8904, 'auc': 0.9471, 'acc': 0.8936}, '军事': {'precision': 0.9279, 'recall': 0.8727, 'fscore': 0.896, 'auc': 0.8914, 'acc': 0.9275}, '教育考试': {'precision': 0.8365, 'recall': 0.8092, 'fscore': 0.8026, 'auc': 0.9371, 'acc': 0.8061}, '灾难事故': {'precision': 0.8763, 'recall': 0.7177, 'fscore': 0.7618, 'auc': 0.9416, 'acc': 0.8774}, '政治': {'precision': 0.9344, 'recall': 0.875, 'fscore': 0.8935, 'auc': 0.9661, 'acc': 0.9059}, '医药健康': {'precision': 0.8762, 'recall': 0.875, 'fscore': 0.87, 'auc': 0.9663, 'acc': 0.87}, '财经商业': {'precision': 0.8285, 'recall': 0.9041, 'fscore': 0.8522, 'auc': 0.978, 'acc': 0.8788}, '文体娱乐': {'precision': 0.8079, 'recall': 0.8598, 'fscore': 0.8121, 'auc': 0.9675, 'acc': 0.8229}, '社会生活': {'precision': 0.8982, 'recall': 0.8431, 'fscore': 0.8543, 'auc': 0.9585, 'acc': 0.8652}, 'auc': 0.9641268022190028, 'metric': 0.8644931627576145, 'recall': 0.8675049192380047, 'precision': 0.8841550241974168, 'acc': 0.8657534246575342}\n",
      "Max {'科技': {'precision': 0.8372, 'recall': 0.8451, 'fscore': 0.8407, 'auc': 0.9275, 'acc': 0.8511}, '军事': {'precision': 0.9092, 'recall': 0.8925, 'fscore': 0.9004, 'auc': 0.94, 'acc': 0.9275}, '教育考试': {'precision': 0.8912, 'recall': 0.8888, 'fscore': 0.8876, 'auc': 0.9492, 'acc': 0.8878}, '灾难事故': {'precision': 0.9186, 'recall': 0.8306, 'fscore': 0.8655, 'auc': 0.9722, 'acc': 0.9226}, '政治': {'precision': 0.9209, 'recall': 0.903, 'fscore': 0.9105, 'auc': 0.9695, 'acc': 0.9176}, '医药健康': {'precision': 0.9149, 'recall': 0.9142, 'fscore': 0.9145, 'auc': 0.9775, 'acc': 0.915}, '财经商业': {'precision': 0.9201, 'recall': 0.9379, 'fscore': 0.9286, 'auc': 0.9843, 'acc': 0.947}, '文体娱乐': {'precision': 0.9427, 'recall': 0.9427, 'fscore': 0.9427, 'auc': 0.9848, 'acc': 0.9514}, '社会生活': {'precision': 0.9299, 'recall': 0.9243, 'fscore': 0.9268, 'auc': 0.9699, 'acc': 0.9288}, 'auc': 0.9764885650240376, 'metric': 0.9276706899657718, 'recall': 0.9279490801805763, 'precision': 0.9280364927019402, 'acc': 0.9276712328767124}\n"
     ]
    },
    {
     "name": "stderr",
     "output_type": "stream",
     "text": [
      "100%|██████████| 86/86 [00:23<00:00,  3.62it/s]\n"
     ]
    },
    {
     "name": "stdout",
     "output_type": "stream",
     "text": [
      "Training Epoch 15; Loss 0.021159660343221542; \n"
     ]
    },
    {
     "name": "stderr",
     "output_type": "stream",
     "text": [
      "100%|██████████| 29/29 [00:07<00:00,  4.14it/s]\n"
     ]
    },
    {
     "name": "stdout",
     "output_type": "stream",
     "text": [
      "curent {'科技': {'precision': 0.8618, 'recall': 0.8618, 'fscore': 0.8618, 'auc': 0.9549, 'acc': 0.8723}, '军事': {'precision': 0.9389, 'recall': 0.9021, 'fscore': 0.9186, 'auc': 0.8937, 'acc': 0.942}, '教育考试': {'precision': 0.8775, 'recall': 0.8775, 'fscore': 0.8775, 'auc': 0.9375, 'acc': 0.8776}, '灾难事故': {'precision': 0.9113, 'recall': 0.8589, 'fscore': 0.8818, 'auc': 0.9748, 'acc': 0.929}, '政治': {'precision': 0.9426, 'recall': 0.9203, 'fscore': 0.9294, 'auc': 0.9657, 'acc': 0.9353}, '医药健康': {'precision': 0.9096, 'recall': 0.9096, 'fscore': 0.9096, 'auc': 0.9733, 'acc': 0.91}, '财经商业': {'precision': 0.8444, 'recall': 0.9086, 'fscore': 0.8675, 'auc': 0.9842, 'acc': 0.8939}, '文体娱乐': {'precision': 0.9103, 'recall': 0.9341, 'fscore': 0.9206, 'auc': 0.9821, 'acc': 0.9306}, '社会生活': {'precision': 0.93, 'recall': 0.9176, 'fscore': 0.9224, 'auc': 0.9608, 'acc': 0.9251}, 'auc': 0.9726210468907293, 'metric': 0.9177779780140567, 'recall': 0.9183448536001133, 'precision': 0.9194736005280617, 'acc': 0.9178082191780822}\n",
      "Max {'科技': {'precision': 0.8372, 'recall': 0.8451, 'fscore': 0.8407, 'auc': 0.9275, 'acc': 0.8511}, '军事': {'precision': 0.9092, 'recall': 0.8925, 'fscore': 0.9004, 'auc': 0.94, 'acc': 0.9275}, '教育考试': {'precision': 0.8912, 'recall': 0.8888, 'fscore': 0.8876, 'auc': 0.9492, 'acc': 0.8878}, '灾难事故': {'precision': 0.9186, 'recall': 0.8306, 'fscore': 0.8655, 'auc': 0.9722, 'acc': 0.9226}, '政治': {'precision': 0.9209, 'recall': 0.903, 'fscore': 0.9105, 'auc': 0.9695, 'acc': 0.9176}, '医药健康': {'precision': 0.9149, 'recall': 0.9142, 'fscore': 0.9145, 'auc': 0.9775, 'acc': 0.915}, '财经商业': {'precision': 0.9201, 'recall': 0.9379, 'fscore': 0.9286, 'auc': 0.9843, 'acc': 0.947}, '文体娱乐': {'precision': 0.9427, 'recall': 0.9427, 'fscore': 0.9427, 'auc': 0.9848, 'acc': 0.9514}, '社会生活': {'precision': 0.9299, 'recall': 0.9243, 'fscore': 0.9268, 'auc': 0.9699, 'acc': 0.9288}, 'auc': 0.9764885650240376, 'metric': 0.9276706899657718, 'recall': 0.9279490801805763, 'precision': 0.9280364927019402, 'acc': 0.9276712328767124}\n"
     ]
    },
    {
     "name": "stderr",
     "output_type": "stream",
     "text": [
      "100%|██████████| 86/86 [00:23<00:00,  3.63it/s]\n"
     ]
    },
    {
     "name": "stdout",
     "output_type": "stream",
     "text": [
      "Training Epoch 16; Loss 0.011205044769963552; \n"
     ]
    },
    {
     "name": "stderr",
     "output_type": "stream",
     "text": [
      "100%|██████████| 29/29 [00:07<00:00,  4.11it/s]\n"
     ]
    },
    {
     "name": "stdout",
     "output_type": "stream",
     "text": [
      "curent {'科技': {'precision': 0.9198, 'recall': 0.8951, 'fscore': 0.9052, 'auc': 0.9314, 'acc': 0.9149}, '军事': {'precision': 0.8829, 'recall': 0.8829, 'fscore': 0.8829, 'auc': 0.9038, 'acc': 0.913}, '教育考试': {'precision': 0.8805, 'recall': 0.8767, 'fscore': 0.8771, 'auc': 0.9362, 'acc': 0.8776}, '灾难事故': {'precision': 0.8947, 'recall': 0.8548, 'fscore': 0.8727, 'auc': 0.9711, 'acc': 0.9226}, '政治': {'precision': 0.9051, 'recall': 0.9076, 'fscore': 0.9063, 'auc': 0.9673, 'acc': 0.9118}, '医药健康': {'precision': 0.9067, 'recall': 0.8831, 'fscore': 0.8871, 'auc': 0.9748, 'acc': 0.89}, '财经商业': {'precision': 0.9001, 'recall': 0.9171, 'fscore': 0.9082, 'auc': 0.9834, 'acc': 0.9318}, '文体娱乐': {'precision': 0.9375, 'recall': 0.9402, 'fscore': 0.9388, 'auc': 0.9861, 'acc': 0.9479}, '社会生活': {'precision': 0.9243, 'recall': 0.9222, 'fscore': 0.9232, 'auc': 0.9601, 'acc': 0.9251}, 'auc': 0.9713987453840849, 'metric': 0.9210560466021658, 'recall': 0.9209714504003863, 'precision': 0.9212204040127219, 'acc': 0.9210958904109589}\n",
      "Max {'科技': {'precision': 0.8372, 'recall': 0.8451, 'fscore': 0.8407, 'auc': 0.9275, 'acc': 0.8511}, '军事': {'precision': 0.9092, 'recall': 0.8925, 'fscore': 0.9004, 'auc': 0.94, 'acc': 0.9275}, '教育考试': {'precision': 0.8912, 'recall': 0.8888, 'fscore': 0.8876, 'auc': 0.9492, 'acc': 0.8878}, '灾难事故': {'precision': 0.9186, 'recall': 0.8306, 'fscore': 0.8655, 'auc': 0.9722, 'acc': 0.9226}, '政治': {'precision': 0.9209, 'recall': 0.903, 'fscore': 0.9105, 'auc': 0.9695, 'acc': 0.9176}, '医药健康': {'precision': 0.9149, 'recall': 0.9142, 'fscore': 0.9145, 'auc': 0.9775, 'acc': 0.915}, '财经商业': {'precision': 0.9201, 'recall': 0.9379, 'fscore': 0.9286, 'auc': 0.9843, 'acc': 0.947}, '文体娱乐': {'precision': 0.9427, 'recall': 0.9427, 'fscore': 0.9427, 'auc': 0.9848, 'acc': 0.9514}, '社会生活': {'precision': 0.9299, 'recall': 0.9243, 'fscore': 0.9268, 'auc': 0.9699, 'acc': 0.9288}, 'auc': 0.9764885650240376, 'metric': 0.9276706899657718, 'recall': 0.9279490801805763, 'precision': 0.9280364927019402, 'acc': 0.9276712328767124}\n"
     ]
    },
    {
     "name": "stderr",
     "output_type": "stream",
     "text": [
      "100%|██████████| 86/86 [00:23<00:00,  3.63it/s]\n"
     ]
    },
    {
     "name": "stdout",
     "output_type": "stream",
     "text": [
      "Training Epoch 17; Loss 0.0032879356112125394; \n"
     ]
    },
    {
     "name": "stderr",
     "output_type": "stream",
     "text": [
      "100%|██████████| 29/29 [00:07<00:00,  4.13it/s]\n"
     ]
    },
    {
     "name": "stdout",
     "output_type": "stream",
     "text": [
      "curent {'科技': {'precision': 0.8219, 'recall': 0.8029, 'fscore': 0.8105, 'auc': 0.9412, 'acc': 0.8298}, '军事': {'precision': 0.9092, 'recall': 0.8925, 'fscore': 0.9004, 'auc': 0.8982, 'acc': 0.9275}, '教育考试': {'precision': 0.888, 'recall': 0.8875, 'fscore': 0.8876, 'auc': 0.9488, 'acc': 0.8878}, '灾难事故': {'precision': 0.9171, 'recall': 0.875, 'fscore': 0.894, 'auc': 0.9602, 'acc': 0.9355}, '政治': {'precision': 0.9174, 'recall': 0.9061, 'fscore': 0.9111, 'auc': 0.9671, 'acc': 0.9176}, '医药健康': {'precision': 0.9397, 'recall': 0.9397, 'fscore': 0.9397, 'auc': 0.9764, 'acc': 0.94}, '财经商业': {'precision': 0.9132, 'recall': 0.9221, 'fscore': 0.9175, 'auc': 0.9857, 'acc': 0.9394}, '文体娱乐': {'precision': 0.9573, 'recall': 0.9357, 'fscore': 0.9456, 'auc': 0.9849, 'acc': 0.9549}, '社会生活': {'precision': 0.8992, 'recall': 0.9033, 'fscore': 0.9009, 'auc': 0.9659, 'acc': 0.9026}, 'auc': 0.974956333503915, 'metric': 0.9227062151321901, 'recall': 0.92264182901954, 'precision': 0.9228155374808917, 'acc': 0.9227397260273973}\n",
      "Max {'科技': {'precision': 0.8372, 'recall': 0.8451, 'fscore': 0.8407, 'auc': 0.9275, 'acc': 0.8511}, '军事': {'precision': 0.9092, 'recall': 0.8925, 'fscore': 0.9004, 'auc': 0.94, 'acc': 0.9275}, '教育考试': {'precision': 0.8912, 'recall': 0.8888, 'fscore': 0.8876, 'auc': 0.9492, 'acc': 0.8878}, '灾难事故': {'precision': 0.9186, 'recall': 0.8306, 'fscore': 0.8655, 'auc': 0.9722, 'acc': 0.9226}, '政治': {'precision': 0.9209, 'recall': 0.903, 'fscore': 0.9105, 'auc': 0.9695, 'acc': 0.9176}, '医药健康': {'precision': 0.9149, 'recall': 0.9142, 'fscore': 0.9145, 'auc': 0.9775, 'acc': 0.915}, '财经商业': {'precision': 0.9201, 'recall': 0.9379, 'fscore': 0.9286, 'auc': 0.9843, 'acc': 0.947}, '文体娱乐': {'precision': 0.9427, 'recall': 0.9427, 'fscore': 0.9427, 'auc': 0.9848, 'acc': 0.9514}, '社会生活': {'precision': 0.9299, 'recall': 0.9243, 'fscore': 0.9268, 'auc': 0.9699, 'acc': 0.9288}, 'auc': 0.9764885650240376, 'metric': 0.9276706899657718, 'recall': 0.9279490801805763, 'precision': 0.9280364927019402, 'acc': 0.9276712328767124}\n"
     ]
    },
    {
     "name": "stderr",
     "output_type": "stream",
     "text": [
      "100%|██████████| 29/29 [00:07<00:00,  4.12it/s]\n"
     ]
    },
    {
     "name": "stdout",
     "output_type": "stream",
     "text": [
      "{'科技': {'precision': 0.8845, 'recall': 0.8697, 'fscore': 0.8765, 'auc': 0.9455, 'acc': 0.8958}, '军事': {'precision': 0.9268, 'recall': 0.9118, 'fscore': 0.9121, 'auc': 0.9857, 'acc': 0.913}, '教育考试': {'precision': 0.8907, 'recall': 0.8879, 'fscore': 0.8885, 'auc': 0.962, 'acc': 0.8889}, '灾难事故': {'precision': 0.8872, 'recall': 0.8872, 'fscore': 0.8872, 'auc': 0.9631, 'acc': 0.9231}, '政治': {'precision': 0.9073, 'recall': 0.8678, 'fscore': 0.8841, 'auc': 0.9329, 'acc': 0.9064}, '医药健康': {'precision': 0.9556, 'recall': 0.9547, 'fscore': 0.9549, 'auc': 0.9905, 'acc': 0.955}, '财经商业': {'precision': 0.8972, 'recall': 0.9071, 'fscore': 0.902, 'auc': 0.9604, 'acc': 0.9208}, '文体娱乐': {'precision': 0.9038, 'recall': 0.8922, 'fscore': 0.8977, 'auc': 0.9793, 'acc': 0.9167}, '社会生活': {'precision': 0.9072, 'recall': 0.9012, 'fscore': 0.9032, 'auc': 0.9622, 'acc': 0.9045}, 'auc': 0.9714678460435094, 'metric': 0.9152948554278931, 'recall': 0.9157602199378436, 'precision': 0.9154994773779304, 'acc': 0.9153005464480874}\n"
     ]
    }
   ],
   "source": [
    "run.main()"
   ]
  },
  {
   "cell_type": "code",
   "execution_count": 44,
   "metadata": {},
   "outputs": [],
   "source": [
    "train_loader, val_loader, test_loader = run.get_dataloader()"
   ]
  },
  {
   "cell_type": "code",
   "execution_count": 2,
   "metadata": {},
   "outputs": [
    {
     "name": "stderr",
     "output_type": "stream",
     "text": [
      "/usr/local/lib/python3.8/dist-packages/torch/_utils.py:776: UserWarning: TypedStorage is deprecated. It will be removed in the future and UntypedStorage will be the only storage class. This should only matter to you if you are using storages directly.  To access UntypedStorage directly, use tensor.untyped_storage() instead of tensor.storage()\n",
      "  return self.fget.__get__(instance, owner)()\n"
     ]
    }
   ],
   "source": [
    "model = MultiDomainFENDModel(768,[384],'./pretrained_model/chinese_roberta_wwm_base_ext_pytorch',0.2,'bert')"
   ]
  },
  {
   "cell_type": "code",
   "execution_count": 3,
   "metadata": {},
   "outputs": [
    {
     "data": {
      "text/plain": [
       "<All keys matched successfully>"
      ]
     },
     "execution_count": 3,
     "metadata": {},
     "output_type": "execute_result"
    }
   ],
   "source": [
    "model.load_state_dict(torch.load('/home/develop/workspace/MDFEND-Weibo21/param_model/mdfend/parameter_mdfend.pkl'))"
   ]
  },
  {
   "cell_type": "code",
   "execution_count": 45,
   "metadata": {},
   "outputs": [],
   "source": [
    "import pickle\n",
    "with open('/home/develop/workspace/MDFEND-Weibo21/data/weibo21/test.pkl', \"rb\") as f:\n",
    "    t = pickle.load(f)"
   ]
  },
  {
   "cell_type": "code",
   "execution_count": 52,
   "metadata": {},
   "outputs": [
    {
     "data": {
      "text/plain": [
       "'谷歌语音搜索功能升级啦[哈哈]使用起来非常简单方便：只需说“天气”，就会帮你找到你所在城市近几天的天气；说“把tree翻译成中文”，就会帮你找到正确的翻译结果；说“新加坡到纽约”，就会帮你搜索航班信息。怎么样，方便吧？不过，谷歌暂时只能听懂英文哦。http://t.cn/aKB6SL'"
      ]
     },
     "execution_count": 52,
     "metadata": {},
     "output_type": "execute_result"
    }
   ],
   "source": [
    "t['content'][0]"
   ]
  },
  {
   "cell_type": "code",
   "execution_count": 49,
   "metadata": {},
   "outputs": [
    {
     "data": {
      "text/html": [
       "<div>\n",
       "<style scoped>\n",
       "    .dataframe tbody tr th:only-of-type {\n",
       "        vertical-align: middle;\n",
       "    }\n",
       "\n",
       "    .dataframe tbody tr th {\n",
       "        vertical-align: top;\n",
       "    }\n",
       "\n",
       "    .dataframe thead th {\n",
       "        text-align: right;\n",
       "    }\n",
       "</style>\n",
       "<table border=\"1\" class=\"dataframe\">\n",
       "  <thead>\n",
       "    <tr style=\"text-align: right;\">\n",
       "      <th></th>\n",
       "      <th>content</th>\n",
       "      <th>label</th>\n",
       "      <th>category</th>\n",
       "    </tr>\n",
       "  </thead>\n",
       "  <tbody>\n",
       "    <tr>\n",
       "      <th>0</th>\n",
       "      <td>谷歌语音搜索功能升级啦[哈哈]使用起来非常简单方便：只需说“天气”，就会帮你找到你所在城市近...</td>\n",
       "      <td>0</td>\n",
       "      <td>科技</td>\n",
       "    </tr>\n",
       "    <tr>\n",
       "      <th>1</th>\n",
       "      <td>【逼真】日本女性机器人上市，遭到疯抢。完全按照真人比例打造的，除了不能生孩子以外，基本具备女...</td>\n",
       "      <td>1</td>\n",
       "      <td>科技</td>\n",
       "    </tr>\n",
       "    <tr>\n",
       "      <th>2</th>\n",
       "      <td>【让电脑提速的小方法】开始菜单里点击&amp;quot;运行&amp;quot;，输入gpedit.msc指...</td>\n",
       "      <td>1</td>\n",
       "      <td>科技</td>\n",
       "    </tr>\n",
       "    <tr>\n",
       "      <th>3</th>\n",
       "      <td>【先森，您丢在飞机马桶里的东西找到了！】“天降蓝冰”的新闻你可能还有印象，那些因为好奇而去舔...</td>\n",
       "      <td>0</td>\n",
       "      <td>科技</td>\n",
       "    </tr>\n",
       "    <tr>\n",
       "      <th>4</th>\n",
       "      <td>【63岁老人自学单片机用8年做出机器人】李祖臣，63岁，8年前，为实现梦想，他自学单片机、电...</td>\n",
       "      <td>0</td>\n",
       "      <td>科技</td>\n",
       "    </tr>\n",
       "    <tr>\n",
       "      <th>5</th>\n",
       "      <td>碱性电池的阳极是锌阳极，含有锌粉的凝胶状物质。电池肚子里装着凝胶状物质，意味着它下落时吸收冲...</td>\n",
       "      <td>0</td>\n",
       "      <td>科技</td>\n",
       "    </tr>\n",
       "    <tr>\n",
       "      <th>6</th>\n",
       "      <td>新浪微薄继3月1号开通阅读量（微薄访问量）之后。将于4月1号增加最近访客显示功能！颤抖吧。同...</td>\n",
       "      <td>1</td>\n",
       "      <td>科技</td>\n",
       "    </tr>\n",
       "    <tr>\n",
       "      <th>7</th>\n",
       "      <td>#iPhone12#9月25日，在#iOS14#正式推送一周之后，苹果今天推送了iOS14....</td>\n",
       "      <td>0</td>\n",
       "      <td>科技</td>\n",
       "    </tr>\n",
       "    <tr>\n",
       "      <th>8</th>\n",
       "      <td>尝试两手交握，你是右手拇指在上(上图)还是左手拇指在上(下图)？尝试换一下，是不是感觉像手长...</td>\n",
       "      <td>0</td>\n",
       "      <td>科技</td>\n",
       "    </tr>\n",
       "    <tr>\n",
       "      <th>9</th>\n",
       "      <td>美国最新机器人老婆Alice艾丽丝面世，按21岁姑娘打造，与真人相似度99%，售价十万美金，...</td>\n",
       "      <td>1</td>\n",
       "      <td>科技</td>\n",
       "    </tr>\n",
       "    <tr>\n",
       "      <th>10</th>\n",
       "      <td>【和TA坐在“飞机机顶”看风景，你想试试吗？】飞机顶部装着透明观景罩，罩内设两个座椅，乘客可...</td>\n",
       "      <td>0</td>\n",
       "      <td>科技</td>\n",
       "    </tr>\n",
       "    <tr>\n",
       "      <th>11</th>\n",
       "      <td>“撤回已发送消息”可以说是聊天软件必备，QQ与微信把这一时间设置为最长2分钟，超过这一时间就...</td>\n",
       "      <td>0</td>\n",
       "      <td>科技</td>\n",
       "    </tr>\n",
       "    <tr>\n",
       "      <th>12</th>\n",
       "      <td>【北向资金火力全开！芯片、5G、新能源一个都不能少！】11月5日，总体净买入110.0亿元。...</td>\n",
       "      <td>0</td>\n",
       "      <td>科技</td>\n",
       "    </tr>\n",
       "    <tr>\n",
       "      <th>13</th>\n",
       "      <td>@宜家家居IKEA的30多块钱的太阳能小夜灯'右下角那个是用来吸收太阳能的'今天虽然下雨'但...</td>\n",
       "      <td>0</td>\n",
       "      <td>科技</td>\n",
       "    </tr>\n",
       "    <tr>\n",
       "      <th>14</th>\n",
       "      <td>据《法制晚报》，铁路总局已经表示，12306网站将调整图形验证码中图片的清晰度和分辨率，可能...</td>\n",
       "      <td>0</td>\n",
       "      <td>科技</td>\n",
       "    </tr>\n",
       "    <tr>\n",
       "      <th>15</th>\n",
       "      <td>新冠疫情以来，几位院士丑态百出：有的谎话连篇，有的如门外汉，有的客串公关念错稿子，感觉院士名...</td>\n",
       "      <td>1</td>\n",
       "      <td>科技</td>\n",
       "    </tr>\n",
       "    <tr>\n",
       "      <th>16</th>\n",
       "      <td>$长信科技sz300088$发生了什么：北向资金火力全开芯片、5G、新能源一个都不能少，点击...</td>\n",
       "      <td>0</td>\n",
       "      <td>科技</td>\n",
       "    </tr>\n",
       "    <tr>\n",
       "      <th>17</th>\n",
       "      <td>和平精英超话有没有人跟新了ios14之后卡的不行遇到人就卡卡卡卡的我要疯了不知道今天推送的1...</td>\n",
       "      <td>0</td>\n",
       "      <td>科技</td>\n",
       "    </tr>\n",
       "    <tr>\n",
       "      <th>18</th>\n",
       "      <td>【UOS的意义在于打造一个国产航母编队，而不仅仅是一艘航母。】近日，金格科技公司推出的独自研...</td>\n",
       "      <td>0</td>\n",
       "      <td>科技</td>\n",
       "    </tr>\n",
       "    <tr>\n",
       "      <th>19</th>\n",
       "      <td>【考古学家发现全新人种：距今1.4万年的#马鹿洞人#[最右]】近日著名学术期刊《科学公共图书...</td>\n",
       "      <td>0</td>\n",
       "      <td>科技</td>\n",
       "    </tr>\n",
       "  </tbody>\n",
       "</table>\n",
       "</div>"
      ],
      "text/plain": [
       "                                              content label category\n",
       "0   谷歌语音搜索功能升级啦[哈哈]使用起来非常简单方便：只需说“天气”，就会帮你找到你所在城市近...     0       科技\n",
       "1   【逼真】日本女性机器人上市，遭到疯抢。完全按照真人比例打造的，除了不能生孩子以外，基本具备女...     1       科技\n",
       "2   【让电脑提速的小方法】开始菜单里点击&quot;运行&quot;，输入gpedit.msc指...     1       科技\n",
       "3   【先森，您丢在飞机马桶里的东西找到了！】“天降蓝冰”的新闻你可能还有印象，那些因为好奇而去舔...     0       科技\n",
       "4   【63岁老人自学单片机用8年做出机器人】李祖臣，63岁，8年前，为实现梦想，他自学单片机、电...     0       科技\n",
       "5   碱性电池的阳极是锌阳极，含有锌粉的凝胶状物质。电池肚子里装着凝胶状物质，意味着它下落时吸收冲...     0       科技\n",
       "6   新浪微薄继3月1号开通阅读量（微薄访问量）之后。将于4月1号增加最近访客显示功能！颤抖吧。同...     1       科技\n",
       "7   #iPhone12#9月25日，在#iOS14#正式推送一周之后，苹果今天推送了iOS14....     0       科技\n",
       "8   尝试两手交握，你是右手拇指在上(上图)还是左手拇指在上(下图)？尝试换一下，是不是感觉像手长...     0       科技\n",
       "9   美国最新机器人老婆Alice艾丽丝面世，按21岁姑娘打造，与真人相似度99%，售价十万美金，...     1       科技\n",
       "10  【和TA坐在“飞机机顶”看风景，你想试试吗？】飞机顶部装着透明观景罩，罩内设两个座椅，乘客可...     0       科技\n",
       "11  “撤回已发送消息”可以说是聊天软件必备，QQ与微信把这一时间设置为最长2分钟，超过这一时间就...     0       科技\n",
       "12  【北向资金火力全开！芯片、5G、新能源一个都不能少！】11月5日，总体净买入110.0亿元。...     0       科技\n",
       "13  @宜家家居IKEA的30多块钱的太阳能小夜灯'右下角那个是用来吸收太阳能的'今天虽然下雨'但...     0       科技\n",
       "14  据《法制晚报》，铁路总局已经表示，12306网站将调整图形验证码中图片的清晰度和分辨率，可能...     0       科技\n",
       "15  新冠疫情以来，几位院士丑态百出：有的谎话连篇，有的如门外汉，有的客串公关念错稿子，感觉院士名...     1       科技\n",
       "16  $长信科技sz300088$发生了什么：北向资金火力全开芯片、5G、新能源一个都不能少，点击...     0       科技\n",
       "17  和平精英超话有没有人跟新了ios14之后卡的不行遇到人就卡卡卡卡的我要疯了不知道今天推送的1...     0       科技\n",
       "18  【UOS的意义在于打造一个国产航母编队，而不仅仅是一艘航母。】近日，金格科技公司推出的独自研...     0       科技\n",
       "19  【考古学家发现全新人种：距今1.4万年的#马鹿洞人#[最右]】近日著名学术期刊《科学公共图书...     0       科技"
      ]
     },
     "execution_count": 49,
     "metadata": {},
     "output_type": "execute_result"
    }
   ],
   "source": [
    "t[0:20]"
   ]
  },
  {
   "cell_type": "code",
   "execution_count": 25,
   "metadata": {},
   "outputs": [
    {
     "data": {
      "text/html": [
       "<div>\n",
       "<style scoped>\n",
       "    .dataframe tbody tr th:only-of-type {\n",
       "        vertical-align: middle;\n",
       "    }\n",
       "\n",
       "    .dataframe tbody tr th {\n",
       "        vertical-align: top;\n",
       "    }\n",
       "\n",
       "    .dataframe thead th {\n",
       "        text-align: right;\n",
       "    }\n",
       "</style>\n",
       "<table border=\"1\" class=\"dataframe\">\n",
       "  <thead>\n",
       "    <tr style=\"text-align: right;\">\n",
       "      <th></th>\n",
       "      <th>content</th>\n",
       "      <th>label</th>\n",
       "      <th>category</th>\n",
       "    </tr>\n",
       "  </thead>\n",
       "  <tbody>\n",
       "    <tr>\n",
       "      <th>0</th>\n",
       "      <td>haha</td>\n",
       "      <td>0</td>\n",
       "      <td>科技</td>\n",
       "    </tr>\n",
       "    <tr>\n",
       "      <th>1</th>\n",
       "      <td>lala</td>\n",
       "      <td>1</td>\n",
       "      <td>科技</td>\n",
       "    </tr>\n",
       "  </tbody>\n",
       "</table>\n",
       "</div>"
      ],
      "text/plain": [
       "  content  label category\n",
       "0    haha      0       科技\n",
       "1    lala      1       科技"
      ]
     },
     "execution_count": 25,
     "metadata": {},
     "output_type": "execute_result"
    }
   ],
   "source": [
    "import pandas as pd\n",
    "df = pd.DataFrame([{\"content\":\"haha\",'label':0,'category':\"科技\"},{\"content\":\"lala\",'label':1,'category':\"科技\"}])\n",
    "df"
   ]
  },
  {
   "cell_type": "code",
   "execution_count": 5,
   "metadata": {},
   "outputs": [],
   "source": [
    "category_dict = {\n",
    "    \"科技\": 0,  \n",
    "    \"军事\": 1,  \n",
    "    \"教育考试\": 2,  \n",
    "    \"灾难事故\": 3,  \n",
    "    \"政治\": 4,  \n",
    "    \"医药健康\": 5,  \n",
    "    \"财经商业\": 6,  \n",
    "    \"文体娱乐\": 7,  \n",
    "    \"社会生活\": 8\n",
    "}"
   ]
  },
  {
   "cell_type": "code",
   "execution_count": 8,
   "metadata": {},
   "outputs": [],
   "source": [
    "from utils.dataloader import word2input"
   ]
  },
  {
   "cell_type": "code",
   "execution_count": 26,
   "metadata": {},
   "outputs": [],
   "source": [
    "from torch.utils.data import TensorDataset, DataLoader\n",
    "import utils\n",
    "content = df['content'].to_numpy()\n",
    "label = torch.tensor(df['label'].astype(int).to_numpy())\n",
    "category = torch.tensor(df['category'].apply(lambda c: category_dict[c]).to_numpy())\n",
    "content_token_ids, content_masks = word2input(content, config['vocab_file'], config['max_len'])"
   ]
  },
  {
   "cell_type": "code",
   "execution_count": 58,
   "metadata": {},
   "outputs": [],
   "source": [
    "from torch.utils.data import TensorDataset, DataLoader\n",
    "import numpy as np\n",
    "dataset = TensorDataset(content_token_ids,content_masks,\n",
    "label,\n",
    "category\n",
    ")\n",
    "dataloader = DataLoader(\n",
    "    dataset=dataset,\n",
    "    batch_size=config['batchsize'],\n",
    "    num_workers=config['num_workers'],\n",
    "    pin_memory=True,\n",
    "    shuffle=False,\n",
    "    worker_init_fn=np.random.seed(2021)\n",
    ")"
   ]
  },
  {
   "cell_type": "code",
   "execution_count": 27,
   "metadata": {},
   "outputs": [],
   "source": [
    "data = {\n",
    "    'content': content_token_ids.cuda() ,\n",
    "    'content_masks': content_masks.cuda(),\n",
    "    'label': label.cuda(),\n",
    "    'category': category.cuda()\n",
    "    }"
   ]
  },
  {
   "cell_type": "code",
   "execution_count": 28,
   "metadata": {},
   "outputs": [
    {
     "data": {
      "text/plain": [
       "{'content': tensor([[  101, 11643,  8778,   102,     0,     0,     0,     0,     0,     0,\n",
       "              0,     0,     0,     0,     0,     0,     0,     0,     0,     0,\n",
       "              0,     0,     0,     0,     0,     0,     0,     0,     0,     0,\n",
       "              0,     0,     0,     0,     0,     0,     0,     0,     0,     0,\n",
       "              0,     0,     0,     0,     0,     0,     0,     0,     0,     0,\n",
       "              0,     0,     0,     0,     0,     0,     0,     0,     0,     0,\n",
       "              0,     0,     0,     0,     0,     0,     0,     0,     0,     0,\n",
       "              0,     0,     0,     0,     0,     0,     0,     0,     0,     0,\n",
       "              0,     0,     0,     0,     0,     0,     0,     0,     0,     0,\n",
       "              0,     0,     0,     0,     0,     0,     0,     0,     0,     0,\n",
       "              0,     0,     0,     0,     0,     0,     0,     0,     0,     0,\n",
       "              0,     0,     0,     0,     0,     0,     0,     0,     0,     0,\n",
       "              0,     0,     0,     0,     0,     0,     0,     0,     0,     0,\n",
       "              0,     0,     0,     0,     0,     0,     0,     0,     0,     0,\n",
       "              0,     0,     0,     0,     0,     0,     0,     0,     0,     0,\n",
       "              0,     0,     0,     0,     0,     0,     0,     0,     0,     0,\n",
       "              0,     0,     0,     0,     0,     0,     0,     0,     0,     0],\n",
       "         [  101,  8515,  8461,   102,     0,     0,     0,     0,     0,     0,\n",
       "              0,     0,     0,     0,     0,     0,     0,     0,     0,     0,\n",
       "              0,     0,     0,     0,     0,     0,     0,     0,     0,     0,\n",
       "              0,     0,     0,     0,     0,     0,     0,     0,     0,     0,\n",
       "              0,     0,     0,     0,     0,     0,     0,     0,     0,     0,\n",
       "              0,     0,     0,     0,     0,     0,     0,     0,     0,     0,\n",
       "              0,     0,     0,     0,     0,     0,     0,     0,     0,     0,\n",
       "              0,     0,     0,     0,     0,     0,     0,     0,     0,     0,\n",
       "              0,     0,     0,     0,     0,     0,     0,     0,     0,     0,\n",
       "              0,     0,     0,     0,     0,     0,     0,     0,     0,     0,\n",
       "              0,     0,     0,     0,     0,     0,     0,     0,     0,     0,\n",
       "              0,     0,     0,     0,     0,     0,     0,     0,     0,     0,\n",
       "              0,     0,     0,     0,     0,     0,     0,     0,     0,     0,\n",
       "              0,     0,     0,     0,     0,     0,     0,     0,     0,     0,\n",
       "              0,     0,     0,     0,     0,     0,     0,     0,     0,     0,\n",
       "              0,     0,     0,     0,     0,     0,     0,     0,     0,     0,\n",
       "              0,     0,     0,     0,     0,     0,     0,     0,     0,     0]],\n",
       "        device='cuda:0'),\n",
       " 'content_masks': tensor([[1., 1., 1., 1., 0., 0., 0., 0., 0., 0., 0., 0., 0., 0., 0., 0., 0., 0.,\n",
       "          0., 0., 0., 0., 0., 0., 0., 0., 0., 0., 0., 0., 0., 0., 0., 0., 0., 0.,\n",
       "          0., 0., 0., 0., 0., 0., 0., 0., 0., 0., 0., 0., 0., 0., 0., 0., 0., 0.,\n",
       "          0., 0., 0., 0., 0., 0., 0., 0., 0., 0., 0., 0., 0., 0., 0., 0., 0., 0.,\n",
       "          0., 0., 0., 0., 0., 0., 0., 0., 0., 0., 0., 0., 0., 0., 0., 0., 0., 0.,\n",
       "          0., 0., 0., 0., 0., 0., 0., 0., 0., 0., 0., 0., 0., 0., 0., 0., 0., 0.,\n",
       "          0., 0., 0., 0., 0., 0., 0., 0., 0., 0., 0., 0., 0., 0., 0., 0., 0., 0.,\n",
       "          0., 0., 0., 0., 0., 0., 0., 0., 0., 0., 0., 0., 0., 0., 0., 0., 0., 0.,\n",
       "          0., 0., 0., 0., 0., 0., 0., 0., 0., 0., 0., 0., 0., 0., 0., 0., 0., 0.,\n",
       "          0., 0., 0., 0., 0., 0., 0., 0.],\n",
       "         [1., 1., 1., 1., 0., 0., 0., 0., 0., 0., 0., 0., 0., 0., 0., 0., 0., 0.,\n",
       "          0., 0., 0., 0., 0., 0., 0., 0., 0., 0., 0., 0., 0., 0., 0., 0., 0., 0.,\n",
       "          0., 0., 0., 0., 0., 0., 0., 0., 0., 0., 0., 0., 0., 0., 0., 0., 0., 0.,\n",
       "          0., 0., 0., 0., 0., 0., 0., 0., 0., 0., 0., 0., 0., 0., 0., 0., 0., 0.,\n",
       "          0., 0., 0., 0., 0., 0., 0., 0., 0., 0., 0., 0., 0., 0., 0., 0., 0., 0.,\n",
       "          0., 0., 0., 0., 0., 0., 0., 0., 0., 0., 0., 0., 0., 0., 0., 0., 0., 0.,\n",
       "          0., 0., 0., 0., 0., 0., 0., 0., 0., 0., 0., 0., 0., 0., 0., 0., 0., 0.,\n",
       "          0., 0., 0., 0., 0., 0., 0., 0., 0., 0., 0., 0., 0., 0., 0., 0., 0., 0.,\n",
       "          0., 0., 0., 0., 0., 0., 0., 0., 0., 0., 0., 0., 0., 0., 0., 0., 0., 0.,\n",
       "          0., 0., 0., 0., 0., 0., 0., 0.]], device='cuda:0'),\n",
       " 'label': tensor([0, 1], device='cuda:0'),\n",
       " 'category': tensor([0, 0], device='cuda:0')}"
      ]
     },
     "execution_count": 28,
     "metadata": {},
     "output_type": "execute_result"
    }
   ],
   "source": [
    "data"
   ]
  },
  {
   "cell_type": "code",
   "execution_count": 18,
   "metadata": {},
   "outputs": [
    {
     "data": {
      "text/plain": [
       "MultiDomainFENDModel(\n",
       "  (bert): BertModel(\n",
       "    (embeddings): BertEmbeddings(\n",
       "      (word_embeddings): Embedding(21128, 768, padding_idx=0)\n",
       "      (position_embeddings): Embedding(512, 768)\n",
       "      (token_type_embeddings): Embedding(2, 768)\n",
       "      (LayerNorm): LayerNorm((768,), eps=1e-12, elementwise_affine=True)\n",
       "      (dropout): Dropout(p=0.1, inplace=False)\n",
       "    )\n",
       "    (encoder): BertEncoder(\n",
       "      (layer): ModuleList(\n",
       "        (0-11): 12 x BertLayer(\n",
       "          (attention): BertAttention(\n",
       "            (self): BertSelfAttention(\n",
       "              (query): Linear(in_features=768, out_features=768, bias=True)\n",
       "              (key): Linear(in_features=768, out_features=768, bias=True)\n",
       "              (value): Linear(in_features=768, out_features=768, bias=True)\n",
       "              (dropout): Dropout(p=0.1, inplace=False)\n",
       "            )\n",
       "            (output): BertSelfOutput(\n",
       "              (dense): Linear(in_features=768, out_features=768, bias=True)\n",
       "              (LayerNorm): LayerNorm((768,), eps=1e-12, elementwise_affine=True)\n",
       "              (dropout): Dropout(p=0.1, inplace=False)\n",
       "            )\n",
       "          )\n",
       "          (intermediate): BertIntermediate(\n",
       "            (dense): Linear(in_features=768, out_features=3072, bias=True)\n",
       "            (intermediate_act_fn): GELUActivation()\n",
       "          )\n",
       "          (output): BertOutput(\n",
       "            (dense): Linear(in_features=3072, out_features=768, bias=True)\n",
       "            (LayerNorm): LayerNorm((768,), eps=1e-12, elementwise_affine=True)\n",
       "            (dropout): Dropout(p=0.1, inplace=False)\n",
       "          )\n",
       "        )\n",
       "      )\n",
       "    )\n",
       "    (pooler): BertPooler(\n",
       "      (dense): Linear(in_features=768, out_features=768, bias=True)\n",
       "      (activation): Tanh()\n",
       "    )\n",
       "  )\n",
       "  (expert): ModuleList(\n",
       "    (0-4): 5 x cnn_extractor(\n",
       "      (convs): ModuleList(\n",
       "        (0): Conv1d(768, 64, kernel_size=(1,), stride=(1,))\n",
       "        (1): Conv1d(768, 64, kernel_size=(2,), stride=(1,))\n",
       "        (2): Conv1d(768, 64, kernel_size=(3,), stride=(1,))\n",
       "        (3): Conv1d(768, 64, kernel_size=(5,), stride=(1,))\n",
       "        (4): Conv1d(768, 64, kernel_size=(10,), stride=(1,))\n",
       "      )\n",
       "    )\n",
       "  )\n",
       "  (gate): Sequential(\n",
       "    (0): Linear(in_features=1536, out_features=384, bias=True)\n",
       "    (1): ReLU()\n",
       "    (2): Linear(in_features=384, out_features=5, bias=True)\n",
       "    (3): Softmax(dim=1)\n",
       "  )\n",
       "  (attention): MaskAttention(\n",
       "    (attention_layer): Linear(in_features=768, out_features=1, bias=True)\n",
       "  )\n",
       "  (domain_embedder): Embedding(9, 768)\n",
       "  (specific_extractor): SelfAttentionFeatureExtract(\n",
       "    (attention): MultiHeadedAttention(\n",
       "      (linear_layers): ModuleList(\n",
       "        (0-2): 3 x Linear(in_features=768, out_features=768, bias=True)\n",
       "      )\n",
       "      (output_linear): Linear(in_features=768, out_features=768, bias=True)\n",
       "      (attention): Attention()\n",
       "      (dropout): Dropout(p=0.1, inplace=False)\n",
       "    )\n",
       "    (out_layer): Linear(in_features=768, out_features=256, bias=True)\n",
       "  )\n",
       "  (classifier): MLP(\n",
       "    (mlp): Sequential(\n",
       "      (0): Linear(in_features=320, out_features=384, bias=True)\n",
       "      (1): BatchNorm1d(384, eps=1e-05, momentum=0.1, affine=True, track_running_stats=True)\n",
       "      (2): ReLU()\n",
       "      (3): Dropout(p=0.2, inplace=False)\n",
       "      (4): Linear(in_features=384, out_features=1, bias=True)\n",
       "    )\n",
       "  )\n",
       ")"
      ]
     },
     "execution_count": 18,
     "metadata": {},
     "output_type": "execute_result"
    }
   ],
   "source": [
    "model.cuda()"
   ]
  },
  {
   "cell_type": "code",
   "execution_count": 38,
   "metadata": {},
   "outputs": [
    {
     "name": "stdout",
     "output_type": "stream",
     "text": [
      "0.99302036\n"
     ]
    }
   ],
   "source": [
    "print(model(**data)[1].detach().cpu().numpy())"
   ]
  },
  {
   "cell_type": "code",
   "execution_count": 59,
   "metadata": {},
   "outputs": [],
   "source": [
    "for i in dataloader:\n",
    "    pass"
   ]
  },
  {
   "cell_type": "code",
   "execution_count": 73,
   "metadata": {},
   "outputs": [
    {
     "data": {
      "text/plain": [
       "<torch.utils.data.dataset.TensorDataset at 0x7fb4a17ad3a0>"
      ]
     },
     "execution_count": 73,
     "metadata": {},
     "output_type": "execute_result"
    }
   ],
   "source": [
    "dataset"
   ]
  },
  {
   "cell_type": "code",
   "execution_count": 72,
   "metadata": {},
   "outputs": [
    {
     "data": {
      "text/plain": [
       "[tensor([[  101, 11643,  8778,   102,     0,     0,     0,     0,     0,     0,\n",
       "              0,     0,     0,     0,     0,     0,     0,     0,     0,     0,\n",
       "              0,     0,     0,     0,     0,     0,     0,     0,     0,     0,\n",
       "              0,     0,     0,     0,     0,     0,     0,     0,     0,     0,\n",
       "              0,     0,     0,     0,     0,     0,     0,     0,     0,     0,\n",
       "              0,     0,     0,     0,     0,     0,     0,     0,     0,     0,\n",
       "              0,     0,     0,     0,     0,     0,     0,     0,     0,     0,\n",
       "              0,     0,     0,     0,     0,     0,     0,     0,     0,     0,\n",
       "              0,     0,     0,     0,     0,     0,     0,     0,     0,     0,\n",
       "              0,     0,     0,     0,     0,     0,     0,     0,     0,     0,\n",
       "              0,     0,     0,     0,     0,     0,     0,     0,     0,     0,\n",
       "              0,     0,     0,     0,     0,     0,     0,     0,     0,     0,\n",
       "              0,     0,     0,     0,     0,     0,     0,     0,     0,     0,\n",
       "              0,     0,     0,     0,     0,     0,     0,     0,     0,     0,\n",
       "              0,     0,     0,     0,     0,     0,     0,     0,     0,     0,\n",
       "              0,     0,     0,     0,     0,     0,     0,     0,     0,     0,\n",
       "              0,     0,     0,     0,     0,     0,     0,     0,     0,     0],\n",
       "         [  101,  8515,  8461,   102,     0,     0,     0,     0,     0,     0,\n",
       "              0,     0,     0,     0,     0,     0,     0,     0,     0,     0,\n",
       "              0,     0,     0,     0,     0,     0,     0,     0,     0,     0,\n",
       "              0,     0,     0,     0,     0,     0,     0,     0,     0,     0,\n",
       "              0,     0,     0,     0,     0,     0,     0,     0,     0,     0,\n",
       "              0,     0,     0,     0,     0,     0,     0,     0,     0,     0,\n",
       "              0,     0,     0,     0,     0,     0,     0,     0,     0,     0,\n",
       "              0,     0,     0,     0,     0,     0,     0,     0,     0,     0,\n",
       "              0,     0,     0,     0,     0,     0,     0,     0,     0,     0,\n",
       "              0,     0,     0,     0,     0,     0,     0,     0,     0,     0,\n",
       "              0,     0,     0,     0,     0,     0,     0,     0,     0,     0,\n",
       "              0,     0,     0,     0,     0,     0,     0,     0,     0,     0,\n",
       "              0,     0,     0,     0,     0,     0,     0,     0,     0,     0,\n",
       "              0,     0,     0,     0,     0,     0,     0,     0,     0,     0,\n",
       "              0,     0,     0,     0,     0,     0,     0,     0,     0,     0,\n",
       "              0,     0,     0,     0,     0,     0,     0,     0,     0,     0,\n",
       "              0,     0,     0,     0,     0,     0,     0,     0,     0,     0]]),\n",
       " tensor([[1., 1., 1., 1., 0., 0., 0., 0., 0., 0., 0., 0., 0., 0., 0., 0., 0., 0.,\n",
       "          0., 0., 0., 0., 0., 0., 0., 0., 0., 0., 0., 0., 0., 0., 0., 0., 0., 0.,\n",
       "          0., 0., 0., 0., 0., 0., 0., 0., 0., 0., 0., 0., 0., 0., 0., 0., 0., 0.,\n",
       "          0., 0., 0., 0., 0., 0., 0., 0., 0., 0., 0., 0., 0., 0., 0., 0., 0., 0.,\n",
       "          0., 0., 0., 0., 0., 0., 0., 0., 0., 0., 0., 0., 0., 0., 0., 0., 0., 0.,\n",
       "          0., 0., 0., 0., 0., 0., 0., 0., 0., 0., 0., 0., 0., 0., 0., 0., 0., 0.,\n",
       "          0., 0., 0., 0., 0., 0., 0., 0., 0., 0., 0., 0., 0., 0., 0., 0., 0., 0.,\n",
       "          0., 0., 0., 0., 0., 0., 0., 0., 0., 0., 0., 0., 0., 0., 0., 0., 0., 0.,\n",
       "          0., 0., 0., 0., 0., 0., 0., 0., 0., 0., 0., 0., 0., 0., 0., 0., 0., 0.,\n",
       "          0., 0., 0., 0., 0., 0., 0., 0.],\n",
       "         [1., 1., 1., 1., 0., 0., 0., 0., 0., 0., 0., 0., 0., 0., 0., 0., 0., 0.,\n",
       "          0., 0., 0., 0., 0., 0., 0., 0., 0., 0., 0., 0., 0., 0., 0., 0., 0., 0.,\n",
       "          0., 0., 0., 0., 0., 0., 0., 0., 0., 0., 0., 0., 0., 0., 0., 0., 0., 0.,\n",
       "          0., 0., 0., 0., 0., 0., 0., 0., 0., 0., 0., 0., 0., 0., 0., 0., 0., 0.,\n",
       "          0., 0., 0., 0., 0., 0., 0., 0., 0., 0., 0., 0., 0., 0., 0., 0., 0., 0.,\n",
       "          0., 0., 0., 0., 0., 0., 0., 0., 0., 0., 0., 0., 0., 0., 0., 0., 0., 0.,\n",
       "          0., 0., 0., 0., 0., 0., 0., 0., 0., 0., 0., 0., 0., 0., 0., 0., 0., 0.,\n",
       "          0., 0., 0., 0., 0., 0., 0., 0., 0., 0., 0., 0., 0., 0., 0., 0., 0., 0.,\n",
       "          0., 0., 0., 0., 0., 0., 0., 0., 0., 0., 0., 0., 0., 0., 0., 0., 0., 0.,\n",
       "          0., 0., 0., 0., 0., 0., 0., 0.]]),\n",
       " tensor([0, 1]),\n",
       " tensor([0, 0])]"
      ]
     },
     "execution_count": 72,
     "metadata": {},
     "output_type": "execute_result"
    }
   ],
   "source": [
    "i"
   ]
  },
  {
   "cell_type": "code",
   "execution_count": 62,
   "metadata": {},
   "outputs": [],
   "source": [
    "data = utils.utils.data2gpu(i,True)"
   ]
  },
  {
   "cell_type": "code",
   "execution_count": 71,
   "metadata": {},
   "outputs": [
    {
     "data": {
      "text/plain": [
       "MultiDomainFENDModel(\n",
       "  (bert): BertModel(\n",
       "    (embeddings): BertEmbeddings(\n",
       "      (word_embeddings): Embedding(21128, 768, padding_idx=0)\n",
       "      (position_embeddings): Embedding(512, 768)\n",
       "      (token_type_embeddings): Embedding(2, 768)\n",
       "      (LayerNorm): LayerNorm((768,), eps=1e-12, elementwise_affine=True)\n",
       "      (dropout): Dropout(p=0.1, inplace=False)\n",
       "    )\n",
       "    (encoder): BertEncoder(\n",
       "      (layer): ModuleList(\n",
       "        (0-11): 12 x BertLayer(\n",
       "          (attention): BertAttention(\n",
       "            (self): BertSelfAttention(\n",
       "              (query): Linear(in_features=768, out_features=768, bias=True)\n",
       "              (key): Linear(in_features=768, out_features=768, bias=True)\n",
       "              (value): Linear(in_features=768, out_features=768, bias=True)\n",
       "              (dropout): Dropout(p=0.1, inplace=False)\n",
       "            )\n",
       "            (output): BertSelfOutput(\n",
       "              (dense): Linear(in_features=768, out_features=768, bias=True)\n",
       "              (LayerNorm): LayerNorm((768,), eps=1e-12, elementwise_affine=True)\n",
       "              (dropout): Dropout(p=0.1, inplace=False)\n",
       "            )\n",
       "          )\n",
       "          (intermediate): BertIntermediate(\n",
       "            (dense): Linear(in_features=768, out_features=3072, bias=True)\n",
       "            (intermediate_act_fn): GELUActivation()\n",
       "          )\n",
       "          (output): BertOutput(\n",
       "            (dense): Linear(in_features=3072, out_features=768, bias=True)\n",
       "            (LayerNorm): LayerNorm((768,), eps=1e-12, elementwise_affine=True)\n",
       "            (dropout): Dropout(p=0.1, inplace=False)\n",
       "          )\n",
       "        )\n",
       "      )\n",
       "    )\n",
       "    (pooler): BertPooler(\n",
       "      (dense): Linear(in_features=768, out_features=768, bias=True)\n",
       "      (activation): Tanh()\n",
       "    )\n",
       "  )\n",
       "  (expert): ModuleList(\n",
       "    (0-4): 5 x cnn_extractor(\n",
       "      (convs): ModuleList(\n",
       "        (0): Conv1d(768, 64, kernel_size=(1,), stride=(1,))\n",
       "        (1): Conv1d(768, 64, kernel_size=(2,), stride=(1,))\n",
       "        (2): Conv1d(768, 64, kernel_size=(3,), stride=(1,))\n",
       "        (3): Conv1d(768, 64, kernel_size=(5,), stride=(1,))\n",
       "        (4): Conv1d(768, 64, kernel_size=(10,), stride=(1,))\n",
       "      )\n",
       "    )\n",
       "  )\n",
       "  (gate): Sequential(\n",
       "    (0): Linear(in_features=1536, out_features=384, bias=True)\n",
       "    (1): ReLU()\n",
       "    (2): Linear(in_features=384, out_features=5, bias=True)\n",
       "    (3): Softmax(dim=1)\n",
       "  )\n",
       "  (attention): MaskAttention(\n",
       "    (attention_layer): Linear(in_features=768, out_features=1, bias=True)\n",
       "  )\n",
       "  (domain_embedder): Embedding(9, 768)\n",
       "  (specific_extractor): SelfAttentionFeatureExtract(\n",
       "    (attention): MultiHeadedAttention(\n",
       "      (linear_layers): ModuleList(\n",
       "        (0-2): 3 x Linear(in_features=768, out_features=768, bias=True)\n",
       "      )\n",
       "      (output_linear): Linear(in_features=768, out_features=768, bias=True)\n",
       "      (attention): Attention()\n",
       "      (dropout): Dropout(p=0.1, inplace=False)\n",
       "    )\n",
       "    (out_layer): Linear(in_features=768, out_features=256, bias=True)\n",
       "  )\n",
       "  (classifier): MLP(\n",
       "    (mlp): Sequential(\n",
       "      (0): Linear(in_features=320, out_features=384, bias=True)\n",
       "      (1): BatchNorm1d(384, eps=1e-05, momentum=0.1, affine=True, track_running_stats=True)\n",
       "      (2): ReLU()\n",
       "      (3): Dropout(p=0.2, inplace=False)\n",
       "      (4): Linear(in_features=384, out_features=1, bias=True)\n",
       "    )\n",
       "  )\n",
       ")"
      ]
     },
     "execution_count": 71,
     "metadata": {},
     "output_type": "execute_result"
    }
   ],
   "source": [
    "model.cuda()"
   ]
  },
  {
   "cell_type": "code",
   "execution_count": 68,
   "metadata": {},
   "outputs": [
    {
     "ename": "TypeError",
     "evalue": "MultiDomainFENDModel object argument after ** must be a mapping, not list",
     "output_type": "error",
     "traceback": [
      "\u001b[0;31m---------------------------------------------------------------------------\u001b[0m",
      "\u001b[0;31mTypeError\u001b[0m                                 Traceback (most recent call last)",
      "Cell \u001b[0;32mIn[68], line 1\u001b[0m\n\u001b[0;32m----> 1\u001b[0m \u001b[43mmodel\u001b[49m\u001b[43m(\u001b[49m\u001b[38;5;241;43m*\u001b[39;49m\u001b[38;5;241;43m*\u001b[39;49m\u001b[43mi\u001b[49m\u001b[43m)\u001b[49m\n",
      "\u001b[0;31mTypeError\u001b[0m: MultiDomainFENDModel object argument after ** must be a mapping, not list"
     ]
    }
   ],
   "source": [
    "model(**i)"
   ]
  }
 ],
 "metadata": {
  "kernelspec": {
   "display_name": "Python 3",
   "language": "python",
   "name": "python3"
  },
  "language_info": {
   "codemirror_mode": {
    "name": "ipython",
    "version": 3
   },
   "file_extension": ".py",
   "mimetype": "text/x-python",
   "name": "python",
   "nbconvert_exporter": "python",
   "pygments_lexer": "ipython3",
   "version": "3.8.10"
  }
 },
 "nbformat": 4,
 "nbformat_minor": 2
}
