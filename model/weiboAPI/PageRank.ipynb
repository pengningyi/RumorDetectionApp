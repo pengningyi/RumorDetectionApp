{
 "cells": [
  {
   "cell_type": "code",
   "execution_count": 7,
   "metadata": {},
   "outputs": [],
   "source": [
    "from weibo_api.client import WeiboClient\n",
    "import networkx as nx\n",
    "import matplotlib.pyplot as plt\n",
    "import json\n",
    "import requests\n",
    "import re\n",
    "plt.rcParams['font.sans-serif'] = ['YouYuan']\n",
    "plt.rcParams['axes.unicode_minus'] = False \n",
    "client = WeiboClient()\n"
   ]
  },
  {
   "cell_type": "code",
   "execution_count": 9,
   "metadata": {},
   "outputs": [],
   "source": [
    "uid = '5623741644'"
   ]
  },
  {
   "cell_type": "code",
   "execution_count": 12,
   "metadata": {},
   "outputs": [],
   "source": [
    "p = client.people(uid)"
   ]
  },
  {
   "cell_type": "code",
   "execution_count": 13,
   "metadata": {},
   "outputs": [
    {
     "data": {
      "text/plain": [
       "'我想分享的从来都只是护肤这件事本身，不需要跟着我买，我写的对你能有帮助就好（全平台同名'"
      ]
     },
     "execution_count": 13,
     "metadata": {},
     "output_type": "execute_result"
    }
   ],
   "source": [
    "p.description"
   ]
  },
  {
   "cell_type": "code",
   "execution_count": 17,
   "metadata": {},
   "outputs": [
    {
     "data": {
      "text/plain": [
       "{'id': 5623741644,\n",
       " 'name': 'miamaja',\n",
       " 'gender': 'f',\n",
       " 'desc': '我想分享的从来都只是护肤这件事本身，不需要跟着我买，我写的对你能有帮助就好（全平台同名'}"
      ]
     },
     "execution_count": 17,
     "metadata": {},
     "output_type": "execute_result"
    }
   ],
   "source": [
    "def getUserInfo(uid):\n",
    "    p = client.people(uid)\n",
    "    UserInfo = {}\n",
    "    UserInfo['id'] = p.id\n",
    "    UserInfo['name'] = p.name\n",
    "    UserInfo['gender'] = p.gender\n",
    "    UserInfo['desc'] = p.description\n",
    "\n",
    "    return UserInfo\n",
    "def getInterestList(uid,num):\n",
    "    return\n",
    "getUserInfo(uid)"
   ]
  },
  {
   "cell_type": "code",
   "execution_count": 45,
   "metadata": {},
   "outputs": [
    {
     "name": "stdout",
     "output_type": "stream",
     "text": [
      "消费者报道\n",
      "氧化锌锌\n",
      "巧克力星星派\n",
      "SimplyThis诗肤理\n",
      "FIRSTYIN初尹\n",
      "化妆品创新实验室\n",
      "美妆圈那些事儿\n",
      "Z某在言安堂\n",
      "微博电商客服小二\n",
      "微博美妆\n",
      "FORFORMULA\n",
      "微博反垃圾\n",
      "坡诶佩\n",
      "Vitamin2000-\n",
      "凯哥_DK\n",
      "王煊Angelo\n",
      "脂皮记录小S\n",
      "皮肤医美海粟医生\n",
      "南京西路没有金刚\n",
      "贺贺_旋转跳跃闭着眼\n",
      "孟软蛋\n",
      "新浪美妆\n",
      "微博护肤\n",
      "短腿sk\n",
      "博乐达BRODA\n",
      "钟锦璐\n",
      "微博社交会员\n",
      "SVIP内容精选\n",
      "皮肤科医生李晓宁\n",
      "HI郭涛\n",
      "新浪护肤科技说\n",
      "无敌美羊驼\n",
      "田艳丽医生\n",
      "阿虎不踩雷\n",
      "keely_姬\n",
      "雪兔崽崽\n",
      "人民日报\n",
      "配方师朵妈\n",
      "朵拉妈妈DOLLAMAMA\n",
      "谢理肤\n",
      "G_ratisss\n",
      "贝芙汀Beforteen\n",
      "大鸭子的美肤日记\n",
      "佛山DRG电子竞技俱乐部\n",
      "超话社区\n",
      "阿伦的花园\n",
      "-今天也要元气满满\n",
      "林志玲\n",
      "荷兰甜甜甜\n",
      "微博贴纸\n",
      "大脸猪任\n",
      "微博客服\n",
      "皮肤医美秦晓蕾医生\n",
      "中国药品监管\n",
      "EurekaLAB伊锐卡\n",
      "微妆赏\n",
      "钟书润\n",
      "猫球球QAQ\n",
      "皮宝people\n",
      "杨亲亲Ruby\n",
      "Sunrise日升_\n",
      "柏林君在减肥\n",
      "减肥成功版本的柏林\n",
      "微博新星\n",
      "微博新鲜事\n",
      "资生堂专业美发\n",
      "你楠syrobonkus\n",
      "微博广告\n",
      "微博虚假活动曝光平台\n",
      "欧玛PHYTO-C\n",
      "配方师Rex\n",
      "豆叔LUKE\n",
      "四弦秋aki\n",
      "夏波波Brian\n",
      "Butter-Tiger\n",
      "爱护肤的7号\n",
      "蜂蜜睡眠\n",
      "松重丰mattige3\n",
      "皮肤科博士-陈奇权\n",
      "兰心惠质品牌店\n",
      "川乡小妹儿\n",
      "天后-文献派护肤\n",
      "Elsewherera\n",
      "小gu叔叔\n",
      "幸福心医美\n",
      "一勺胖酱\n",
      "晨安睡不醒\n",
      "SkinMuseum肌肤博物馆\n",
      "美姐字幕组\n",
      "TopixChina\n",
      "陈烦人不做老妈子\n",
      "项蕾红_\n",
      "爱美医生Dri\n",
      "郭麒麟\n",
      "郭德纲\n",
      "岳云鹏\n",
      "德云八队\n",
      "mmmia的棉马甲\n",
      "21cain\n",
      "北京卫视上新了故宫\n",
      "北京发布\n",
      "KAUAIX\n",
      "单Niel\n",
      "Tastemade烘焙\n",
      "拉塔科\n",
      "小黑话\n",
      "ingtube映兔\n",
      "周元芳向前冲\n",
      "董路\n",
      "腾美精选\n",
      "佟丽娅\n",
      "纪录片之家\n",
      "sunmeng94\n",
      "选择不选择理由没理由\n",
      "周心心数星星\n",
      "嘿那边的兄弟\n",
      "夏威夷小果果\n",
      "BoboboAndy\n",
      "生态环境部\n",
      "微博数据助手\n",
      "蔡瀾花花世界\n",
      "LaylaLondon\n",
      "皮科大夫朱学骏\n",
      "二更视频\n",
      "李子柒\n",
      "微博安全中心\n",
      "杂货铺老板家的猫奴\n",
      "Myvitamins官方微博\n",
      "微博轻享版小助理\n",
      "营养师顾中一\n",
      "WayneGG-\n",
      "赵V啦啦啦\n",
      "二哥有福\n",
      "美阁庄园做小众护肤的\n",
      "SkinStore\n",
      "绵羊料理\n",
      "微博抽奖平台\n",
      "less1smore_kkkkk\n",
      "微博会员小秘书\n",
      "游戏趣闻速报\n",
      "无罪inGU\n",
      "安多可ENDOCARE\n",
      "大象ROV\n",
      "周粥Yina\n",
      "乔凯文\n",
      "头条文章\n",
      "微博视频号\n",
      "匪气H\n",
      "知肤哲也\n",
      "针线李叨叨\n",
      "第六天少年\n",
      "永山野田妹\n",
      "法国雅诗敦ESTHEDERM\n",
      "微博生活家\n",
      "网易美学\n",
      "美妆情报局\n",
      "一朵魔姑\n",
      "Bigger研究所\n",
      "YUKKIK\n",
      "等等君\n",
      "bilibili哈哈镜王子\n",
      "·Krystal·L\n",
      "歪猪闲置闲置\n",
      "Lynn扬扬酱\n",
      "Alex是大叔\n",
      "处婧\n",
      "茹云美国便利店\n",
      "小鹿橙子味儿\n",
      "网易云课堂\n",
      "掰一块咸奶酥\n",
      "SomebodyHellooo\n",
      "三流学子\n",
      "喝咖啡的小旺\n",
      "M_ksin\n",
      "肉芸子\n",
      "耳帝\n",
      "LTK亚洲\n",
      "_妘亓双\n",
      "夜行者徐浪\n",
      "妖妖FUKK\n",
      "六味地沟油大人\n",
      "微博会员\n",
      "Alyssaaa__\n",
      "蔡瀾\n",
      "鲜城\n",
      "塞西莉娅_\n",
      "青山周平\n",
      "ChicChicy\n",
      "5kg字幕组\n",
      "冷门香水格子铺\n",
      "Annie古着香水\n",
      "樱桃炸团团\n",
      "no51bae\n",
      "ccxhpxtc\n",
      "Ezreal-500金\n"
     ]
    }
   ],
   "source": [
    "for i in p.follows.all():\n",
    "    print(i.name)"
   ]
  },
  {
   "cell_type": "code",
   "execution_count": 44,
   "metadata": {},
   "outputs": [
    {
     "data": {
      "text/plain": [
       "<generator object Peoples.page_from_to at 0x7f51a6d67f90>"
      ]
     },
     "execution_count": 44,
     "metadata": {},
     "output_type": "execute_result"
    }
   ],
   "source": [
    "p.follows.all()"
   ]
  },
  {
   "cell_type": "code",
   "execution_count": 40,
   "metadata": {},
   "outputs": [
    {
     "name": "stdout",
     "output_type": "stream",
     "text": [
      "用户7914672672\n",
      "猫恋三部曲\n",
      "要不喝点果粒橙\n",
      "猫部饲养手册\n",
      "用户7914754784\n",
      "沪慧慧工作室\n",
      "J·Alexander\n",
      "用户7914846145\n",
      "用户7354331145\n",
      "用户7715773494\n",
      "用户6445589117\n",
      "226万\n",
      "我是小赛呀1988\n",
      "xzzzr011615\n",
      "春姐xch\n",
      "为何要口是心非\n",
      "独善其身0526\n",
      "用户6502116019\n",
      "shimmer_1234\n",
      "xionglw1997\n"
     ]
    }
   ],
   "source": [
    "for i in p.followers.page(1):\n",
    "    print(i.name)"
   ]
  },
  {
   "cell_type": "code",
   "execution_count": 41,
   "metadata": {},
   "outputs": [
    {
     "name": "stdout",
     "output_type": "stream",
     "text": [
      "xionglw1997\n",
      "-多喝热水儿\n",
      "正是水穷云起时\n",
      "用户6467536445\n",
      "用户5992769900\n",
      "刘太太198205\n",
      "小辉很帅aile\n",
      "二的小姐_649\n",
      "0大乔0\n",
      "用户7892603360\n",
      "C--橙橙\n",
      "楚皓雯_611\n",
      "撩人张某\n",
      "那些年chc\n",
      "用户7621161959\n",
      "hhh万磁王\n",
      "用户5944183843\n",
      "味道6070322102\n",
      "BBClan-fan\n",
      "浩宝妈妈呀\n"
     ]
    }
   ],
   "source": [
    "for i in p.followers.page(20):\n",
    "    print(i.name)"
   ]
  },
  {
   "cell_type": "code",
   "execution_count": 29,
   "metadata": {},
   "outputs": [],
   "source": [
    "ls = []\n",
    "for i in p.followers.page_from_to(1,3):\n",
    "    ls.append(i.name)"
   ]
  },
  {
   "cell_type": "code",
   "execution_count": 36,
   "metadata": {},
   "outputs": [
    {
     "data": {
      "text/plain": [
       "['猫恋三部曲',\n",
       " '要不喝点果粒橙',\n",
       " '猫部饲养手册',\n",
       " '用户7914754784',\n",
       " '沪慧慧工作室',\n",
       " 'J·Alexander',\n",
       " '用户7914846145',\n",
       " '用户7354331145',\n",
       " '用户7715773494',\n",
       " '用户6445589117',\n",
       " '226万',\n",
       " '我是小赛呀1988',\n",
       " 'xzzzr011615',\n",
       " '春姐xch',\n",
       " '为何要口是心非',\n",
       " '独善其身0526',\n",
       " '用户6502116019',\n",
       " 'shimmer_1234',\n",
       " 'xionglw1997',\n",
       " '-多喝热水儿']"
      ]
     },
     "execution_count": 36,
     "metadata": {},
     "output_type": "execute_result"
    }
   ],
   "source": [
    "ls[:20]"
   ]
  },
  {
   "cell_type": "code",
   "execution_count": 35,
   "metadata": {},
   "outputs": [
    {
     "data": {
      "text/plain": [
       "['要不喝点果粒橙',\n",
       " '猫部饲养手册',\n",
       " '用户7914754784',\n",
       " '沪慧慧工作室',\n",
       " 'J·Alexander',\n",
       " '用户7914846145',\n",
       " '用户7354331145',\n",
       " '用户7715773494',\n",
       " '用户6445589117',\n",
       " '226万',\n",
       " '我是小赛呀1988',\n",
       " 'xzzzr011615',\n",
       " '春姐xch',\n",
       " '为何要口是心非',\n",
       " '独善其身0526',\n",
       " '用户6502116019',\n",
       " 'shimmer_1234',\n",
       " 'xionglw1997',\n",
       " '-多喝热水儿',\n",
       " '正是水穷云起时']"
      ]
     },
     "execution_count": 35,
     "metadata": {},
     "output_type": "execute_result"
    }
   ],
   "source": [
    "ls[20:40]"
   ]
  },
  {
   "cell_type": "code",
   "execution_count": 37,
   "metadata": {},
   "outputs": [
    {
     "data": {
      "text/plain": [
       "['猫部饲养手册',\n",
       " '用户7914754784',\n",
       " '沪慧慧工作室',\n",
       " 'J·Alexander',\n",
       " '用户7914846145',\n",
       " '用户7354331145',\n",
       " '用户7715773494',\n",
       " '用户6445589117',\n",
       " '226万',\n",
       " '我是小赛呀1988',\n",
       " 'xzzzr011615',\n",
       " '春姐xch',\n",
       " '为何要口是心非',\n",
       " '独善其身0526',\n",
       " '用户6502116019',\n",
       " 'shimmer_1234',\n",
       " 'xionglw1997',\n",
       " '-多喝热水儿',\n",
       " '正是水穷云起时',\n",
       " '用户6467536445']"
      ]
     },
     "execution_count": 37,
     "metadata": {},
     "output_type": "execute_result"
    }
   ],
   "source": [
    "ls[40:60]"
   ]
  },
  {
   "cell_type": "code",
   "execution_count": 22,
   "metadata": {},
   "outputs": [
    {
     "data": {
      "text/plain": [
       "[{'card_type': 31, 'itemid': '', 'scheme': 'https://m.weibo.cn/search?profile_containerid=231802_0&profile_uid=5623741644&disable_sug=1&diabled_eject_animation=1&disable_hot=0&trans_bg=0&disable_history=1&hint=%E6%90%9C%E5%A5%B9%E7%9A%84%E5%BE%AE%E5%8D%9A&container_ext=profile_uid%3A5623741644%7Chint%3D%E6%90%9C%E5%A5%B9%E7%9A%84%E5%BE%AE%E5%8D%9A%7Cnettype%3A%7Cgps_timestamp%3A1712914074&containerid=100103type%3D401%26t%3D10%26q%3D', 'desc': '搜她的微博'}, {'card_type': 11, 'show_type': 3, 'card_style': 1, 'title': '全部微博()', 'card_group': [{'card_type': 9, 'card_type_name': '', 'itemid': '', 'scheme': 'https://m.weibo.cn/status/NFCdmufRP?mblogid=NFCdmufRP', 'mblog': {'visible': {'type': 0, 'list_id': 0}, 'mark': '999_reallog_mark_ad:999|WeiboADNatural', 'created_at': 'Thu Feb 08 16:41:26 +0800 2024', 'id': '4999183487210837', 'mid': '4999183487210837', 'edit_count': 1, 'can_edit': False, 'edit_at': 'Thu Feb 08 16:42:39 +0800 2024', 'show_additional_indication': 0, 'text': '📕硬核护肤攻略《保湿与滋润》<br /><br />如果你完全不知道该怎么护肤，那么把“清洁+保湿+防晒”这三个环节做好就可以了。<br /><br />有效保湿，其实在护肤的每一个步骤中都真实存在: 你涂的化妆水、精华液、乳液面霜，包括防晒和底妆里，都有保湿的成分、保湿的功能，只不过有的是清爽保湿、有的是滋润补油。<br /><br />不必陷 ...<a href=\"/status/4999183487210837\">全文</a>', 'textLength': 1691, 'source': 'HUAWEI MatePad Pro', 'favorited': False, 'pic_ids': ['0068AE6oly1hmm5dzh5yuj30v19304qp', '0068AE6oly1hmm5e089b1j30v1b281kx', '0068AE6oly1hmm5e0smtkj30v18krng3', '0068AE6oly1hmm5e1cju2j30v17g2k9l', '0068AE6oly1hmm5e1se06j30o80o8wnf', '0068AE6oly1hmm5e2eukfj30v184h1kx', '0068AE6oly1hmm5e3c61xj30v19vmhdt', '0068AE6oly1hmm5e41zfnj30v1bj87uz', '0068AE6oly1hmm5e4z3ttj30v19tqhd0'], 'thumbnail_pic': 'https://wx3.sinaimg.cn/thumbnail/0068AE6oly1hmm5dzh5yuj30v19304qp.jpg', 'bmiddle_pic': 'http://wx3.sinaimg.cn/bmiddle/0068AE6oly1hmm5dzh5yuj30v19304qp.jpg', 'original_pic': 'https://wx3.sinaimg.cn/large/0068AE6oly1hmm5dzh5yuj30v19304qp.jpg', 'is_paid': False, 'mblog_vip_type': 0, 'user': {'id': 5623741644, 'screen_name': 'miamaja', 'profile_image_url': 'https://tvax2.sinaimg.cn/crop.0.0.1080.1080.180/0068AE6oly8hnfdby63ezj30u00u0jth.jpg?KID=imgbed,tva&Expires=1712924874&ssig=PzGOeNIObL', 'profile_url': 'https://m.weibo.cn/u/5623741644?', 'statuses_count': 3702, 'verified': True, 'verified_type': 0, 'verified_type_ext': 2, 'verified_reason': '美妆护肤博主 头条文章作者', 'close_blue_v': False, 'description': '我想分享的从来都只是护肤这件事本身，不需要跟着我买，我写的对你能有帮助就好（全平台同名', 'gender': 'f', 'mbtype': 12, 'svip': 1, 'urank': 41, 'mbrank': 2, 'follow_me': False, 'following': False, 'follow_count': 507, 'followers_count': '41.3万', 'followers_count_str': '41.3万', 'cover_image_phone': 'https://wx3.sinaimg.cn/crop.0.0.640.640.640/0068AE6oly1hf05o2x1cmj30u00u076t.jpg', 'avatar_hd': 'https://wx2.sinaimg.cn/orj480/0068AE6oly8hnfdby63ezj30u00u0jth.jpg', 'like': False, 'like_me': False, 'badge': {'bind_taobao': 1, 'dzwbqlx_2016': 1, 'follow_whitelist_video': 1, 'user_name_certificate': 1, 'qixi_2018': 1, 'hongbaofei_2019': 1, 'wusi_2019': 1, 'hongbao_2020': 2, 'pc_new': 7, 'zhongcaouser_2021': 1, 'hongbaofei2022_2021': 2, 'iplocationchange_2022': 1, 'gaokao_2022': 1, 'yayunhuiguoqi_2023': 1, 'user_identity_auth': 1}, 'special_follow': False}, 'picStatus': '0:1,1:1,2:1,3:1,4:1,5:1,6:1,7:1,8:1', 'reposts_count': 871, 'comments_count': 936, 'reprint_cmt_count': 0, 'attitudes_count': 1660, 'pending_approval_count': 0, 'isLongText': True, 'show_mlevel': 0, 'ad_state': 1, 'darwin_tags': [], 'ad_marked': False, 'mblogtype': 2, 'item_category': 'status', 'rid': '0_0_50_5137839458019734728_0_0_0', 'extern_safe': 0, 'content_auth': 0, 'safe_tags': 67112960, 'comment_manage_info': {'comment_permission_type': -1, 'approval_comment_type': 0, 'comment_sort_type': 0}, 'pic_num': 15, 'hot_page': {'fid': '232532_mblog', 'feed_detail_type': 0}, 'new_comment_style': 0, 'ab_switcher': 68, 'mlevel': 0, 'region_name': '发布于 北京', 'region_opt': 1, 'mblog_menu_new_style': 0, 'isTop': 1, 'page_info': {'object_type': 2, 'type': 'webpage', 'page_pic': {'url': 'https://wx3.sinaimg.cn/large/a8438675ly1fwzltcsz1ej203w03wjri.jpg', 'width': '', 'height': ''}, 'page_url': 'https://event.weibo.com/yae/event/lottery/history?mid=4999183487210837', 'url_ori': 'http://t.cn/A6YJG38l', 'page_title': '微博抽奖公示', 'content1': '微博抽奖平台全程监督'}, 'pics': [{'pid': '0068AE6oly1hmm5dzh5yuj30v19304qp', 'url': 'https://wx3.sinaimg.cn/orj360/0068AE6oly1hmm5dzh5yuj30v19304qp.jpg', 'size': 'orj360', 'geo': {'width': 360, 'height': 3794, 'croped': False}, 'large': {'size': 'large', 'url': 'https://wx3.sinaimg.cn/large/0068AE6oly1hmm5dzh5yuj30v19304qp.jpg', 'geo': {'width': '1117', 'height': '11772', 'croped': False}}}, {'pid': '0068AE6oly1hmm5e089b1j30v1b281kx', 'url': 'https://wx4.sinaimg.cn/orj360/0068AE6oly1hmm5e089b1j30v1b281kx.jpg', 'size': 'orj360', 'geo': {'width': 360, 'height': 4620, 'croped': False}, 'large': {'size': 'large', 'url': 'https://wx4.sinaimg.cn/large/0068AE6oly1hmm5e089b1j30v1b281kx.jpg', 'geo': {'width': '1117', 'height': '14336', 'croped': False}}}, {'pid': '0068AE6oly1hmm5e0smtkj30v18krng3', 'url': 'https://wx4.sinaimg.cn/orj360/0068AE6oly1hmm5e0smtkj30v18krng3.jpg', 'size': 'orj360', 'geo': {'width': 360, 'height': 3582, 'croped': False}, 'large': {'size': 'large', 'url': 'https://wx4.sinaimg.cn/large/0068AE6oly1hmm5e0smtkj30v18krng3.jpg', 'geo': {'width': '1117', 'height': '11115', 'croped': False}}}, {'pid': '0068AE6oly1hmm5e1cju2j30v17g2k9l', 'url': 'https://wx1.sinaimg.cn/orj360/0068AE6oly1hmm5e1cju2j30v17g2k9l.jpg', 'size': 'orj360', 'geo': {'width': 360, 'height': 3110, 'croped': False}, 'large': {'size': 'large', 'url': 'https://wx1.sinaimg.cn/large/0068AE6oly1hmm5e1cju2j30v17g2k9l.jpg', 'geo': {'width': '1117', 'height': '9650', 'croped': False}}}, {'pid': '0068AE6oly1hmm5e1se06j30o80o8wnf', 'url': 'https://wx2.sinaimg.cn/orj360/0068AE6oly1hmm5e1se06j30o80o8wnf.jpg', 'size': 'orj360', 'geo': {'width': 360, 'height': 360, 'croped': False}, 'large': {'size': 'large', 'url': 'https://wx2.sinaimg.cn/large/0068AE6oly1hmm5e1se06j30o80o8wnf.jpg', 'geo': {'width': '872', 'height': '872', 'croped': False}}}, {'pid': '0068AE6oly1hmm5e2eukfj30v184h1kx', 'url': 'https://wx3.sinaimg.cn/orj360/0068AE6oly1hmm5e2eukfj30v184h1kx.jpg', 'size': 'orj360', 'geo': {'width': 360, 'height': 3393, 'croped': False}, 'large': {'size': 'large', 'url': 'https://wx3.sinaimg.cn/large/0068AE6oly1hmm5e2eukfj30v184h1kx.jpg', 'geo': {'width': '1117', 'height': '10529', 'croped': False}}}, {'pid': '0068AE6oly1hmm5e3c61xj30v19vmhdt', 'url': 'https://wx4.sinaimg.cn/orj360/0068AE6oly1hmm5e3c61xj30v19vmhdt.jpg', 'size': 'orj360', 'geo': {'width': 360, 'height': 4125, 'croped': False}, 'large': {'size': 'large', 'url': 'https://wx4.sinaimg.cn/large/0068AE6oly1hmm5e3c61xj30v19vmhdt.jpg', 'geo': {'width': '1117', 'height': '12802', 'croped': False}}}, {'pid': '0068AE6oly1hmm5e41zfnj30v1bj87uz', 'url': 'https://wx2.sinaimg.cn/orj360/0068AE6oly1hmm5e41zfnj30v1bj87uz.jpg', 'size': 'orj360', 'geo': {'width': 360, 'height': 4817, 'croped': False}, 'large': {'size': 'large', 'url': 'https://wx2.sinaimg.cn/large/0068AE6oly1hmm5e41zfnj30v1bj87uz.jpg', 'geo': {'width': '1117', 'height': '14948', 'croped': False}}}, {'pid': '0068AE6oly1hmm5e4z3ttj30v19tqhd0', 'url': 'https://wx1.sinaimg.cn/orj360/0068AE6oly1hmm5e4z3ttj30v19tqhd0.jpg', 'size': 'orj360', 'geo': {'width': 360, 'height': 4104, 'croped': False}, 'large': {'size': 'large', 'url': 'https://wx1.sinaimg.cn/large/0068AE6oly1hmm5e4z3ttj30v19tqhd0.jpg', 'geo': {'width': '1117', 'height': '12734', 'croped': False}}}], 'title': {'text': '置顶', 'base_color': 1}, 'bid': 'NFCdmufRP'}, 'show_type': 1, 'title': ''}]}, {'card_type': 9, 'card_type_name': '', 'itemid': '', 'scheme': 'https://m.weibo.cn/status/M6cdUpVC2?mblogid=M6cdUpVC2', 'mblog': {'visible': {'type': 0, 'list_id': 0}, 'created_at': 'Sat Sep 17 19:26:26 +0800 2022', 'id': '4814769586179666', 'mid': '4814769586179666', 'edit_count': 15, 'can_edit': False, 'edit_at': 'Fri Aug 25 23:00:08 +0800 2023', 'show_additional_indication': 0, 'text': '📒 如果你想彻底学会护肤【本条长图】带你: 从了解自己的皮肤开始，找方法、选产品，学会科学搭配和调整产品用法<br /><br />-<br /><br />📒 【𝐌𝐢𝐚的巨型护肤目录】<a  href=\"https://m.weibo.cn/5623741644/4814769427319062\" data-hide=\"\"><span class=\\'url-icon\\'><img style=\\'width: 1rem;height: 1rem\\' src=\\'https://h5.sinaimg.cn/upload/2015/09/25/3/timeline_card_small_web_default.png\\'></span><span class=\"surl-text\">网页链接</span></a>（自助功课机）肌肤问题、肤质类型、季节护理、护肤流程、成分专题……<br /><br />🧾 选品必看（偷懒版）<a  href=\"https://m.weibo.cn/search?containerid=231522type%3D1%26t%3D10%26q%3D%23mia%E6%8A%A4%E8%82%A4%E6%8E%A8%E8%8D%90%E6%B8%85%E5%8D%95%23&extparam=%23mia%E6%8A%A4%E8%82%A4%E6%8E%A8%E8%8D%90%E6%B8%85%E5%8D%95%23\" data-hide=\"\"><span class=\"surl-text\">#mia护肤推荐清单#</span></a> <br /><br />? ...<a href=\"/status/4814769586179666\">全文</a>', 'textLength': 1095, 'source': 'iPhone 13 Pro', 'favorited': False, 'pic_ids': ['0068AE6oly1h69snzer4wj30m882mdt4', '0068AE6oly1h69so239elj30m8740tlh', '0068AE6oly1h69so4ixv1j30m84zcdyd', '0068AE6oly1h69so8214pj30m887o7wh', '0068AE6oly1h69ttdlllkj314014075v', '0068AE6oly1h69sod1z7bj30m89fme81', '0068AE6oly1h69soifhvkj30m885o4qp', '0068AE6oly1h69sonjcyxj30m8bi4e81', '0068AE6oly1h69snuzcbcj30m8ah0e81'], 'thumbnail_pic': 'https://wx3.sinaimg.cn/thumbnail/0068AE6oly1h69snzer4wj30m882mdt4.jpg', 'bmiddle_pic': 'http://wx3.sinaimg.cn/bmiddle/0068AE6oly1h69snzer4wj30m882mdt4.jpg', 'original_pic': 'https://wx3.sinaimg.cn/large/0068AE6oly1h69snzer4wj30m882mdt4.jpg', 'is_paid': False, 'mblog_vip_type': 0, 'user': {'id': 5623741644, 'screen_name': 'miamaja', 'profile_image_url': 'https://tvax2.sinaimg.cn/crop.0.0.1080.1080.180/0068AE6oly8hnfdby63ezj30u00u0jth.jpg?KID=imgbed,tva&Expires=1712924874&ssig=PzGOeNIObL', 'profile_url': 'https://m.weibo.cn/u/5623741644?', 'statuses_count': 3702, 'verified': True, 'verified_type': 0, 'verified_type_ext': 2, 'verified_reason': '美妆护肤博主 头条文章作者', 'close_blue_v': False, 'description': '我想分享的从来都只是护肤这件事本身，不需要跟着我买，我写的对你能有帮助就好（全平台同名', 'gender': 'f', 'mbtype': 12, 'svip': 1, 'urank': 41, 'mbrank': 2, 'follow_me': False, 'following': False, 'follow_count': 507, 'followers_count': '41.3万', 'followers_count_str': '41.3万', 'cover_image_phone': 'https://wx3.sinaimg.cn/crop.0.0.640.640.640/0068AE6oly1hf05o2x1cmj30u00u076t.jpg', 'avatar_hd': 'https://wx2.sinaimg.cn/orj480/0068AE6oly8hnfdby63ezj30u00u0jth.jpg', 'like': False, 'like_me': False, 'badge': {'bind_taobao': 1, 'dzwbqlx_2016': 1, 'follow_whitelist_video': 1, 'user_name_certificate': 1, 'qixi_2018': 1, 'hongbaofei_2019': 1, 'wusi_2019': 1, 'hongbao_2020': 2, 'pc_new': 7, 'zhongcaouser_2021': 1, 'hongbaofei2022_2021': 2, 'iplocationchange_2022': 1, 'gaokao_2022': 1, 'yayunhuiguoqi_2023': 1, 'user_identity_auth': 1}, 'special_follow': False}, 'picStatus': '0:1,1:1,2:1,3:1,4:1,5:1,6:1,7:1,8:1', 'reposts_count': 1069, 'comments_count': 1498, 'reprint_cmt_count': 0, 'attitudes_count': 2416, 'pending_approval_count': 0, 'isLongText': True, 'show_mlevel': 0, 'darwin_tags': [], 'ad_marked': False, 'mblogtype': 2, 'item_category': 'status', 'rid': '1_0_50_5137839458019734728_0_0_0', 'mlevelSource': 'monitor', 'extern_safe': 0, 'content_auth': 0, 'safe_tags': 281509403623456, 'comment_manage_info': {'comment_permission_type': -1, 'approval_comment_type': 0, 'comment_sort_type': 0}, 'pic_num': 18, 'hot_page': {'fid': '232532_mblog', 'feed_detail_type': 0}, 'new_comment_style': 0, 'ab_switcher': 68, 'mlevel': 0, 'region_name': '发布于 北京', 'region_opt': 1, 'mblog_menu_new_style': 0, 'isTop': 1, 'page_info': {'object_type': 2, 'type': 'webpage', 'page_pic': {'height': '158', 'url': 'https://wx4.sinaimg.cn/large/0068AE6ogy1h5qckjxlbmj30k00k0n2d.jpg', 'width': '210'}, 'page_url': 'http://m.weibo.cn/p/2327184525065970031489?', 'url_ori': 'http://t.cn/A69e3XtZ', 'page_title': 'miamaja', 'content1': '希望我的分享能帮助你\\n建立一条清晰的护肤逻辑线：\\n➡️从分析皮肤问题\\n➡️到规划每个阶段的护肤目标\\n\\n➡️再找到对应的方法\\n➡️学会精准选择适合自己的产品\\n\\n➡️梳理清搭配的思路\\n➡️并且学会灵活调整用法'}, 'pics': [{'pid': '0068AE6oly1h69snzer4wj30m882mdt4', 'url': 'https://wx3.sinaimg.cn/orj360/0068AE6oly1h69snzer4wj30m882mdt4.jpg', 'size': 'orj360', 'geo': {'width': 360, 'height': 4707, 'croped': False}, 'large': {'size': 'large', 'url': 'https://wx3.sinaimg.cn/large/0068AE6oly1h69snzer4wj30m882mdt4.jpg', 'geo': {'width': '800', 'height': '10462', 'croped': False}}}, {'pid': '0068AE6oly1h69so239elj30m8740tlh', 'url': 'https://wx3.sinaimg.cn/orj360/0068AE6oly1h69so239elj30m8740tlh.jpg', 'size': 'orj360', 'geo': {'width': 360, 'height': 4147, 'croped': False}, 'large': {'size': 'large', 'url': 'https://wx3.sinaimg.cn/large/0068AE6oly1h69so239elj30m8740tlh.jpg', 'geo': {'width': '800', 'height': '9216', 'croped': False}}}, {'pid': '0068AE6oly1h69so4ixv1j30m84zcdyd', 'url': 'https://wx3.sinaimg.cn/orj360/0068AE6oly1h69so4ixv1j30m84zcdyd.jpg', 'size': 'orj360', 'geo': {'width': 360, 'height': 2905, 'croped': False}, 'large': {'size': 'large', 'url': 'https://wx3.sinaimg.cn/large/0068AE6oly1h69so4ixv1j30m84zcdyd.jpg', 'geo': {'width': '800', 'height': '6456', 'croped': False}}}, {'pid': '0068AE6oly1h69so8214pj30m887o7wh', 'url': 'https://wx4.sinaimg.cn/orj360/0068AE6oly1h69so8214pj30m887o7wh.jpg', 'size': 'orj360', 'geo': {'width': 360, 'height': 4789, 'croped': False}, 'large': {'size': 'large', 'url': 'https://wx4.sinaimg.cn/large/0068AE6oly1h69so8214pj30m887o7wh.jpg', 'geo': {'width': '800', 'height': '10644', 'croped': False}}}, {'pid': '0068AE6oly1h69ttdlllkj314014075v', 'url': 'https://wx3.sinaimg.cn/orj360/0068AE6oly1h69ttdlllkj314014075v.jpg', 'size': 'orj360', 'geo': {'width': 360, 'height': 360, 'croped': False}, 'large': {'size': 'large', 'url': 'https://wx3.sinaimg.cn/large/0068AE6oly1h69ttdlllkj314014075v.jpg', 'geo': {'width': '1440', 'height': '1440', 'croped': False}}}, {'pid': '0068AE6oly1h69sod1z7bj30m89fme81', 'url': 'https://wx3.sinaimg.cn/orj360/0068AE6oly1h69sod1z7bj30m89fme81.jpg', 'size': 'orj360', 'geo': {'width': 360, 'height': 5501, 'croped': False}, 'large': {'size': 'large', 'url': 'https://wx3.sinaimg.cn/large/0068AE6oly1h69sod1z7bj30m89fme81.jpg', 'geo': {'width': '800', 'height': '12226', 'croped': False}}}, {'pid': '0068AE6oly1h69soifhvkj30m885o4qp', 'url': 'https://wx2.sinaimg.cn/orj360/0068AE6oly1h69soifhvkj30m885o4qp.jpg', 'size': 'orj360', 'geo': {'width': 360, 'height': 4757, 'croped': False}, 'large': {'size': 'large', 'url': 'https://wx2.sinaimg.cn/large/0068AE6oly1h69soifhvkj30m885o4qp.jpg', 'geo': {'width': '800', 'height': '10572', 'croped': False}}}, {'pid': '0068AE6oly1h69sonjcyxj30m8bi4e81', 'url': 'https://wx2.sinaimg.cn/orj360/0068AE6oly1h69sonjcyxj30m8bi4e81.jpg', 'size': 'orj360', 'geo': {'width': 360, 'height': 6708, 'croped': False}, 'large': {'size': 'large', 'url': 'https://wx2.sinaimg.cn/large/0068AE6oly1h69sonjcyxj30m8bi4e81.jpg', 'geo': {'width': '800', 'height': '14908', 'croped': False}}}, {'pid': '0068AE6oly1h69snuzcbcj30m8ah0e81', 'url': 'https://wx1.sinaimg.cn/orj360/0068AE6oly1h69snuzcbcj30m8ah0e81.jpg', 'size': 'orj360', 'geo': {'width': 360, 'height': 6107, 'croped': False}, 'large': {'size': 'large', 'url': 'https://wx1.sinaimg.cn/large/0068AE6oly1h69snuzcbcj30m8ah0e81.jpg', 'geo': {'width': '800', 'height': '13572', 'croped': False}}}], 'title': {'text': '置顶', 'base_color': 1}, 'bid': 'M6cdUpVC2'}, 'show_type': 1, 'title': ''}, {'card_type': 9, 'card_type_name': '', 'itemid': '', 'scheme': 'https://m.weibo.cn/status/O9oiKaFeX?mblogid=O9oiKaFeX', 'mblog': {'visible': {'type': 0, 'list_id': 0}, 'created_at': 'Fri Apr 12 17:10:49 +0800 2024', 'id': '5022383702541811', 'mid': '5022383702541811', 'can_edit': False, 'show_additional_indication': 0, 'text': '讲一个热知识：如果你长期熬夜、失眠、焦虑，或者这段时间反反复复的生病、过敏……用了很多抗氧抗红修正红黑之类的提亮精华都感觉不到一点作用，可能是正常的<br /><br />因为只是外在的涂涂抹抹，完全抵消不了体内涌出来的debuff，顶多在你的角质层给你修修补补，那点补救的量肉眼不可见也不奇怪<br /><br />但相反，如果 ...<a href=\"/status/5022383702541811\">全文</a>', 'textLength': 578, 'source': 'HUAWEI MatePad Pro', 'favorited': False, 'pic_ids': [], 'is_paid': False, 'mblog_vip_type': 0, 'user': {'id': 5623741644, 'screen_name': 'miamaja', 'profile_image_url': 'https://tvax2.sinaimg.cn/crop.0.0.1080.1080.180/0068AE6oly8hnfdby63ezj30u00u0jth.jpg?KID=imgbed,tva&Expires=1712924874&ssig=PzGOeNIObL', 'profile_url': 'https://m.weibo.cn/u/5623741644?', 'statuses_count': 3702, 'verified': True, 'verified_type': 0, 'verified_type_ext': 2, 'verified_reason': '美妆护肤博主 头条文章作者', 'close_blue_v': False, 'description': '我想分享的从来都只是护肤这件事本身，不需要跟着我买，我写的对你能有帮助就好（全平台同名', 'gender': 'f', 'mbtype': 12, 'svip': 1, 'urank': 41, 'mbrank': 2, 'follow_me': False, 'following': False, 'follow_count': 507, 'followers_count': '41.3万', 'followers_count_str': '41.3万', 'cover_image_phone': 'https://wx3.sinaimg.cn/crop.0.0.640.640.640/0068AE6oly1hf05o2x1cmj30u00u076t.jpg', 'avatar_hd': 'https://wx2.sinaimg.cn/orj480/0068AE6oly8hnfdby63ezj30u00u0jth.jpg', 'like': False, 'like_me': False, 'badge': {'bind_taobao': 1, 'dzwbqlx_2016': 1, 'follow_whitelist_video': 1, 'user_name_certificate': 1, 'qixi_2018': 1, 'hongbaofei_2019': 1, 'wusi_2019': 1, 'hongbao_2020': 2, 'pc_new': 7, 'zhongcaouser_2021': 1, 'hongbaofei2022_2021': 2, 'iplocationchange_2022': 1, 'gaokao_2022': 1, 'yayunhuiguoqi_2023': 1, 'user_identity_auth': 1}, 'special_follow': False}, 'reposts_count': 3, 'comments_count': 5, 'reprint_cmt_count': 0, 'attitudes_count': 27, 'pending_approval_count': 0, 'isLongText': True, 'show_mlevel': 0, 'darwin_tags': [], 'ad_marked': False, 'mblogtype': 0, 'item_category': 'status', 'rid': '2_0_50_5137839458019734728_0_0_0', 'extern_safe': 0, 'number_display_strategy': {'apply_scenario_flag': 3, 'display_text_min_number': 1000000, 'display_text': '100万+'}, 'content_auth': 0, 'comment_manage_info': {'comment_permission_type': -1, 'approval_comment_type': 0, 'comment_sort_type': 0}, 'pic_num': 0, 'hot_page': {'fid': '232532_mblog', 'feed_detail_type': 0}, 'new_comment_style': 0, 'ab_switcher': 68, 'mlevel': 0, 'region_name': '发布于 北京', 'region_opt': 1, 'mblog_menu_new_style': 0, 'bid': 'O9oiKaFeX'}, 'show_type': 1, 'title': ''}, {'card_type': 9, 'card_type_name': '', 'itemid': '', 'scheme': 'https://m.weibo.cn/status/O9fWK7zzz?mblogid=O9fWK7zzz', 'mblog': {'visible': {'type': 0, 'list_id': 0}, 'created_at': 'Thu Apr 11 19:54:38 +0800 2024', 'id': '5022062541805041', 'mid': '5022062541805041', 'can_edit': False, 'show_additional_indication': 0, 'text': '谢谢直白盒子！上个月我做完点阵之后，它家刚好给我快递了这个面膜，之前三八节活动也给大家抽了五盒作为福利，它家的优势在于性价比高+细节做的很到位，比如这个面膜的使用感就是我用过械字号面膜里，再综合效果能排进前三的了：<br /><br />医用纱布的材质，刚打完点阵敷上也很温和，我用过比较不舒服的面膜材 ...<a href=\"/status/5022062541805041\">全文</a>', 'textLength': 1168, 'source': '理性护肤iPhone 13 Pro', 'favorited': False, 'pic_ids': ['0068AE6oly1hon5104mpdj31q81q81kx', '0068AE6oly1hon50zkkyej323c23c1kx', '0068AE6oly1hon510sndij32c02c0npd', '0068AE6oly1hon5115r6qj31by1bynho'], 'thumbnail_pic': 'https://wx3.sinaimg.cn/thumbnail/0068AE6oly1hon5104mpdj31q81q81kx.jpg', 'bmiddle_pic': 'http://wx3.sinaimg.cn/bmiddle/0068AE6oly1hon5104mpdj31q81q81kx.jpg', 'original_pic': 'https://wx3.sinaimg.cn/large/0068AE6oly1hon5104mpdj31q81q81kx.jpg', 'is_paid': False, 'mblog_vip_type': 0, 'user': {'id': 5623741644, 'screen_name': 'miamaja', 'profile_image_url': 'https://tvax2.sinaimg.cn/crop.0.0.1080.1080.180/0068AE6oly8hnfdby63ezj30u00u0jth.jpg?KID=imgbed,tva&Expires=1712924874&ssig=PzGOeNIObL', 'profile_url': 'https://m.weibo.cn/u/5623741644?', 'statuses_count': 3702, 'verified': True, 'verified_type': 0, 'verified_type_ext': 2, 'verified_reason': '美妆护肤博主 头条文章作者', 'close_blue_v': False, 'description': '我想分享的从来都只是护肤这件事本身，不需要跟着我买，我写的对你能有帮助就好（全平台同名', 'gender': 'f', 'mbtype': 12, 'svip': 1, 'urank': 41, 'mbrank': 2, 'follow_me': False, 'following': False, 'follow_count': 507, 'followers_count': '41.3万', 'followers_count_str': '41.3万', 'cover_image_phone': 'https://wx3.sinaimg.cn/crop.0.0.640.640.640/0068AE6oly1hf05o2x1cmj30u00u076t.jpg', 'avatar_hd': 'https://wx2.sinaimg.cn/orj480/0068AE6oly8hnfdby63ezj30u00u0jth.jpg', 'like': False, 'like_me': False, 'badge': {'bind_taobao': 1, 'dzwbqlx_2016': 1, 'follow_whitelist_video': 1, 'user_name_certificate': 1, 'qixi_2018': 1, 'hongbaofei_2019': 1, 'wusi_2019': 1, 'hongbao_2020': 2, 'pc_new': 7, 'zhongcaouser_2021': 1, 'hongbaofei2022_2021': 2, 'iplocationchange_2022': 1, 'gaokao_2022': 1, 'yayunhuiguoqi_2023': 1, 'user_identity_auth': 1}, 'special_follow': False}, 'picStatus': '0:1,1:1,2:1,3:1', 'reposts_count': 33, 'comments_count': 57, 'reprint_cmt_count': 0, 'attitudes_count': 121, 'pending_approval_count': 0, 'isLongText': True, 'show_mlevel': 0, 'darwin_tags': [], 'ad_marked': False, 'mblogtype': 0, 'item_category': 'status', 'rid': '3_0_50_5137839458019734728_0_0_0', 'extern_safe': 0, 'number_display_strategy': {'apply_scenario_flag': 3, 'display_text_min_number': 1000000, 'display_text': '100万+'}, 'content_auth': 0, 'safe_tags': 18031990695526400, 'comment_manage_info': {'comment_permission_type': -1, 'approval_comment_type': 0, 'comment_sort_type': 0}, 'pic_num': 4, 'hot_page': {'fid': '232532_mblog', 'feed_detail_type': 0}, 'new_comment_style': 0, 'ab_switcher': 68, 'mlevel': 0, 'region_name': '发布于 北京', 'region_opt': 1, 'mblog_menu_new_style': 0, 'pics': [{'pid': '0068AE6oly1hon5104mpdj31q81q81kx', 'url': 'https://wx3.sinaimg.cn/orj360/0068AE6oly1hon5104mpdj31q81q81kx.jpg', 'size': 'orj360', 'geo': {'width': 360, 'height': 360, 'croped': False}, 'large': {'size': 'large', 'url': 'https://wx3.sinaimg.cn/large/0068AE6oly1hon5104mpdj31q81q81kx.jpg', 'geo': {'width': 2048, 'height': 2048, 'croped': False}}}, {'pid': '0068AE6oly1hon50zkkyej323c23c1kx', 'url': 'https://wx2.sinaimg.cn/orj360/0068AE6oly1hon50zkkyej323c23c1kx.jpg', 'size': 'orj360', 'geo': {'width': 360, 'height': 360, 'croped': False}, 'large': {'size': 'large', 'url': 'https://wx2.sinaimg.cn/large/0068AE6oly1hon50zkkyej323c23c1kx.jpg', 'geo': {'width': 2048, 'height': 2048, 'croped': False}}}, {'pid': '0068AE6oly1hon510sndij32c02c0npd', 'url': 'https://wx4.sinaimg.cn/orj360/0068AE6oly1hon510sndij32c02c0npd.jpg', 'size': 'orj360', 'geo': {'width': 360, 'height': 360, 'croped': False}, 'large': {'size': 'large', 'url': 'https://wx4.sinaimg.cn/large/0068AE6oly1hon510sndij32c02c0npd.jpg', 'geo': {'width': 2048, 'height': 2048, 'croped': False}}}, {'pid': '0068AE6oly1hon5115r6qj31by1bynho', 'url': 'https://wx2.sinaimg.cn/orj360/0068AE6oly1hon5115r6qj31by1bynho.jpg', 'size': 'orj360', 'geo': {'width': 360, 'height': 360, 'croped': False}, 'large': {'size': 'large', 'url': 'https://wx2.sinaimg.cn/large/0068AE6oly1hon5115r6qj31by1bynho.jpg', 'geo': {'width': '1726', 'height': '1726', 'croped': False}}}], 'bid': 'O9fWK7zzz'}, 'show_type': 1, 'title': ''}, {'card_type': 9, 'card_type_name': '', 'itemid': '', 'scheme': 'https://m.weibo.cn/status/O96GLsOnU?mblogid=O96GLsOnU', 'mblog': {'visible': {'type': 0, 'list_id': 0}, 'created_at': 'Wed Apr 10 20:20:33 +0800 2024', 'id': '5021706676866866', 'mid': '5021706676866866', 'can_edit': False, 'show_additional_indication': 0, 'text': '【毛孔大扫除方案】<br />如果你一直没有控油、定期用酸疏通这些护肤习惯，又一直被鼻子的黑头白头问题困扰，初始状态可能是：<br /><br />① 局部有这种顽固黑头颗粒<br />堵的特别死的自己很难清理出来，找皮肤科做专业针清会比较靠谱<br /><br />② 大片都是这种白头油脂粒<br />特别是化妆后，或者涂完防晒、散粉之后到了下午特别明显 ...<a href=\"/status/5021706676866866\">全文</a>', 'textLength': 1839, 'source': 'HUAWEI MatePad Pro', 'favorited': False, 'pic_ids': ['0068AE6oly1hom05nj06fj30ei0dvmy3', '0068AE6oly1hom05npsnaj30dw0dhabc', '0068AE6oly1hom05nv5v7j30dz0dwq47', '0068AE6oly1hom05of2x0j30ff0f83zs', '0068AE6oly1hom05okm2uj30e90da0tw', '0068AE6oly1hom05op8r5j30ew0d7wfs'], 'thumbnail_pic': 'https://wx4.sinaimg.cn/thumbnail/0068AE6oly1hom05nj06fj30ei0dvmy3.jpg', 'bmiddle_pic': 'http://wx4.sinaimg.cn/bmiddle/0068AE6oly1hom05nj06fj30ei0dvmy3.jpg', 'original_pic': 'https://wx4.sinaimg.cn/large/0068AE6oly1hom05nj06fj30ei0dvmy3.jpg', 'is_paid': False, 'mblog_vip_type': 0, 'user': {'id': 5623741644, 'screen_name': 'miamaja', 'profile_image_url': 'https://tvax2.sinaimg.cn/crop.0.0.1080.1080.180/0068AE6oly8hnfdby63ezj30u00u0jth.jpg?KID=imgbed,tva&Expires=1712924874&ssig=PzGOeNIObL', 'profile_url': 'https://m.weibo.cn/u/5623741644?', 'statuses_count': 3702, 'verified': True, 'verified_type': 0, 'verified_type_ext': 2, 'verified_reason': '美妆护肤博主 头条文章作者', 'close_blue_v': False, 'description': '我想分享的从来都只是护肤这件事本身，不需要跟着我买，我写的对你能有帮助就好（全平台同名', 'gender': 'f', 'mbtype': 12, 'svip': 1, 'urank': 41, 'mbrank': 2, 'follow_me': False, 'following': False, 'follow_count': 507, 'followers_count': '41.3万', 'followers_count_str': '41.3万', 'cover_image_phone': 'https://wx3.sinaimg.cn/crop.0.0.640.640.640/0068AE6oly1hf05o2x1cmj30u00u076t.jpg', 'avatar_hd': 'https://wx2.sinaimg.cn/orj480/0068AE6oly8hnfdby63ezj30u00u0jth.jpg', 'like': False, 'like_me': False, 'badge': {'bind_taobao': 1, 'dzwbqlx_2016': 1, 'follow_whitelist_video': 1, 'user_name_certificate': 1, 'qixi_2018': 1, 'hongbaofei_2019': 1, 'wusi_2019': 1, 'hongbao_2020': 2, 'pc_new': 7, 'zhongcaouser_2021': 1, 'hongbaofei2022_2021': 2, 'iplocationchange_2022': 1, 'gaokao_2022': 1, 'yayunhuiguoqi_2023': 1, 'user_identity_auth': 1}, 'special_follow': False}, 'picStatus': '0:1,1:1,2:1,3:1,4:1,5:1', 'reposts_count': 42, 'comments_count': 82, 'reprint_cmt_count': 0, 'attitudes_count': 274, 'pending_approval_count': 0, 'isLongText': True, 'show_mlevel': 0, 'darwin_tags': [], 'ad_marked': False, 'mblogtype': 0, 'item_category': 'status', 'rid': '4_0_50_5137839458019734728_0_0_0', 'extern_safe': 0, 'number_display_strategy': {'apply_scenario_flag': 3, 'display_text_min_number': 1000000, 'display_text': '100万+'}, 'content_auth': 0, 'safe_tags': 67108864, 'comment_manage_info': {'comment_permission_type': -1, 'approval_comment_type': 0, 'comment_sort_type': 0}, 'pic_num': 6, 'hot_page': {'fid': '232532_mblog', 'feed_detail_type': 0}, 'new_comment_style': 0, 'ab_switcher': 68, 'mlevel': 0, 'region_name': '发布于 北京', 'region_opt': 1, 'mblog_menu_new_style': 0, 'pics': [{'pid': '0068AE6oly1hom05nj06fj30ei0dvmy3', 'url': 'https://wx4.sinaimg.cn/orj360/0068AE6oly1hom05nj06fj30ei0dvmy3.jpg', 'size': 'orj360', 'geo': {'width': 282, 'height': 270, 'croped': False}, 'large': {'size': 'large', 'url': 'https://wx4.sinaimg.cn/large/0068AE6oly1hom05nj06fj30ei0dvmy3.jpg', 'geo': {'width': '522', 'height': '499', 'croped': False}}}, {'pid': '0068AE6oly1hom05npsnaj30dw0dhabc', 'url': 'https://wx1.sinaimg.cn/orj360/0068AE6oly1hom05npsnaj30dw0dhabc.jpg', 'size': 'orj360', 'geo': {'width': 278, 'height': 270, 'croped': False}, 'large': {'size': 'large', 'url': 'https://wx1.sinaimg.cn/large/0068AE6oly1hom05npsnaj30dw0dhabc.jpg', 'geo': {'width': '500', 'height': '485', 'croped': False}}}, {'pid': '0068AE6oly1hom05nv5v7j30dz0dwq47', 'url': 'https://wx1.sinaimg.cn/orj360/0068AE6oly1hom05nv5v7j30dz0dwq47.jpg', 'size': 'orj360', 'geo': {'width': 271, 'height': 270, 'croped': False}, 'large': {'size': 'large', 'url': 'https://wx1.sinaimg.cn/large/0068AE6oly1hom05nv5v7j30dz0dwq47.jpg', 'geo': {'width': '503', 'height': '500', 'croped': False}}}, {'pid': '0068AE6oly1hom05of2x0j30ff0f83zs', 'url': 'https://wx2.sinaimg.cn/orj360/0068AE6oly1hom05of2x0j30ff0f83zs.jpg', 'size': 'orj360', 'geo': {'width': 273, 'height': 270, 'croped': False}, 'large': {'size': 'large', 'url': 'https://wx2.sinaimg.cn/large/0068AE6oly1hom05of2x0j30ff0f83zs.jpg', 'geo': {'width': '555', 'height': '548', 'croped': False}}}, {'pid': '0068AE6oly1hom05okm2uj30e90da0tw', 'url': 'https://wx1.sinaimg.cn/orj360/0068AE6oly1hom05okm2uj30e90da0tw.jpg', 'size': 'orj360', 'geo': {'width': 289, 'height': 270, 'croped': False}, 'large': {'size': 'large', 'url': 'https://wx1.sinaimg.cn/large/0068AE6oly1hom05okm2uj30e90da0tw.jpg', 'geo': {'width': '513', 'height': '478', 'croped': False}}}, {'pid': '0068AE6oly1hom05op8r5j30ew0d7wfs', 'url': 'https://wx4.sinaimg.cn/orj360/0068AE6oly1hom05op8r5j30ew0d7wfs.jpg', 'size': 'orj360', 'geo': {'width': 304, 'height': 270, 'croped': False}, 'large': {'size': 'large', 'url': 'https://wx4.sinaimg.cn/large/0068AE6oly1hom05op8r5j30ew0d7wfs.jpg', 'geo': {'width': '536', 'height': '475', 'croped': False}}}], 'bid': 'O96GLsOnU'}, 'show_type': 1, 'title': ''}, {'card_type': 9, 'card_type_name': '', 'itemid': '', 'scheme': 'https://m.weibo.cn/status/O95SZcVm9?mblogid=O95SZcVm9', 'mblog': {'visible': {'type': 0, 'list_id': 0}, 'created_at': 'Wed Apr 10 18:17:55 +0800 2024', 'id': '5021675813080417', 'mid': '5021675813080417', 'can_edit': False, 'show_additional_indication': 0, 'text': '有多少姐妹是被打击着长大、成年后再把自己重新“养大”<span class=\"url-icon\"><img alt=[心] src=\"https://h5.sinaimg.cn/m/emoticon/icon/others/l_xin-43af9086c0.png\" style=\"width:1em; height:1em;\" /></span><br /><br />因为从小就在挫折教育下长大，父母给你的从来都只有批评、指责而没有鼓励，你只有不停努力变成在别人眼里有价值的样子，才不会害怕。<br /><br />但是成年后的社会，更没有表扬和赞美，你接触到的恶意远大于善意，甚至有很多人的眼里只能看到别人的瑕 ...<a href=\"/status/5021675813080417\">全文</a>', 'textLength': 1057, 'source': 'HUAWEI MatePad Pro', 'favorited': False, 'pic_ids': ['0068AE6oly1holwjidss8j30hs0iqdhz'], 'thumbnail_pic': 'https://wx2.sinaimg.cn/thumbnail/0068AE6oly1holwjidss8j30hs0iqdhz.jpg', 'bmiddle_pic': 'http://wx2.sinaimg.cn/bmiddle/0068AE6oly1holwjidss8j30hs0iqdhz.jpg', 'original_pic': 'https://wx2.sinaimg.cn/large/0068AE6oly1holwjidss8j30hs0iqdhz.jpg', 'is_paid': False, 'mblog_vip_type': 0, 'user': {'id': 5623741644, 'screen_name': 'miamaja', 'profile_image_url': 'https://tvax2.sinaimg.cn/crop.0.0.1080.1080.180/0068AE6oly8hnfdby63ezj30u00u0jth.jpg?KID=imgbed,tva&Expires=1712924874&ssig=PzGOeNIObL', 'profile_url': 'https://m.weibo.cn/u/5623741644?', 'statuses_count': 3702, 'verified': True, 'verified_type': 0, 'verified_type_ext': 2, 'verified_reason': '美妆护肤博主 头条文章作者', 'close_blue_v': False, 'description': '我想分享的从来都只是护肤这件事本身，不需要跟着我买，我写的对你能有帮助就好（全平台同名', 'gender': 'f', 'mbtype': 12, 'svip': 1, 'urank': 41, 'mbrank': 2, 'follow_me': False, 'following': False, 'follow_count': 507, 'followers_count': '41.3万', 'followers_count_str': '41.3万', 'cover_image_phone': 'https://wx3.sinaimg.cn/crop.0.0.640.640.640/0068AE6oly1hf05o2x1cmj30u00u076t.jpg', 'avatar_hd': 'https://wx2.sinaimg.cn/orj480/0068AE6oly8hnfdby63ezj30u00u0jth.jpg', 'like': False, 'like_me': False, 'badge': {'bind_taobao': 1, 'dzwbqlx_2016': 1, 'follow_whitelist_video': 1, 'user_name_certificate': 1, 'qixi_2018': 1, 'hongbaofei_2019': 1, 'wusi_2019': 1, 'hongbao_2020': 2, 'pc_new': 7, 'zhongcaouser_2021': 1, 'hongbaofei2022_2021': 2, 'iplocationchange_2022': 1, 'gaokao_2022': 1, 'yayunhuiguoqi_2023': 1, 'user_identity_auth': 1}, 'special_follow': False}, 'picStatus': '0:1', 'reposts_count': 6, 'comments_count': 30, 'reprint_cmt_count': 0, 'attitudes_count': 124, 'pending_approval_count': 0, 'isLongText': True, 'show_mlevel': 0, 'darwin_tags': [], 'ad_marked': False, 'mblogtype': 0, 'item_category': 'status', 'rid': '5_0_50_5137839458019734728_0_0_0', 'extern_safe': 0, 'number_display_strategy': {'apply_scenario_flag': 3, 'display_text_min_number': 1000000, 'display_text': '100万+'}, 'content_auth': 0, 'safe_tags': 4096, 'comment_manage_info': {'comment_permission_type': -1, 'approval_comment_type': 0, 'comment_sort_type': 0}, 'pic_num': 1, 'hot_page': {'fid': '232532_mblog', 'feed_detail_type': 0}, 'new_comment_style': 0, 'ab_switcher': 68, 'mlevel': 0, 'region_name': '发布于 北京', 'region_opt': 1, 'mblog_menu_new_style': 0, 'pics': [{'pid': '0068AE6oly1holwjidss8j30hs0iqdhz', 'url': 'https://wx2.sinaimg.cn/orj360/0068AE6oly1holwjidss8j30hs0iqdhz.jpg', 'size': 'orj360', 'geo': {'width': 360, 'height': 379, 'croped': False}, 'large': {'size': 'large', 'url': 'https://wx2.sinaimg.cn/large/0068AE6oly1holwjidss8j30hs0iqdhz.jpg', 'geo': {'width': '640', 'height': '674', 'croped': False}}}], 'bid': 'O95SZcVm9'}, 'show_type': 1, 'title': ''}, {'card_type': 9, 'card_type_name': '', 'itemid': '', 'scheme': 'https://m.weibo.cn/status/O95EonVqH?mblogid=O95EonVqH', 'mblog': {'visible': {'type': 0, 'list_id': 0}, 'created_at': 'Wed Apr 10 17:41:58 +0800 2024', 'id': '5021666765702307', 'mid': '5021666765702307', 'edit_count': 1, 'can_edit': False, 'edit_at': 'Wed Apr 10 17:42:19 +0800 2024', 'show_additional_indication': 0, 'text': '姐妹们，这样的次抛包装都是拧下来之后，可以把盖子再盖回去的（亲测盖的还蛮牢固的）<br /><br />如果你感觉一次用不完一只次抛，千万别急着把盖子扔掉<br /><br />开封后最好还是抓紧用完，也要看产品的配方，如果是简单的保湿修护次抛，第二天用完一般没太大问题 <br /><br /><a  href=\"https://m.weibo.cn/search?containerid=231522type%3D1%26t%3D10%26q%3D%23%E5%9F%8E%E5%B8%82%E5%AF%BB%E7%BE%8E%E8%AE%B0%23&extparam=%23%E5%9F%8E%E5%B8%82%E5%AF%BB%E7%BE%8E%E8%AE%B0%23\" data-hide=\"\"><span class=\"surl-text\">#城市寻美记#</span></a><a  href=\"https://m.weibo.cn/search?containerid=231522type%3D1%26t%3D10%26q%3D%23%E6%8A%A4%E8%82%A4%E5%AE%9E%E9%AA%8C%E5%AE%A4%23\" data-hide=\"\"><span class=\"surl-text\">#护肤实验室#</span></a> ', 'textLength': 253, 'source': 'HUAWEI MatePad Pro', 'favorited': False, 'pic_ids': ['0068AE6oly1holvixgpb5j31nq1nq7vv'], 'thumbnail_pic': 'https://wx2.sinaimg.cn/thumbnail/0068AE6oly1holvixgpb5j31nq1nq7vv.jpg', 'bmiddle_pic': 'http://wx2.sinaimg.cn/bmiddle/0068AE6oly1holvixgpb5j31nq1nq7vv.jpg', 'original_pic': 'https://wx2.sinaimg.cn/large/0068AE6oly1holvixgpb5j31nq1nq7vv.jpg', 'is_paid': False, 'mblog_vip_type': 0, 'user': {'id': 5623741644, 'screen_name': 'miamaja', 'profile_image_url': 'https://tvax2.sinaimg.cn/crop.0.0.1080.1080.180/0068AE6oly8hnfdby63ezj30u00u0jth.jpg?KID=imgbed,tva&Expires=1712924874&ssig=PzGOeNIObL', 'profile_url': 'https://m.weibo.cn/u/5623741644?', 'statuses_count': 3702, 'verified': True, 'verified_type': 0, 'verified_type_ext': 2, 'verified_reason': '美妆护肤博主 头条文章作者', 'close_blue_v': False, 'description': '我想分享的从来都只是护肤这件事本身，不需要跟着我买，我写的对你能有帮助就好（全平台同名', 'gender': 'f', 'mbtype': 12, 'svip': 1, 'urank': 41, 'mbrank': 2, 'follow_me': False, 'following': False, 'follow_count': 507, 'followers_count': '41.3万', 'followers_count_str': '41.3万', 'cover_image_phone': 'https://wx3.sinaimg.cn/crop.0.0.640.640.640/0068AE6oly1hf05o2x1cmj30u00u076t.jpg', 'avatar_hd': 'https://wx2.sinaimg.cn/orj480/0068AE6oly8hnfdby63ezj30u00u0jth.jpg', 'like': False, 'like_me': False, 'badge': {'bind_taobao': 1, 'dzwbqlx_2016': 1, 'follow_whitelist_video': 1, 'user_name_certificate': 1, 'qixi_2018': 1, 'hongbaofei_2019': 1, 'wusi_2019': 1, 'hongbao_2020': 2, 'pc_new': 7, 'zhongcaouser_2021': 1, 'hongbaofei2022_2021': 2, 'iplocationchange_2022': 1, 'gaokao_2022': 1, 'yayunhuiguoqi_2023': 1, 'user_identity_auth': 1}, 'special_follow': False}, 'picStatus': '0:1', 'reposts_count': 3, 'comments_count': 25, 'reprint_cmt_count': 0, 'attitudes_count': 64, 'pending_approval_count': 0, 'isLongText': False, 'show_mlevel': 0, 'darwin_tags': [], 'ad_marked': False, 'mblogtype': 0, 'item_category': 'status', 'rid': '6_0_50_5137839458019734728_0_0_0', 'extern_safe': 0, 'number_display_strategy': {'apply_scenario_flag': 3, 'display_text_min_number': 1000000, 'display_text': '100万+'}, 'content_auth': 0, 'safe_tags': 67108864, 'comment_manage_info': {'comment_permission_type': -1, 'approval_comment_type': 0, 'comment_sort_type': 0}, 'pic_num': 1, 'hot_page': {'fid': '232532_mblog', 'feed_detail_type': 0}, 'new_comment_style': 0, 'ab_switcher': 68, 'mlevel': 0, 'region_name': '发布于 北京', 'region_opt': 1, 'mblog_menu_new_style': 0, 'page_info': {'type': 'search_topic', 'object_type': 0, 'page_pic': {'url': 'https://wx4.sinaimg.cn/large/002PR7RHly8hokda5s0xoj60dw0dwab202.jpg'}, 'page_url': 'https://m.weibo.cn/search?containerid=231522type%3D1%26t%3D10%26q%3D%23%E5%9F%8E%E5%B8%82%E5%AF%BB%E7%BE%8E%E8%AE%B0%23&extparam=%23%E5%9F%8E%E5%B8%82%E5%AF%BB%E7%BE%8E%E8%AE%B0%23', 'page_title': '#城市寻美记#', 'content1': '0讨论 0阅读 '}, 'pics': [{'pid': '0068AE6oly1holvixgpb5j31nq1nq7vv', 'url': 'https://wx2.sinaimg.cn/orj360/0068AE6oly1holvixgpb5j31nq1nq7vv.jpg', 'size': 'orj360', 'geo': {'width': 360, 'height': 360, 'croped': False}, 'large': {'size': 'large', 'url': 'https://wx2.sinaimg.cn/large/0068AE6oly1holvixgpb5j31nq1nq7vv.jpg', 'geo': {'width': 2048, 'height': 2048, 'croped': False}}}], 'bid': 'O95EonVqH'}, 'show_type': 1, 'title': ''}, {'card_type': 9, 'card_type_name': '', 'itemid': '', 'scheme': 'https://m.weibo.cn/status/O95q1DgUX?mblogid=O95q1DgUX', 'mblog': {'visible': {'type': 0, 'list_id': 0}, 'created_at': 'Wed Apr 10 17:06:34 +0800 2024', 'id': '5021657859359827', 'mid': '5021657859359827', 'edit_count': 1, 'can_edit': False, 'edit_at': 'Wed Apr 10 17:53:28 +0800 2024', 'show_additional_indication': 0, 'text': '写这篇文还有一个原因：前段时间看到了“互联网亲妈”这样的说法，再看看身边的朋友经常找我吐槽的，大家生活是真的很辛苦，别人总喜欢盯着你的错处，最亲近的人也不理解你，很多姐妹都是自己PUA自己不够好、不够美，我不能劝好每一个姐妹，只希望看到这篇内容的你，在难过的某时某刻想起它会好受一些 <a  href=\"https://weibo.cn/sinaurl?u=https%3A%2F%2Fwx1.sinaimg.cn%2Flarge%2F0068AE6oly1holvwnb5ojj31aw0k4q7u.jpg\" data-hide=\"\"><span class=\\'url-icon\\'><img style=\\'width: 1rem;height: 1rem\\' src=\\'https://h5.sinaimg.cn/upload/2015/01/21/20/timeline_card_small_photo_default.png\\'></span><span class=\"surl-text\">查看图片</span></a>', 'source': 'HUAWEI MatePad Pro', 'favorited': False, 'pic_ids': [], 'is_paid': False, 'mblog_vip_type': 0, 'user': {'id': 5623741644, 'screen_name': 'miamaja', 'profile_image_url': 'https://tvax2.sinaimg.cn/crop.0.0.1080.1080.180/0068AE6oly8hnfdby63ezj30u00u0jth.jpg?KID=imgbed,tva&Expires=1712924874&ssig=PzGOeNIObL', 'profile_url': 'https://m.weibo.cn/u/5623741644?', 'statuses_count': 3702, 'verified': True, 'verified_type': 0, 'verified_type_ext': 2, 'verified_reason': '美妆护肤博主 头条文章作者', 'close_blue_v': False, 'description': '我想分享的从来都只是护肤这件事本身，不需要跟着我买，我写的对你能有帮助就好（全平台同名', 'gender': 'f', 'mbtype': 12, 'svip': 1, 'urank': 41, 'mbrank': 2, 'follow_me': False, 'following': False, 'follow_count': 507, 'followers_count': '41.3万', 'followers_count_str': '41.3万', 'cover_image_phone': 'https://wx3.sinaimg.cn/crop.0.0.640.640.640/0068AE6oly1hf05o2x1cmj30u00u076t.jpg', 'avatar_hd': 'https://wx2.sinaimg.cn/orj480/0068AE6oly8hnfdby63ezj30u00u0jth.jpg', 'like': False, 'like_me': False, 'badge': {'bind_taobao': 1, 'dzwbqlx_2016': 1, 'follow_whitelist_video': 1, 'user_name_certificate': 1, 'qixi_2018': 1, 'hongbaofei_2019': 1, 'wusi_2019': 1, 'hongbao_2020': 2, 'pc_new': 7, 'zhongcaouser_2021': 1, 'hongbaofei2022_2021': 2, 'iplocationchange_2022': 1, 'gaokao_2022': 1, 'yayunhuiguoqi_2023': 1, 'user_identity_auth': 1}, 'special_follow': False}, 'retweeted_status': {'visible': {'type': 0, 'list_id': 0}, 'created_at': 'Tue Apr 09 19:43:28 +0800 2024', 'id': '5021334954578698', 'mid': '5021334954578698', 'can_edit': False, 'show_additional_indication': 0, 'text': '《是什么让你护肤无限内耗》<br /><br />我在互联网上和大家分享护肤心得快有八年多了，只要有时间一直会在群里或者评论区和大家深度沟通，这几年其实聊的最多的反而是帮很多姐妹去解决“护肤内耗”的问题，遇到最多的就是：<br /><br />皮肤不稳定的时候想稳定，皮肤稳定了又感觉不够好，比如：毛孔不够细，肤色不够均匀， ...<a href=\"/status/5021334954578698\">全文</a>', 'textLength': 3610, 'source': '理性护肤iPhone 13 Pro', 'favorited': False, 'pic_ids': ['0068AE6oly1hoktgsidcyj3140140jx6'], 'thumbnail_pic': 'https://wx1.sinaimg.cn/thumbnail/0068AE6oly1hoktgsidcyj3140140jx6.jpg', 'bmiddle_pic': 'http://wx1.sinaimg.cn/bmiddle/0068AE6oly1hoktgsidcyj3140140jx6.jpg', 'original_pic': 'https://wx1.sinaimg.cn/large/0068AE6oly1hoktgsidcyj3140140jx6.jpg', 'is_paid': False, 'mblog_vip_type': 0, 'user': {'id': 5623741644, 'screen_name': 'miamaja', 'profile_image_url': 'https://tvax2.sinaimg.cn/crop.0.0.1080.1080.180/0068AE6oly8hnfdby63ezj30u00u0jth.jpg?KID=imgbed,tva&Expires=1712924874&ssig=PzGOeNIObL', 'profile_url': 'https://m.weibo.cn/u/5623741644?', 'statuses_count': 3702, 'verified': True, 'verified_type': 0, 'verified_type_ext': 2, 'verified_reason': '美妆护肤博主 头条文章作者', 'close_blue_v': False, 'description': '我想分享的从来都只是护肤这件事本身，不需要跟着我买，我写的对你能有帮助就好（全平台同名', 'gender': 'f', 'mbtype': 12, 'svip': 1, 'urank': 41, 'mbrank': 2, 'follow_me': False, 'following': False, 'follow_count': 507, 'followers_count': '41.3万', 'followers_count_str': '41.3万', 'cover_image_phone': 'https://wx3.sinaimg.cn/crop.0.0.640.640.640/0068AE6oly1hf05o2x1cmj30u00u076t.jpg', 'avatar_hd': 'https://wx2.sinaimg.cn/orj480/0068AE6oly8hnfdby63ezj30u00u0jth.jpg', 'like': False, 'like_me': False, 'badge': {'bind_taobao': 1, 'dzwbqlx_2016': 1, 'follow_whitelist_video': 1, 'user_name_certificate': 1, 'qixi_2018': 1, 'hongbaofei_2019': 1, 'wusi_2019': 1, 'hongbao_2020': 2, 'pc_new': 7, 'zhongcaouser_2021': 1, 'hongbaofei2022_2021': 2, 'iplocationchange_2022': 1, 'gaokao_2022': 1, 'yayunhuiguoqi_2023': 1, 'user_identity_auth': 1}, 'special_follow': False}, 'picStatus': '0:1', 'reposts_count': 17, 'comments_count': 38, 'reprint_cmt_count': 0, 'attitudes_count': 142, 'pending_approval_count': 0, 'isLongText': True, 'show_mlevel': 0, 'darwin_tags': [], 'ad_marked': False, 'mblogtype': 0, 'item_category': 'status', 'rid': '7_0_50_5137839458019734728_0_0_0', 'number_display_strategy': {'apply_scenario_flag': 3, 'display_text_min_number': 1000000, 'display_text': '100万+'}, 'content_auth': 0, 'comment_manage_info': {'comment_permission_type': -1, 'approval_comment_type': 0, 'comment_sort_type': 0, 'ai_play_picture_type': 0}, 'pic_num': 1, 'hot_page': {'fid': '232532_mblog', 'feed_detail_type': 0}, 'new_comment_style': 0, 'mlevel': 0, 'region_name': '发布于 北京', 'region_opt': 1, 'pics': [{'pid': '0068AE6oly1hoktgsidcyj3140140jx6', 'url': 'https://wx1.sinaimg.cn/orj360/0068AE6oly1hoktgsidcyj3140140jx6.jpg', 'size': 'orj360', 'geo': {'width': 360, 'height': 360, 'croped': False}, 'large': {'size': 'large', 'url': 'https://wx1.sinaimg.cn/large/0068AE6oly1hoktgsidcyj3140140jx6.jpg', 'geo': {'width': '1440', 'height': '1440', 'croped': False}}}], 'bid': 'O8X1djd7Y'}, 'reposts_count': 4, 'comments_count': 10, 'reprint_cmt_count': 0, 'attitudes_count': 40, 'pending_approval_count': 0, 'isLongText': False, 'show_mlevel': 0, 'darwin_tags': [], 'ad_marked': False, 'mblogtype': 0, 'item_category': 'status', 'rid': '7_0_50_5137839458019734728_0_0_0', 'extern_safe': 0, 'number_display_strategy': {'apply_scenario_flag': 3, 'display_text_min_number': 1000000, 'display_text': '100万+'}, 'content_auth': 0, 'comment_manage_info': {'comment_permission_type': -1, 'approval_comment_type': 0, 'comment_sort_type': 0}, 'repost_type': 1, 'pic_num': 0, 'hot_page': {'fid': '232532_mblog', 'feed_detail_type': 0}, 'new_comment_style': 0, 'ab_switcher': 68, 'mlevel': 0, 'region_name': '发布于 北京', 'region_opt': 1, 'mblog_menu_new_style': 0, 'raw_text': '写这篇文还有一个原因：前段时间看到了“互联网亲妈”这样的说法，再看看身边的朋友经常找我吐槽的，大家生活是真的很辛苦，别人总喜欢盯着你的错处，最亲近的人也不理解你，很多姐妹都是自己PUA自己不够好、不够美，我不能劝好每一个姐妹，只希望看到这篇内容的你，在难过的某时某刻想起它会好受一些 http://t.cn/A6TKB1C1', 'bid': 'O95q1DgUX'}, 'show_type': 1, 'title': ''}, {'card_type': 9, 'card_type_name': '', 'itemid': '', 'scheme': 'https://m.weibo.cn/status/O8XnwCHyQ?mblogid=O8XnwCHyQ', 'mblog': {'visible': {'type': 0, 'list_id': 0}, 'created_at': 'Tue Apr 09 20:38:26 +0800 2024', 'id': '5021348789223916', 'mid': '5021348789223916', 'can_edit': False, 'show_additional_indication': 0, 'text': '珀莱雅上半年的大动作除了上新防晒之外，其实还把红宝石升了个级，这次不是面霜，是红宝石精华（有A醇的那个<br /><br />整体方向我看了下剧透资料：除了产品本身调整了肤感（旧版真的有点腻了）更轻盈和更好耐受之外，并且透露出了一个重要信息：<br />想要更好的抗皱效果，并不一定非要硬着头皮耐受更高浓度，通过优 ...<a href=\"/status/5021348789223916\">全文</a>', 'textLength': 1311, 'source': '理性护肤iPhone 13 Pro', 'favorited': False, 'pic_ids': ['0068AE6oly1hoku2dm4gij30qn0et48d', '0068AE6oly1hoku2dgo9vj30wi1ycgpq'], 'thumbnail_pic': 'https://wx1.sinaimg.cn/thumbnail/0068AE6oly1hoku2dm4gij30qn0et48d.jpg', 'bmiddle_pic': 'http://wx1.sinaimg.cn/bmiddle/0068AE6oly1hoku2dm4gij30qn0et48d.jpg', 'original_pic': 'https://wx1.sinaimg.cn/large/0068AE6oly1hoku2dm4gij30qn0et48d.jpg', 'is_paid': False, 'mblog_vip_type': 0, 'user': {'id': 5623741644, 'screen_name': 'miamaja', 'profile_image_url': 'https://tvax2.sinaimg.cn/crop.0.0.1080.1080.180/0068AE6oly8hnfdby63ezj30u00u0jth.jpg?KID=imgbed,tva&Expires=1712924874&ssig=PzGOeNIObL', 'profile_url': 'https://m.weibo.cn/u/5623741644?', 'statuses_count': 3702, 'verified': True, 'verified_type': 0, 'verified_type_ext': 2, 'verified_reason': '美妆护肤博主 头条文章作者', 'close_blue_v': False, 'description': '我想分享的从来都只是护肤这件事本身，不需要跟着我买，我写的对你能有帮助就好（全平台同名', 'gender': 'f', 'mbtype': 12, 'svip': 1, 'urank': 41, 'mbrank': 2, 'follow_me': False, 'following': False, 'follow_count': 507, 'followers_count': '41.3万', 'followers_count_str': '41.3万', 'cover_image_phone': 'https://wx3.sinaimg.cn/crop.0.0.640.640.640/0068AE6oly1hf05o2x1cmj30u00u076t.jpg', 'avatar_hd': 'https://wx2.sinaimg.cn/orj480/0068AE6oly8hnfdby63ezj30u00u0jth.jpg', 'like': False, 'like_me': False, 'badge': {'bind_taobao': 1, 'dzwbqlx_2016': 1, 'follow_whitelist_video': 1, 'user_name_certificate': 1, 'qixi_2018': 1, 'hongbaofei_2019': 1, 'wusi_2019': 1, 'hongbao_2020': 2, 'pc_new': 7, 'zhongcaouser_2021': 1, 'hongbaofei2022_2021': 2, 'iplocationchange_2022': 1, 'gaokao_2022': 1, 'yayunhuiguoqi_2023': 1, 'user_identity_auth': 1}, 'special_follow': False}, 'picStatus': '0:1,1:1', 'reposts_count': 3, 'comments_count': 26, 'reprint_cmt_count': 0, 'attitudes_count': 94, 'pending_approval_count': 0, 'isLongText': True, 'show_mlevel': 0, 'darwin_tags': [], 'ad_marked': False, 'mblogtype': 0, 'item_category': 'status', 'rid': '8_0_50_5137839458019734728_0_0_0', 'extern_safe': 0, 'number_display_strategy': {'apply_scenario_flag': 3, 'display_text_min_number': 1000000, 'display_text': '100万+'}, 'content_auth': 0, 'safe_tags': 18031990695526400, 'comment_manage_info': {'comment_permission_type': -1, 'approval_comment_type': 0, 'comment_sort_type': 0}, 'pic_num': 2, 'hot_page': {'fid': '232532_mblog', 'feed_detail_type': 0}, 'new_comment_style': 0, 'ab_switcher': 68, 'mlevel': 0, 'region_name': '发布于 北京', 'region_opt': 1, 'mblog_menu_new_style': 0, 'pics': [{'pid': '0068AE6oly1hoku2dm4gij30qn0et48d', 'url': 'https://wx1.sinaimg.cn/orj360/0068AE6oly1hoku2dm4gij30qn0et48d.jpg', 'size': 'orj360', 'geo': {'width': 485, 'height': 270, 'croped': False}, 'large': {'size': 'large', 'url': 'https://wx1.sinaimg.cn/large/0068AE6oly1hoku2dm4gij30qn0et48d.jpg', 'geo': {'width': '959', 'height': '533', 'croped': False}}}, {'pid': '0068AE6oly1hoku2dgo9vj30wi1ycgpq', 'url': 'https://wx1.sinaimg.cn/orj360/0068AE6oly1hoku2dgo9vj30wi1ycgpq.jpg', 'size': 'orj360', 'geo': {'width': 360, 'height': 779, 'croped': False}, 'large': {'size': 'large', 'url': 'https://wx1.sinaimg.cn/large/0068AE6oly1hoku2dgo9vj30wi1ycgpq.jpg', 'geo': {'width': '1170', 'height': '2532', 'croped': False}}}], 'bid': 'O8XnwCHyQ'}, 'show_type': 1, 'title': ''}, {'card_type': 9, 'card_type_name': '', 'itemid': '', 'scheme': 'https://m.weibo.cn/status/O8X1djd7Y?mblogid=O8X1djd7Y', 'mblog': {'visible': {'type': 0, 'list_id': 0}, 'created_at': 'Tue Apr 09 19:43:28 +0800 2024', 'id': '5021334954578698', 'mid': '5021334954578698', 'can_edit': False, 'show_additional_indication': 0, 'text': '《是什么让你护肤无限内耗》<br /><br />我在互联网上和大家分享护肤心得快有八年多了，只要有时间一直会在群里或者评论区和大家深度沟通，这几年其实聊的最多的反而是帮很多姐妹去解决“护肤内耗”的问题，遇到最多的就是：<br /><br />皮肤不稳定的时候想稳定，皮肤稳定了又感觉不够好，比如：毛孔不够细，肤色不够均匀， ...<a href=\"/status/5021334954578698\">全文</a>', 'textLength': 3610, 'source': '理性护肤iPhone 13 Pro', 'favorited': False, 'pic_ids': ['0068AE6oly1hoktgsidcyj3140140jx6'], 'thumbnail_pic': 'https://wx1.sinaimg.cn/thumbnail/0068AE6oly1hoktgsidcyj3140140jx6.jpg', 'bmiddle_pic': 'http://wx1.sinaimg.cn/bmiddle/0068AE6oly1hoktgsidcyj3140140jx6.jpg', 'original_pic': 'https://wx1.sinaimg.cn/large/0068AE6oly1hoktgsidcyj3140140jx6.jpg', 'is_paid': False, 'mblog_vip_type': 0, 'user': {'id': 5623741644, 'screen_name': 'miamaja', 'profile_image_url': 'https://tvax2.sinaimg.cn/crop.0.0.1080.1080.180/0068AE6oly8hnfdby63ezj30u00u0jth.jpg?KID=imgbed,tva&Expires=1712924874&ssig=PzGOeNIObL', 'profile_url': 'https://m.weibo.cn/u/5623741644?', 'statuses_count': 3702, 'verified': True, 'verified_type': 0, 'verified_type_ext': 2, 'verified_reason': '美妆护肤博主 头条文章作者', 'close_blue_v': False, 'description': '我想分享的从来都只是护肤这件事本身，不需要跟着我买，我写的对你能有帮助就好（全平台同名', 'gender': 'f', 'mbtype': 12, 'svip': 1, 'urank': 41, 'mbrank': 2, 'follow_me': False, 'following': False, 'follow_count': 507, 'followers_count': '41.3万', 'followers_count_str': '41.3万', 'cover_image_phone': 'https://wx3.sinaimg.cn/crop.0.0.640.640.640/0068AE6oly1hf05o2x1cmj30u00u076t.jpg', 'avatar_hd': 'https://wx2.sinaimg.cn/orj480/0068AE6oly8hnfdby63ezj30u00u0jth.jpg', 'like': False, 'like_me': False, 'badge': {'bind_taobao': 1, 'dzwbqlx_2016': 1, 'follow_whitelist_video': 1, 'user_name_certificate': 1, 'qixi_2018': 1, 'hongbaofei_2019': 1, 'wusi_2019': 1, 'hongbao_2020': 2, 'pc_new': 7, 'zhongcaouser_2021': 1, 'hongbaofei2022_2021': 2, 'iplocationchange_2022': 1, 'gaokao_2022': 1, 'yayunhuiguoqi_2023': 1, 'user_identity_auth': 1}, 'special_follow': False}, 'picStatus': '0:1', 'reposts_count': 17, 'comments_count': 38, 'reprint_cmt_count': 0, 'attitudes_count': 142, 'pending_approval_count': 0, 'isLongText': True, 'show_mlevel': 0, 'darwin_tags': [], 'ad_marked': False, 'mblogtype': 0, 'item_category': 'status', 'rid': '9_0_50_5137839458019734728_0_0_0', 'extern_safe': 0, 'number_display_strategy': {'apply_scenario_flag': 3, 'display_text_min_number': 1000000, 'display_text': '100万+'}, 'content_auth': 0, 'comment_manage_info': {'comment_permission_type': -1, 'approval_comment_type': 0, 'comment_sort_type': 0}, 'pic_num': 1, 'hot_page': {'fid': '232532_mblog', 'feed_detail_type': 0}, 'new_comment_style': 0, 'ab_switcher': 68, 'mlevel': 0, 'region_name': '发布于 北京', 'region_opt': 1, 'mblog_menu_new_style': 0, 'pics': [{'pid': '0068AE6oly1hoktgsidcyj3140140jx6', 'url': 'https://wx1.sinaimg.cn/orj360/0068AE6oly1hoktgsidcyj3140140jx6.jpg', 'size': 'orj360', 'geo': {'width': 360, 'height': 360, 'croped': False}, 'large': {'size': 'large', 'url': 'https://wx1.sinaimg.cn/large/0068AE6oly1hoktgsidcyj3140140jx6.jpg', 'geo': {'width': '1440', 'height': '1440', 'croped': False}}}], 'bid': 'O8X1djd7Y'}, 'show_type': 1, 'title': ''}, {'card_type': 9, 'card_type_name': '', 'itemid': '', 'scheme': 'https://m.weibo.cn/status/O8Wk5eNuP?mblogid=O8Wk5eNuP', 'mblog': {'visible': {'type': 0, 'list_id': 0}, 'created_at': 'Tue Apr 09 17:57:12 +0800 2024', 'id': '5021308213526859', 'mid': '5021308213526859', 'can_edit': False, 'show_additional_indication': 0, 'text': '补充两条这次救我命的内容：① 带益生菌！我吃益生菌的这两年肠应激真的缓解了很多，而且出门在外终于不会动不动就拉肚子了（只代表个人感受）②带眼霜！或者滋润一点的面霜也行，跟原文提到的清洁毛孔一样的道理，否则旱的旱死（干的地方特别干，加上频繁卸妆干纹都会出来）涝的涝死（出油毛孔超级脏', 'source': 'HUAWEI MatePad Pro', 'favorited': False, 'pic_ids': [], 'is_paid': False, 'mblog_vip_type': 0, 'user': {'id': 5623741644, 'screen_name': 'miamaja', 'profile_image_url': 'https://tvax2.sinaimg.cn/crop.0.0.1080.1080.180/0068AE6oly8hnfdby63ezj30u00u0jth.jpg?KID=imgbed,tva&Expires=1712924874&ssig=PzGOeNIObL', 'profile_url': 'https://m.weibo.cn/u/5623741644?', 'statuses_count': 3702, 'verified': True, 'verified_type': 0, 'verified_type_ext': 2, 'verified_reason': '美妆护肤博主 头条文章作者', 'close_blue_v': False, 'description': '我想分享的从来都只是护肤这件事本身，不需要跟着我买，我写的对你能有帮助就好（全平台同名', 'gender': 'f', 'mbtype': 12, 'svip': 1, 'urank': 41, 'mbrank': 2, 'follow_me': False, 'following': False, 'follow_count': 507, 'followers_count': '41.3万', 'followers_count_str': '41.3万', 'cover_image_phone': 'https://wx3.sinaimg.cn/crop.0.0.640.640.640/0068AE6oly1hf05o2x1cmj30u00u076t.jpg', 'avatar_hd': 'https://wx2.sinaimg.cn/orj480/0068AE6oly8hnfdby63ezj30u00u0jth.jpg', 'like': False, 'like_me': False, 'badge': {'bind_taobao': 1, 'dzwbqlx_2016': 1, 'follow_whitelist_video': 1, 'user_name_certificate': 1, 'qixi_2018': 1, 'hongbaofei_2019': 1, 'wusi_2019': 1, 'hongbao_2020': 2, 'pc_new': 7, 'zhongcaouser_2021': 1, 'hongbaofei2022_2021': 2, 'iplocationchange_2022': 1, 'gaokao_2022': 1, 'yayunhuiguoqi_2023': 1, 'user_identity_auth': 1}, 'special_follow': False}, 'retweeted_status': {'visible': {'type': 0, 'list_id': 0}, 'created_at': 'Sun Apr 07 15:32:52 +0800 2024', 'id': '5020547113291549', 'mid': '5020547113291549', 'edit_count': 1, 'can_edit': False, 'edit_at': 'Wed Apr 10 15:44:01 +0800 2024', 'show_additional_indication': 0, 'text': '出差超过一周的护肤经验<br /><br />① 带小只的酸和清洁面膜<br /><br />（额头鼻子下巴的毛孔卫生要保持住<br /><br />② 没必要每天敷面膜，出门在外不要那么紧张<br /><br />③ 小心病毒！以及过敏！ <br /><br /><a  href=\"https://m.weibo.cn/search?containerid=231522type%3D1%26t%3D10%26q%3D%23%E5%9F%8E%E5%B8%82%E5%AF%BB%E7%BE%8E%E8%AE%B0%23&extparam=%23%E5%9F%8E%E5%B8%82%E5%AF%BB%E7%BE%8E%E8%AE%B0%23\" data-hide=\"\"><span class=\"surl-text\">#城市寻美记#</span></a><a  href=\"https://m.weibo.cn/search?containerid=231522type%3D1%26t%3D10%26q%3D%23%E5%87%BA%E6%B8%B8%E6%8A%A4%E8%82%A4%E6%94%BB%E7%95%A5%23&extparam=%23%E5%87%BA%E6%B8%B8%E6%8A%A4%E8%82%A4%E6%94%BB%E7%95%A5%23\" data-hide=\"\"><span class=\"surl-text\">#出游护肤攻略#</span></a> ', 'textLength': 178, 'source': 'HUAWEI MatePad Pro', 'favorited': False, 'pic_ids': [], 'is_paid': False, 'mblog_vip_type': 0, 'user': {'id': 5623741644, 'screen_name': 'miamaja', 'profile_image_url': 'https://tvax2.sinaimg.cn/crop.0.0.1080.1080.180/0068AE6oly8hnfdby63ezj30u00u0jth.jpg?KID=imgbed,tva&Expires=1712924874&ssig=PzGOeNIObL', 'profile_url': 'https://m.weibo.cn/u/5623741644?', 'statuses_count': 3702, 'verified': True, 'verified_type': 0, 'verified_type_ext': 2, 'verified_reason': '美妆护肤博主 头条文章作者', 'close_blue_v': False, 'description': '我想分享的从来都只是护肤这件事本身，不需要跟着我买，我写的对你能有帮助就好（全平台同名', 'gender': 'f', 'mbtype': 12, 'svip': 1, 'urank': 41, 'mbrank': 2, 'follow_me': False, 'following': False, 'follow_count': 507, 'followers_count': '41.3万', 'followers_count_str': '41.3万', 'cover_image_phone': 'https://wx3.sinaimg.cn/crop.0.0.640.640.640/0068AE6oly1hf05o2x1cmj30u00u076t.jpg', 'avatar_hd': 'https://wx2.sinaimg.cn/orj480/0068AE6oly8hnfdby63ezj30u00u0jth.jpg', 'like': False, 'like_me': False, 'badge': {'bind_taobao': 1, 'dzwbqlx_2016': 1, 'follow_whitelist_video': 1, 'user_name_certificate': 1, 'qixi_2018': 1, 'hongbaofei_2019': 1, 'wusi_2019': 1, 'hongbao_2020': 2, 'pc_new': 7, 'zhongcaouser_2021': 1, 'hongbaofei2022_2021': 2, 'iplocationchange_2022': 1, 'gaokao_2022': 1, 'yayunhuiguoqi_2023': 1, 'user_identity_auth': 1}, 'special_follow': False}, 'reposts_count': 13, 'comments_count': 44, 'reprint_cmt_count': 0, 'attitudes_count': 147, 'pending_approval_count': 0, 'isLongText': False, 'show_mlevel': 0, 'darwin_tags': [], 'ad_marked': False, 'mblogtype': 0, 'item_category': 'status', 'rid': '10_0_50_5137839458019734728_0_0_0', 'number_display_strategy': {'apply_scenario_flag': 3, 'display_text_min_number': 1000000, 'display_text': '100万+'}, 'content_auth': 0, 'comment_manage_info': {'comment_permission_type': -1, 'approval_comment_type': 0, 'comment_sort_type': 0, 'ai_play_picture_type': 0}, 'pic_num': 0, 'hot_page': {'fid': '232532_mblog', 'feed_detail_type': 0}, 'new_comment_style': 0, 'mlevel': 0, 'region_name': '发布于 北京', 'region_opt': 1, 'page_info': {'type': 'search_topic', 'object_type': 0, 'page_pic': {'url': 'https://wx4.sinaimg.cn/large/002PR7RHly8hokda5s0xoj60dw0dwab202.jpg'}, 'page_url': 'https://m.weibo.cn/search?containerid=231522type%3D1%26t%3D10%26q%3D%23%E5%9F%8E%E5%B8%82%E5%AF%BB%E7%BE%8E%E8%AE%B0%23&extparam=%23%E5%9F%8E%E5%B8%82%E5%AF%BB%E7%BE%8E%E8%AE%B0%23', 'page_title': '#城市寻美记#', 'content1': '0讨论 0阅读 '}, 'bid': 'O8CwvdOhv'}, 'reposts_count': 3, 'comments_count': 15, 'reprint_cmt_count': 0, 'attitudes_count': 58, 'pending_approval_count': 0, 'isLongText': False, 'show_mlevel': 0, 'darwin_tags': [], 'ad_marked': False, 'mblogtype': 0, 'item_category': 'status', 'rid': '10_0_50_5137839458019734728_0_0_0', 'extern_safe': 0, 'number_display_strategy': {'apply_scenario_flag': 3, 'display_text_min_number': 1000000, 'display_text': '100万+'}, 'content_auth': 0, 'comment_manage_info': {'comment_permission_type': -1, 'approval_comment_type': 0, 'comment_sort_type': 0}, 'repost_type': 1, 'pic_num': 0, 'hot_page': {'fid': '232532_mblog', 'feed_detail_type': 0}, 'new_comment_style': 0, 'ab_switcher': 68, 'mlevel': 0, 'region_name': '发布于 北京', 'region_opt': 1, 'mblog_menu_new_style': 0, 'raw_text': '补充两条这次救我命的内容：① 带益生菌！我吃益生菌的这两年肠应激真的缓解了很多，而且出门在外终于不会动不动就拉肚子了（只代表个人感受）②带眼霜！或者滋润一点的面霜也行，跟原文提到的清洁毛孔一样的道理，否则旱的旱死（干的地方特别干，加上频繁卸妆干纹都会出来）涝的涝死（出油毛孔超级脏', 'bid': 'O8Wk5eNuP'}, 'show_type': 1, 'title': ''}, {'card_type': 9, 'card_type_name': '', 'itemid': '', 'scheme': 'https://m.weibo.cn/status/O8NrT5uHB?mblogid=O8NrT5uHB', 'mblog': {'visible': {'type': 0, 'list_id': 0}, 'created_at': 'Mon Apr 08 19:21:42 +0800 2024', 'id': '5020967091309663', 'mid': '5020967091309663', 'can_edit': False, 'show_additional_indication': 0, 'text': '最近又有不少家人问我逆光疹这件事<br /><br />首先，逆光疹只是咱们的口头描述，他并不是一种被定义了的疾病，这个一定要清楚，所以不要信什么“XX治逆光疹”“得了逆光疹怎么办”这些奇奇怪怪的东西<br /><br />如果非要给逆光疹一个解释，它就是逆着光能看到一片疹子↓<br /><br />①排除单纯的闭口粉刺，如果你同时感到脸上最近有 ...<a href=\"/status/5020967091309663\">全文</a>', 'textLength': 861, 'source': 'HUAWEI MatePad Pro', 'favorited': False, 'pic_ids': [], 'is_paid': False, 'mblog_vip_type': 0, 'user': {'id': 5623741644, 'screen_name': 'miamaja', 'profile_image_url': 'https://tvax2.sinaimg.cn/crop.0.0.1080.1080.180/0068AE6oly8hnfdby63ezj30u00u0jth.jpg?KID=imgbed,tva&Expires=1712924874&ssig=PzGOeNIObL', 'profile_url': 'https://m.weibo.cn/u/5623741644?', 'statuses_count': 3702, 'verified': True, 'verified_type': 0, 'verified_type_ext': 2, 'verified_reason': '美妆护肤博主 头条文章作者', 'close_blue_v': False, 'description': '我想分享的从来都只是护肤这件事本身，不需要跟着我买，我写的对你能有帮助就好（全平台同名', 'gender': 'f', 'mbtype': 12, 'svip': 1, 'urank': 41, 'mbrank': 2, 'follow_me': False, 'following': False, 'follow_count': 507, 'followers_count': '41.3万', 'followers_count_str': '41.3万', 'cover_image_phone': 'https://wx3.sinaimg.cn/crop.0.0.640.640.640/0068AE6oly1hf05o2x1cmj30u00u076t.jpg', 'avatar_hd': 'https://wx2.sinaimg.cn/orj480/0068AE6oly8hnfdby63ezj30u00u0jth.jpg', 'like': False, 'like_me': False, 'badge': {'bind_taobao': 1, 'dzwbqlx_2016': 1, 'follow_whitelist_video': 1, 'user_name_certificate': 1, 'qixi_2018': 1, 'hongbaofei_2019': 1, 'wusi_2019': 1, 'hongbao_2020': 2, 'pc_new': 7, 'zhongcaouser_2021': 1, 'hongbaofei2022_2021': 2, 'iplocationchange_2022': 1, 'gaokao_2022': 1, 'yayunhuiguoqi_2023': 1, 'user_identity_auth': 1}, 'special_follow': False}, 'reposts_count': 4, 'comments_count': 24, 'reprint_cmt_count': 0, 'attitudes_count': 75, 'pending_approval_count': 0, 'isLongText': True, 'show_mlevel': 0, 'darwin_tags': [], 'ad_marked': False, 'mblogtype': 0, 'item_category': 'status', 'rid': '11_0_50_5137839458019734728_0_0_0', 'extern_safe': 0, 'number_display_strategy': {'apply_scenario_flag': 3, 'display_text_min_number': 1000000, 'display_text': '100万+'}, 'content_auth': 0, 'comment_manage_info': {'comment_permission_type': -1, 'approval_comment_type': 0, 'comment_sort_type': 0}, 'pic_num': 0, 'hot_page': {'fid': '232532_mblog', 'feed_detail_type': 0}, 'new_comment_style': 0, 'ab_switcher': 68, 'mlevel': 0, 'region_name': '发布于 北京', 'region_opt': 1, 'mblog_menu_new_style': 0, 'bid': 'O8NrT5uHB'}, 'show_type': 1, 'title': ''}]"
      ]
     },
     "execution_count": 22,
     "metadata": {},
     "output_type": "execute_result"
    }
   ],
   "source": [
    "p.statu"
   ]
  },
  {
   "cell_type": "code",
   "execution_count": null,
   "metadata": {},
   "outputs": [],
   "source": [
    "import requests\n",
    "import re\n",
    "import json\n",
    "import networkx as nx\n",
    "import matplotlib.pyplot as plt\n",
    "plt.rcParams['font.sans-serif'] = ['YouYuan']\n",
    "plt.rcParams['axes.unicode_minus'] = False \n",
    "\n",
    "# 请求文本\n",
    "def getHtmlText(url, code='UTF-8'):\n",
    "    trytime = 10\n",
    "    while trytime > 0:\n",
    "        try:\n",
    "            header = {\n",
    "                'User-Agent': 'Mozilla/5.0 (Windows NT 10.0; WOW64) AppleWebKit/537.36 (KHTML, like Gecko) Chrome/63.0.3239.26 Safari/537.36 Core/1.63.6726.400 QQBrowser/10.2.2265.400',\n",
    "            }\n",
    "            r = requests.get(url, headers=header, timeout=5)\n",
    "            r.raise_for_status()\n",
    "            r.encoding = code\n",
    "            return r.text\n",
    "        except:\n",
    "            print(\"get获取失败,重连中\")\n",
    "            trytime -= 1\n",
    "\n",
    "\n",
    "\n",
    "# 获取用户关注列表\n",
    "def getInterestList(uid, num):\n",
    "    url = 'https://m.weibo.cn/api/container/getIndex?containerid=231051_-_followers_-_{}&page=1'.format(uid)\n",
    "    data = json.loads(getHtmlText(url))\n",
    "    intertestList = []\n",
    "    cardlist = data['data']['cards']\n",
    "    for cards in cardlist:\n",
    "        if 'title' in cards and (cards['title'] == '她的全部关注' or '他的全部关注'):\n",
    "            i = 0\n",
    "            for card in cards['card_group']:\n",
    "                if i < num:\n",
    "                    person = {}\n",
    "                    person['id'] = card['user']['id']\n",
    "                    intertestList.append(person)\n",
    "                    i += 1\n",
    "    # with open('./interestList.json', 'w', encoding='utf-8') as f:\n",
    "    #     f.write(json.dumps(intertestList, ensure_ascii=False))\n",
    "    return intertestList\n",
    "\n",
    "\n",
    "# 深搜获取多层用户信息及用户关注列表\n",
    "def deepSearchList(list, uid, floor, num):\n",
    "    if floor == 0:\n",
    "        # print(list.keys())\n",
    "        if uid in list.keys():\n",
    "            print('{}有重复'.format(uid))\n",
    "            return list\n",
    "        else:\n",
    "            # print(list.keys())\n",
    "            # print(uid in list.keys())\n",
    "            list[str(uid)] = dict()\n",
    "            list[uid]['userInfo'] = getUserInfo(uid)\n",
    "            print('{}\\t{}\\t{}\\t{}'.format(uid, list[uid]['userInfo']['name'], list[uid]['userInfo']['gender'],\n",
    "                                          list[uid]['userInfo']['desc']))\n",
    "            return list\n",
    "    elif uid in list.keys() and 'interestList' in list[uid].keys():\n",
    "        # print('interestList' in list[uid].keys())\n",
    "        #print('{}有重复'.format(uid))\n",
    "        return list\n",
    "    else:\n",
    "        list[str(uid)] = dict()\n",
    "        list[uid]['userInfo'] = getUserInfo(uid)\n",
    "        list[uid]['interestList'] = getInterestList(uid, num)\n",
    "        print('{}\\t{}\\t{}\\t{}'.format(uid, list[uid]['userInfo']['name'],\n",
    "                                      list[uid]['userInfo']['gender'],\n",
    "                                      list[uid]['userInfo']['desc']))\n",
    "        i = 0\n",
    "        for interestList in list[uid]['interestList']:\n",
    "            if i < num:\n",
    "                list = deepSearchList(list, str(interestList['id']), floor - 1, num)\n",
    "                # with open('./list.json', 'w', encoding='utf-8') as f:\n",
    "                #     f.write(json.dumps(list, ensure_ascii=False))\n",
    "                i += 1\n",
    "        return list\n",
    "\n",
    "\n",
    "if __name__ == '__main__':\n",
    "    uid='******'   #微博的uid\n",
    "\n",
    "    try:\n",
    "        with open(f'./{uid}.json', 'r', encoding='utf-8') as f:\n",
    "            data = json.load(f)\n",
    "    except:\n",
    "        data = dict()\n",
    "    data = deepSearchList(data, uid, 10, 20)\n",
    "    with open(f'./{uid}.json', 'w', encoding='utf-8') as f:\n",
    "        f.write(json.dumps(data, ensure_ascii=False))\n",
    "#     print(data)\n",
    "#     print(len(data))\n",
    "\n",
    "    plt.figure(figsize=(20,10),dpi=100)\n",
    "    G = nx.DiGraph()\n",
    "    node_size_list = dict()\n",
    "    node_color_list = dict()\n",
    "    for person in data:\n",
    "        G.add_node(data[person]['userInfo']['name'])\n",
    "        node_size_list[data[person]['userInfo']['name']] = 0\n",
    "        node_color_list[data[person]['userInfo']['name']] = 'lightblue' if data[person]['userInfo']['gender'] == '男' else 'pink'\n",
    "    for person in data:\n",
    "        if 'interestList' in data[person].keys():\n",
    "            for interest in data[person]['interestList']:\n",
    "                #print('{} -> {}'.format(person, interest['id']))\n",
    "                G.add_edge(data[person]['userInfo']['name'],\n",
    "                           data[str(interest['id'])]['userInfo']['name'])\n",
    "                node_size_list[data[str(interest['id'])]['userInfo']['name']] += 1\n",
    "    nx.draw(G,\n",
    "            pos=nx.spring_layout(G),\n",
    "            with_labels=True,\n",
    "            node_size=[i * i * 250 + 100 for i in list(node_size_list.values())],\n",
    "            node_color=[i for i in list(node_color_list.values())],\n",
    "            width=0.6,\n",
    "            font_size=10)\n",
    "    plt.savefig(f\"./{uid}微博关系图.png\",dpi=100)\n",
    "    plt.show()\n"
   ]
  },
  {
   "cell_type": "code",
   "execution_count": 4,
   "metadata": {},
   "outputs": [
    {
     "ename": "TypeError",
     "evalue": "'_AxesStack' object is not callable",
     "output_type": "error",
     "traceback": [
      "\u001b[0;31m---------------------------------------------------------------------------\u001b[0m",
      "\u001b[0;31mTypeError\u001b[0m                                 Traceback (most recent call last)",
      "Cell \u001b[0;32mIn[4], line 16\u001b[0m\n\u001b[1;32m     13\u001b[0m G\u001b[38;5;241m.\u001b[39madd_edges_from(connections)\n\u001b[1;32m     15\u001b[0m \u001b[38;5;66;03m# 绘制图形\u001b[39;00m\n\u001b[0;32m---> 16\u001b[0m \u001b[43mnx\u001b[49m\u001b[38;5;241;43m.\u001b[39;49m\u001b[43mdraw\u001b[49m\u001b[43m(\u001b[49m\u001b[43mG\u001b[49m\u001b[43m,\u001b[49m\u001b[43m \u001b[49m\u001b[43mwith_labels\u001b[49m\u001b[38;5;241;43m=\u001b[39;49m\u001b[38;5;28;43;01mTrue\u001b[39;49;00m\u001b[43m)\u001b[49m\n",
      "File \u001b[0;32m/usr/local/lib/python3.8/dist-packages/networkx/drawing/nx_pylab.py:113\u001b[0m, in \u001b[0;36mdraw\u001b[0;34m(G, pos, ax, **kwds)\u001b[0m\n\u001b[1;32m    111\u001b[0m cf\u001b[38;5;241m.\u001b[39mset_facecolor(\u001b[38;5;124m\"\u001b[39m\u001b[38;5;124mw\u001b[39m\u001b[38;5;124m\"\u001b[39m)\n\u001b[1;32m    112\u001b[0m \u001b[38;5;28;01mif\u001b[39;00m ax \u001b[38;5;129;01mis\u001b[39;00m \u001b[38;5;28;01mNone\u001b[39;00m:\n\u001b[0;32m--> 113\u001b[0m     \u001b[38;5;28;01mif\u001b[39;00m \u001b[43mcf\u001b[49m\u001b[38;5;241;43m.\u001b[39;49m\u001b[43m_axstack\u001b[49m\u001b[43m(\u001b[49m\u001b[43m)\u001b[49m \u001b[38;5;129;01mis\u001b[39;00m \u001b[38;5;28;01mNone\u001b[39;00m:\n\u001b[1;32m    114\u001b[0m         ax \u001b[38;5;241m=\u001b[39m cf\u001b[38;5;241m.\u001b[39madd_axes((\u001b[38;5;241m0\u001b[39m, \u001b[38;5;241m0\u001b[39m, \u001b[38;5;241m1\u001b[39m, \u001b[38;5;241m1\u001b[39m))\n\u001b[1;32m    115\u001b[0m     \u001b[38;5;28;01melse\u001b[39;00m:\n",
      "\u001b[0;31mTypeError\u001b[0m: '_AxesStack' object is not callable"
     ]
    },
    {
     "data": {
      "text/plain": [
       "<Figure size 640x480 with 0 Axes>"
      ]
     },
     "metadata": {},
     "output_type": "display_data"
    }
   ],
   "source": [
    "import networkx as nx\n",
    "import matplotlib.pyplot as plt\n",
    "\n",
    "# 创建一个空的无向图\n",
    "G = nx.Graph()\n",
    "\n",
    "# 添加节点\n",
    "users = ['A', 'B', 'C', 'D', 'E']\n",
    "G.add_nodes_from(users)\n",
    "\n",
    "# 添加边\n",
    "connections = [('A', 'B'), ('A', 'C'), ('A', 'D'), ('B', 'C'), ('B', 'D'), ('C', 'D'), ('C', 'E')]\n",
    "G.add_edges_from(connections)\n",
    "\n",
    "# 绘制图形\n",
    "nx.draw(G, with_labels=True)\n",
    "\n"
   ]
  }
 ],
 "metadata": {
  "kernelspec": {
   "display_name": "Python 3",
   "language": "python",
   "name": "python3"
  },
  "language_info": {
   "codemirror_mode": {
    "name": "ipython",
    "version": 3
   },
   "file_extension": ".py",
   "mimetype": "text/x-python",
   "name": "python",
   "nbconvert_exporter": "python",
   "pygments_lexer": "ipython3",
   "version": "3.8.10"
  }
 },
 "nbformat": 4,
 "nbformat_minor": 2
}
